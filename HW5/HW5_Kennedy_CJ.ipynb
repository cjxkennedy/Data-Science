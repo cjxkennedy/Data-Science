{
 "cells": [
  {
   "cell_type": "markdown",
   "metadata": {},
   "source": [
    "# Homework 05: CRV's, PDF's, CDF's\n",
    "***\n",
    "\n",
    "**Name**: CJ Kennedy\n",
    "\n",
    "***\n",
    "\n",
    "This assignment is due on Canvas by **6:00PM on Friday September 30**. Your solutions to theoretical questions should be done in Markdown directly below the associated question.  Your solutions to computational questions should include any specified Python code and results as well as written commentary on your conclusions.  Remember that you are encouraged to discuss the problems with your classmates, but **you must write all code and solutions on your own**.\n",
    "\n",
    "**NOTES**: \n",
    "\n",
    "- Any relevant data sets should be available in the Homework 01 assignment write-up on Canvas. To make life easier on the grader if they need to run your code, do not change the relative path names here. Instead, move the files around on your computer.\n",
    "- If you're not familiar with typesetting math directly into Markdown then by all means, do your work on paper first and then typeset it later.  Remember that there is a [reference guide](https://math.meta.stackexchange.com/questions/5020/mathjax-basic-tutorial-and-quick-reference) linked on Canvas on writing math in Markdown. **All** of your written commentary, justifications and mathematical work should be in Markdown.\n",
    "- Because you can technically evaluate notebook cells is a non-linear order, it's a good idea to do $\\color{red}{\\text{Kernel}}$ $\\color{red}\\rightarrow$ $\\color{red}{\\text{Restart & Run All}}$ as a check before submitting your solutions.  That way if we need to run your code you will know that it will work as expected. \n",
    "- It is **bad form** to make your reader interpret numerical output from your code.  If a question asks you to compute some value from the data you should show your code output **AND** $\\color{red}{\\text{write a summary of the results}}$ in Markdown directly below your code. \n",
    "- This probably goes without saying, but... For any question that asks you to calculate something, you **must show all work and justify your answers to receive credit**. Sparse or nonexistent work will receive sparse or nonexistent credit. \n",
    "- **All the solutions should be solved by hand instead of using python in-built functions or external libraries unless mentioned explicitly**.\n",
    "\n",
    "---"
   ]
  },
  {
   "cell_type": "markdown",
   "metadata": {},
   "source": [
    "Import Pandas, NumPy, and matplotlib.pylab"
   ]
  },
  {
   "cell_type": "code",
   "execution_count": 1,
   "metadata": {},
   "outputs": [],
   "source": [
    "# Per the standard import pandas as 'pd', numpy as 'np', and matplotlib as 'plt'\n",
    "import pandas as pd\n",
    "import numpy as np\n",
    "import matplotlib.pylab as plt\n",
    "%matplotlib inline \n",
    "    # 'inline' puts your graph in the cell versus a new popup window"
   ]
  },
  {
   "cell_type": "markdown",
   "metadata": {
    "tags": []
   },
   "source": [
    "# Problem 1\n",
    "***\n",
    "Suppose $X$ is a continuous random variable with a probability density function given by $f(x)=3x^2$ over $(a, 2)$. "
   ]
  },
  {
   "cell_type": "code",
   "execution_count": 2,
   "metadata": {},
   "outputs": [
    {
     "name": "stdout",
     "output_type": "stream",
     "text": [
      "11.0\n"
     ]
    },
    {
     "data": {
      "image/png": "[encoded data removed]",
      "text/plain": [
       "<Figure size 432x288 with 1 Axes>"
      ]
     },
     "metadata": {
      "needs_background": "light"
     },
     "output_type": "display_data"
    }
   ],
   "source": [
    "# This is just a visual for the PDF\n",
    "\n",
    "x = np.linspace(-4,4,100)\n",
    "y = 3*x**2\n",
    "\n",
    "plt.plot(x,y)\n",
    "\n",
    "plt.plot(2,12, marker=\"o\", markersize=10, markeredgecolor=\"red\", markerfacecolor=\"green\")\n",
    "\n",
    "print(3*np.sqrt(11/3)**2)"
   ]
  },
  {
   "cell_type": "markdown",
   "metadata": {},
   "source": [
    "### Part A\n",
    "\n",
    "***(4 points)*** What is $a$ such that $f(x)$ is a valid PDF?"
   ]
  },
  {
   "cell_type": "markdown",
   "metadata": {},
   "source": [
    "***solution:*** \n",
    "\n",
    "A valid PDF would entail:\n",
    "\n",
    "$ \\int_a^2 (3x^2)dx = 1$\n",
    "\n",
    "$ \\Rightarrow |_a^2 (x^3) = 1 $\n",
    "\n",
    "$ (8)-(a)^3 = 1 $\n",
    "\n",
    "$ 7 = a^3 $\n",
    "\n",
    "$ a = 7^{\\frac{1}{3}} $"
   ]
  },
  {
   "cell_type": "markdown",
   "metadata": {},
   "source": [
    "### Part B\n",
    "\n",
    "***(2 points)*** What is $P(X=1.95)$ ?"
   ]
  },
  {
   "cell_type": "markdown",
   "metadata": {},
   "source": [
    "***solution:*** \n",
    "\n",
    "$ P(X=1.95) = 3(1.95^2) = 11.4075 $\n"
   ]
  },
  {
   "cell_type": "markdown",
   "metadata": {},
   "source": [
    "### Part C\n",
    "\n",
    "***(2 points)*** What is $P(X<2)$ ?"
   ]
  },
  {
   "cell_type": "markdown",
   "metadata": {},
   "source": [
    "***solution:***\n",
    "\n",
    "$ P(X < 2) = \\int_a^2 f(x)dx  $\n",
    "\n",
    "$ = \\int_a^2 3x^2 dx = |_a^2 x^3 $\n",
    "\n",
    "$ = (2^3)-(7^{\\frac{1}{3}})^3 $\n",
    "\n",
    "$ = (8-7) = 1 $"
   ]
  },
  {
   "cell_type": "markdown",
   "metadata": {},
   "source": [
    "### Part D\n",
    "\n",
    "***(3 points)*** What is $P(1.95 < X < 2)$ ?"
   ]
  },
  {
   "cell_type": "markdown",
   "metadata": {},
   "source": [
    "***solution:*** \n",
    "\n",
    "$ P(1.95< X < 2) = \\int_{1.95}^2 f(x)dx  $\n",
    "\n",
    "$ = \\int_{1.95}^2 3x^2 dx = |_{1.95}^2 x^3 $\n",
    "\n",
    "$ = (2^3)-(1.95)^3 $\n",
    "\n",
    "$ = (8-7.414875) $\n",
    "\n",
    "$ \\therefore  P(1.95< X < 2) = 0.585125 $"
   ]
  },
  {
   "cell_type": "markdown",
   "metadata": {
    "tags": []
   },
   "source": [
    "# Problem 2\n",
    "***\n",
    "\n",
    "Suppose the PDF of a continous random variable, $X$, appeared as follows:\n",
    "\n",
    "![title](triangle.png)"
   ]
  },
  {
   "cell_type": "markdown",
   "metadata": {},
   "source": [
    "### Part A\n",
    "\n",
    "***(4 points)*** Write the CDF as an explicit function."
   ]
  },
  {
   "cell_type": "markdown",
   "metadata": {},
   "source": [
    "***solution:*** Put your solution to Part A here:\n",
    "\n",
    "First, the PDF over intervals (-1, 0) is $1+x$ while over (0,1) it is $1-x$. Furthermore, before $-1$ and after $1$, the values are 0. Explicitly define $f(x)$:\n",
    "\n",
    "$$\n",
    "\\begin{equation}\n",
    "f(x)=\n",
    "    \\begin{cases}\n",
    "        1+x & \\text{if } -1 \\leq x \\leq 0\\\\\n",
    "        1-x & \\text{if } 0 \\lt x \\leq 1\\\\\n",
    "        0 &  otherwise\\\\\n",
    "    \\end{cases}\n",
    "\\end{equation}\n",
    "$$\n",
    "\n",
    "Note, the \"otherwise\" applies to $x>1$ or $x<-1$. Then, integration to find $F(x)$:\n",
    "\n",
    "$$\n",
    "\\begin{equation}\n",
    "F(x)=\n",
    "    \\begin{cases}\n",
    "        x+\\frac{x^2}{2} & \\text{if } -1 \\leq x \\leq 0\\\\\n",
    "        x-\\frac{x^2}{2} & \\text{if } 0 \\lt x \\leq 1\\\\\n",
    "        0 &  otherwise\\\\\n",
    "    \\end{cases}\n",
    "\\end{equation}\n",
    "$$\n"
   ]
  },
  {
   "cell_type": "markdown",
   "metadata": {},
   "source": [
    "### Part B\n",
    "\n",
    "***(3 points)*** Graph $F(x)$."
   ]
  },
  {
   "attachments": {
    "086d341d-56ee-48f0-b93d-8b14fbaebb24.PNG": {
     "image/png": "[encoded data removed]"
    }
   },
   "cell_type": "markdown",
   "metadata": {},
   "source": [
    "***solution:*** Put your solution (drawn, attached, or coded) to Part B here:\n",
    "\n",
    "![graph.PNG](attachment:086d341d-56ee-48f0-b93d-8b14fbaebb24.PNG)"
   ]
  },
  {
   "cell_type": "markdown",
   "metadata": {},
   "source": [
    "### Part C\n",
    "\n",
    "***(2 points)*** What is $P(-\\frac{1}{2} < X < 0)$ ?"
   ]
  },
  {
   "cell_type": "markdown",
   "metadata": {},
   "source": [
    "***solution:*** Put your solution to Part C here:\n",
    "\n",
    "Noting the bounds:\n",
    "\n",
    "$F(x) = x+\\frac{x^2}{2}$\n",
    "\n",
    "Evaluation:\n",
    "\n",
    "$\\Rightarrow F(x) |_{-\\frac{1}{2}}^0  $\n",
    "\n",
    "$= (0)-(-\\frac{1}{2}+\\frac{1}{2}(-\\frac{1}{2})^2) $\n",
    "\n",
    "$ = \\frac{3}{8} $\n",
    "\n",
    "$ \\therefore P(-\\frac{1}{2} < X < 0) = \\frac{3}{8}$"
   ]
  },
  {
   "cell_type": "markdown",
   "metadata": {
    "tags": []
   },
   "source": [
    "# Problem 3\n",
    "***\n",
    "\n",
    "Suppose $X$ is a continuous random variable with probability density function given by $f(x) = \\frac{1}{4}$ for $5 < x < 9$."
   ]
  },
  {
   "cell_type": "markdown",
   "metadata": {},
   "source": [
    "### Part A\n",
    "\n",
    "***(2 points)*** What is the median? Justify your answer using the density functions."
   ]
  },
  {
   "cell_type": "markdown",
   "metadata": {},
   "source": [
    "***solution:*** Put your solution to Part A here:\n",
    "\n",
    "$ F(x) = \\int_5^x f(x) du = \\int_5^x \\frac{1}{4} du  $\n",
    "\n",
    "$ F(x) = |_5^x \\frac{u}{4} = \\frac{x}{4}-\\frac{5}{4}$\n",
    "\n",
    "The median, $\\pi_{.50}$, can be solved for with:\n",
    "\n",
    "$ P(X \\leq m) = F(x) == .5 $\n",
    "\n",
    "$ \\Rightarrow  \\frac{x}{4}-\\frac{5}{4} = \\frac{1}{2} $\n",
    "\n",
    "$ \\Rightarrow \\frac{x}{4} = \\frac{7}{4} $\n",
    "\n",
    "$ \\therefore x = 7 $\n",
    "\n",
    "The median is $7$.\n"
   ]
  },
  {
   "cell_type": "markdown",
   "metadata": {
    "tags": []
   },
   "source": [
    "### Part B\n",
    "\n",
    "***(2 points)*** What is the 3rd quartile?"
   ]
  },
  {
   "cell_type": "markdown",
   "metadata": {},
   "source": [
    "***solution:***\n",
    "\n",
    "We know $ F(x) = |_5^x \\frac{u}{4} = \\frac{x}{4}-\\frac{5}{4}$.\n",
    "\n",
    "The 3rd quartile can be represented as $\\pi_{.75}$:\n",
    "\n",
    "$ P(X \\leq m) = F(x) == .75 $\n",
    "\n",
    "$ \\Rightarrow  \\frac{x}{4}-\\frac{5}{4} = \\frac{3}{4} $\n",
    "\n",
    "$ \\Rightarrow \\frac{x}{4} = \\frac{8}{4} $\n",
    "\n",
    "$ \\therefore x = 8 $\n",
    "\n",
    "The 3rd quartile is $8$."
   ]
  },
  {
   "cell_type": "markdown",
   "metadata": {
    "tags": []
   },
   "source": [
    "### Part C\n",
    "\n",
    "***(3 points)*** What is the 80th percentile?"
   ]
  },
  {
   "cell_type": "markdown",
   "metadata": {},
   "source": [
    "***solution:***\n",
    "\n",
    "$ F(x) = \\frac{x}{4}-\\frac{5}{4}$.\n",
    "\n",
    "The 80th percentile, $\\pi_{.80}$, can be solved for with:\n",
    "\n",
    "$ P(X \\leq m) = F(x) == .80 $\n",
    "\n",
    "$ \\Rightarrow  \\frac{x}{4}-\\frac{5}{4} = \\frac{8}{10} $\n",
    "\n",
    "$ \\Rightarrow \\frac{x}{4} = \\frac{41}{20} $\n",
    "\n",
    "$ \\therefore x = \\frac{41}{5} $\n",
    "\n",
    "The 80th percentile is $8.2$.\n",
    "\n"
   ]
  },
  {
   "cell_type": "markdown",
   "metadata": {
    "tags": []
   },
   "source": [
    "# Problem 4\n",
    "***\n",
    "\n",
    "Let $X$ be a continuous random variable with the following probability density function: $f(x) = \\frac{1}{2}(x+1)$ for $-1 < x < 1$.\n",
    "\n",
    "***(4 points)*** What is the $64^{\\text{th}}$ percentile of $X$?\n"
   ]
  },
  {
   "cell_type": "markdown",
   "metadata": {},
   "source": [
    "***solution:*** Put your answer to Problem 4 here:\n",
    "\n",
    "$f(x) = \\frac{1}{2}(x+1) $\n",
    "\n",
    "$F(x) = \\int_{-1}^{x} f(x)du $\n",
    "\n",
    "$F(x) = \\frac{1}{2}(u+1) du$\n",
    "\n",
    "$F(x) = \\frac{u^2}{4}+\\frac{u}{2} |_{-1}^x $\n",
    "\n",
    "$F(x) = (\\frac{x^2}{4}+\\frac{x}{2})-(\\frac{(-1)^2}{4}+\\frac{-1}{2}) $\n",
    "\n",
    "$F(x) = (\\frac{x^2}{4}+\\frac{x}{2})-(\\frac{1}{4}-\\frac{2}{4}) $\n",
    "\n",
    "$F(x) = (\\frac{x^2}{4}+\\frac{x}{2})+(\\frac{1}{4}) $\n",
    "\n",
    "$F(x) = \\frac{1}{4}({x^2}+2x+1) $\n",
    "\n",
    "The 64th percentile, $\\pi_{.64}$, can be solved for with:\n",
    "\n",
    "$\\Rightarrow F(x) = .64 $\n",
    "\n",
    "$ \\frac{1}{4}({x^2}+2x+1) = .64 $\n",
    "\n",
    "$ (x^2+2x+1) = 2.56 $\n",
    "\n",
    "Solving for x:\n",
    "\n",
    "$ x^{2}+2x-1.56 = 0 $\n",
    "\n",
    "$ x = -2.6, 0.6 $\n",
    "\n",
    "Obviously, the negative number is ignored.\n",
    "\n",
    "So, the $64^{\\text{th}}$ percentile of $X$ is $0.6$\n"
   ]
  },
  {
   "cell_type": "markdown",
   "metadata": {
    "tags": []
   },
   "source": [
    "# Problem 5\n",
    "***\n",
    "\n",
    "Consider the PDF named $P$ below:\n",
    "\n",
    "$$\\huge{P(x; \\mu, \\sigma) = \\frac{1}{\\sigma \\sqrt{2 \\pi}} e^{- \\frac{1}{2}\\left(\\frac{x-\\mu}{\\sigma} \\right)^2}}$$"
   ]
  },
  {
   "cell_type": "markdown",
   "metadata": {},
   "source": [
    "### Part A\n",
    "\n",
    "***(3 points)*** Write a function that takes $x$, $\\sigma$ and $\\mu$ as inputs.\n",
    "\n",
    "The function should return the value of $P$."
   ]
  },
  {
   "cell_type": "code",
   "execution_count": 3,
   "metadata": {},
   "outputs": [],
   "source": [
    "# code your function for Part A here (Allowed to use python libraries):\n",
    "def PDF(x,mu,sigma):\n",
    "    P = 1/(sigma*np.sqrt(2*np.pi))*np.exp((-1/2)*((x-mu)/sigma)**2)\n",
    "    return P"
   ]
  },
  {
   "cell_type": "markdown",
   "metadata": {},
   "source": [
    "### Part B\n",
    "\n",
    "Suppose $\\mu=0$ and $\\sigma=1$\n",
    "\n",
    "$\\phantom{xxx}1]$ ***(1 point)*** Use your function to find the height of the graph at $x=1$.\n",
    " \n",
    "$\\phantom{xxx}2]$ ***(1 point)*** Use your function to find the height of the graph at $x=1.1$.\n",
    "\n",
    "$\\phantom{xxx}3]$ ***(1 point)*** Use your function to find the height of the graph at $x=1.2$.\n",
    "\n",
    "Note : Do not round off your answers."
   ]
  },
  {
   "cell_type": "code",
   "execution_count": 4,
   "metadata": {},
   "outputs": [
    {
     "name": "stdout",
     "output_type": "stream",
     "text": [
      "P(𝑥=1)= 0.24197072451914337\n"
     ]
    }
   ],
   "source": [
    "# Solution to Part B, #1 here:\n",
    "print(\"P(𝑥=1)=\",PDF(1,0,1))"
   ]
  },
  {
   "cell_type": "code",
   "execution_count": 5,
   "metadata": {},
   "outputs": [
    {
     "name": "stdout",
     "output_type": "stream",
     "text": [
      "P(𝑥=1.1)= 0.21785217703255053\n"
     ]
    }
   ],
   "source": [
    "# Solution to Part B, #2 here:\n",
    "print(\"P(𝑥=1.1)=\",PDF(1.1,0,1))"
   ]
  },
  {
   "cell_type": "code",
   "execution_count": 6,
   "metadata": {},
   "outputs": [
    {
     "name": "stdout",
     "output_type": "stream",
     "text": [
      "P(𝑥=1.2)= 0.19418605498321295\n"
     ]
    }
   ],
   "source": [
    "# Solution to Part B #3 here:\n",
    "print(\"P(𝑥=1.2)=\",PDF(1.2,0,1))"
   ]
  },
  {
   "cell_type": "markdown",
   "metadata": {},
   "source": [
    "### Part C\n",
    "\n",
    "Still using $\\mu=0$ and $\\sigma=1$.\n",
    "\n",
    "***(4 points)*** Use your function to find the values of $P(x)$ for $x\\in[1,3]$ in steps of $0.2$. Hint: use an array; do NOT enter all values by hand. "
   ]
  },
  {
   "cell_type": "code",
   "execution_count": 7,
   "metadata": {},
   "outputs": [
    {
     "name": "stdout",
     "output_type": "stream",
     "text": [
      "\n",
      " Values of P(1:3) are:\n",
      "[0.24197072 0.19418605 0.14972747 0.11092083 0.07895016 0.05399097\n",
      " 0.03547459 0.02239453 0.01358297 0.00791545 0.00443185]\n",
      "\n",
      " Plot of Section:\n"
     ]
    },
    {
     "data": {
      "image/png": "[encoded data removed]",
      "text/plain": [
       "<Figure size 432x288 with 1 Axes>"
      ]
     },
     "metadata": {
      "needs_background": "light"
     },
     "output_type": "display_data"
    }
   ],
   "source": [
    "# Solution to Part B here\n",
    "x = np.linspace(1,3,11)\n",
    "partC = np.zeros(11)\n",
    "for i in range(0,11):\n",
    "    partC[i] =PDF(x[i],0,1);\n",
    "print(\"\\n Values of P(1:3) are:\")\n",
    "print(partC)\n",
    "print(\"\\n Plot of Section:\")\n",
    "# plot\n",
    "fig, ax = plt.subplots();\n",
    "\n",
    "ax.plot(x, partC, linewidth=2.0);\n",
    "ax.set_title(\"P(x)\");"
   ]
  },
  {
   "cell_type": "markdown",
   "metadata": {},
   "source": [
    "### Part D\n",
    "\n",
    "The graphs below are probability density functions produced by $P$:\n",
    "\n",
    "Different input values create the different graphs.\n",
    "\n",
    "![title](normal.png)"
   ]
  },
  {
   "cell_type": "markdown",
   "metadata": {},
   "source": [
    "***(2 points)*** How do the sizes of $\\sigma$ compare? i.e. which graph has the smallest $\\sigma$ and which has the largest?"
   ]
  },
  {
   "cell_type": "markdown",
   "metadata": {},
   "source": [
    "***solution:***\n",
    "\n",
    "The normal distribution shown by the graphs above are also described by the equation listed before part A.\n",
    "\n",
    "It is clear that decreasing $\\sigma$ or the standard deviation would increase the maximum value of $x$. Furthermore, increasing the standard deviation would spread out the function to make it more evenly distributed. \n",
    "\n",
    "Let's assign $\\sigma_i$ to graph $i$ for 1:3.\n",
    "\n",
    "Then: $\\sigma_3 > \\sigma_2 > \\sigma_1$\n"
   ]
  },
  {
   "cell_type": "markdown",
   "metadata": {
    "tags": []
   },
   "source": [
    "### Part E\n",
    "\n",
    "***(2 points)*** Referring to the same graphs mentioned/pictured in Part C, how do the sizes of $\\mu$ compare?"
   ]
  },
  {
   "cell_type": "markdown",
   "metadata": {
    "tags": []
   },
   "source": [
    "***solution:*** \n",
    "\n",
    "Increasing $\\mu$ or the mean has the effect of \"shifting\" the graphs to the right. This is because the mean describes the centerpoint of the PDF graph. However, each of the graphs are centered at the dashed line. So, all the means are the same.\n",
    "\n",
    "Thus, assigning $\\mu_i$ to each graph $i$: $\\mu_1 = \\mu_2 = \\mu_3$\n"
   ]
  },
  {
   "cell_type": "markdown",
   "metadata": {},
   "source": [
    "### Rubric Check\n",
    "***\n",
    "***(5 points)*** Makesure your answers are thorough but not redundant. Explain your answers, don't just put a number. Make sure you have matched your questions on Gradescope. Make sure your PDF is correct and your LaTeX is correct. etc. etc. BE NEAT."
   ]
  }
 ],
 "metadata": {
  "kernelspec": {
   "display_name": "Python 3 (ipykernel)",
   "language": "python",
   "name": "python3"
  },
  "language_info": {
   "codemirror_mode": {
    "name": "ipython",
    "version": 3
   },
   "file_extension": ".py",
   "mimetype": "text/x-python",
   "name": "python",
   "nbconvert_exporter": "python",
   "pygments_lexer": "ipython3",
   "version": "3.10.5"
  }
 },
 "nbformat": 4,
 "nbformat_minor": 4
}
