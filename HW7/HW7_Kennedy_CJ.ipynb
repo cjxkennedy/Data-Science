{
 "cells": [
  {
   "cell_type": "markdown",
   "metadata": {},
   "source": [
    "# Homework 07: The Normal Distribution, The Central Limit Theorem, Confidence Intervals\n",
    "***\n",
    "\n",
    "**Name**: CJ Kennedy\n",
    "\n",
    "***\n",
    "\n",
    "This assignment is due on Canvas by **6:00PM on Friday October 28**. Your solutions to theoretical questions should be done in Markdown directly below the associated question.  Your solutions to computational questions should include any specified Python code and results as well as written commentary on your conclusions.  Remember that you are encouraged to discuss the problems with your classmates, but **you must write all code and solutions on your own**.\n",
    "\n",
    "**NOTES**: \n",
    "\n",
    "- Any relevant data sets should be available in the Homework 01 assignment write-up on Canvas. To make life easier on the grader if they need to run your code, do not change the relative path names here. Instead, move the files around on your computer.\n",
    "- If you're not familiar with typesetting math directly into Markdown then by all means, do your work on paper first and then typeset it later.  Remember that there is a [reference guide](https://math.meta.stackexchange.com/questions/5020/mathjax-basic-tutorial-and-quick-reference) linked on Canvas on writing math in Markdown. **All** of your written commentary, justifications and mathematical work should be in Markdown.\n",
    "- Because you can technically evaluate notebook cells is a non-linear order, it's a good idea to do $\\color{red}{\\text{Kernel}}$ $\\color{red}\\rightarrow$ $\\color{red}{\\text{Restart & Run All}}$ as a check before submitting your solutions.  That way if we need to run your code you will know that it will work as expected. \n",
    "- It is **bad form** to make your reader interpret numerical output from your code.  If a question asks you to compute some value from the data you should show your code output **AND** $\\color{red}{\\text{write a summary of the results}}$ in Markdown directly below your code. \n",
    "- This probably goes without saying, but... For any question that asks you to calculate something, you **must show all work and justify your answers to receive credit**. Sparse or nonexistent work will receive sparse or nonexistent credit. \n",
    "\n",
    "---"
   ]
  },
  {
   "cell_type": "markdown",
   "metadata": {},
   "source": [
    "For this HW you will want to import a few of the usuals:"
   ]
  },
  {
   "cell_type": "code",
   "execution_count": 1,
   "metadata": {},
   "outputs": [],
   "source": [
    "# Per the standard import pandas as 'pd' and numpy as 'np'\n",
    "import pandas as pd\n",
    "import numpy as np\n",
    "import matplotlib.pylab as plt\n",
    "%matplotlib inline \n",
    "import scipy.stats as stats\n",
    "from scipy.stats import norm"
   ]
  },
  {
   "cell_type": "markdown",
   "metadata": {},
   "source": [
    "# Problem 1\n",
    "***\n",
    "We are going to look at some data from an insurance company that insures teenage drivers. `insurance.csv` is a sample of 1000 males and 1000 females all of whose ages are between 16 and 19 inclusive.\n",
    "\n",
    "This insurance company has decided to use 'sex' as a proxy for deciding how large of a premium to charge for car insurance.\n",
    "\n",
    "Read in the csv file `insurance.csv`.\n",
    "\n",
    "### Part A\n",
    "***(1 point)*** Load the `csv` file into a dataframe and call it `dfInsurance`:"
   ]
  },
  {
   "cell_type": "code",
   "execution_count": 22,
   "metadata": {},
   "outputs": [],
   "source": [
    "# Read 'insurance' into dfInsurance\n",
    "dfInsurance = pd.read_csv(\"insurance.csv\") "
   ]
  },
  {
   "cell_type": "markdown",
   "metadata": {},
   "source": [
    "### Part B\n",
    "***(1 point)*** Take a look at the data."
   ]
  },
  {
   "cell_type": "code",
   "execution_count": 3,
   "metadata": {},
   "outputs": [
    {
     "data": {
      "text/html": [
       "<div>\n",
       "<style scoped>\n",
       "    .dataframe tbody tr th:only-of-type {\n",
       "        vertical-align: middle;\n",
       "    }\n",
       "\n",
       "    .dataframe tbody tr th {\n",
       "        vertical-align: top;\n",
       "    }\n",
       "\n",
       "    .dataframe thead th {\n",
       "        text-align: right;\n",
       "    }\n",
       "</style>\n",
       "<table border=\"1\" class=\"dataframe\">\n",
       "  <thead>\n",
       "    <tr style=\"text-align: right;\">\n",
       "      <th></th>\n",
       "      <th>Sex</th>\n",
       "      <th>miles driven</th>\n",
       "      <th>Age</th>\n",
       "      <th>Citations</th>\n",
       "    </tr>\n",
       "  </thead>\n",
       "  <tbody>\n",
       "    <tr>\n",
       "      <th>0</th>\n",
       "      <td>F</td>\n",
       "      <td>4200.826390</td>\n",
       "      <td>18</td>\n",
       "      <td>0</td>\n",
       "    </tr>\n",
       "    <tr>\n",
       "      <th>1</th>\n",
       "      <td>F</td>\n",
       "      <td>5468.727014</td>\n",
       "      <td>17</td>\n",
       "      <td>0</td>\n",
       "    </tr>\n",
       "    <tr>\n",
       "      <th>2</th>\n",
       "      <td>F</td>\n",
       "      <td>5282.253745</td>\n",
       "      <td>18</td>\n",
       "      <td>0</td>\n",
       "    </tr>\n",
       "    <tr>\n",
       "      <th>3</th>\n",
       "      <td>F</td>\n",
       "      <td>5060.526521</td>\n",
       "      <td>17</td>\n",
       "      <td>0</td>\n",
       "    </tr>\n",
       "    <tr>\n",
       "      <th>4</th>\n",
       "      <td>F</td>\n",
       "      <td>5101.878224</td>\n",
       "      <td>16</td>\n",
       "      <td>2</td>\n",
       "    </tr>\n",
       "    <tr>\n",
       "      <th>...</th>\n",
       "      <td>...</td>\n",
       "      <td>...</td>\n",
       "      <td>...</td>\n",
       "      <td>...</td>\n",
       "    </tr>\n",
       "    <tr>\n",
       "      <th>1995</th>\n",
       "      <td>M</td>\n",
       "      <td>8433.768080</td>\n",
       "      <td>17</td>\n",
       "      <td>1</td>\n",
       "    </tr>\n",
       "    <tr>\n",
       "      <th>1996</th>\n",
       "      <td>M</td>\n",
       "      <td>8047.929523</td>\n",
       "      <td>18</td>\n",
       "      <td>1</td>\n",
       "    </tr>\n",
       "    <tr>\n",
       "      <th>1997</th>\n",
       "      <td>M</td>\n",
       "      <td>7285.647012</td>\n",
       "      <td>18</td>\n",
       "      <td>1</td>\n",
       "    </tr>\n",
       "    <tr>\n",
       "      <th>1998</th>\n",
       "      <td>M</td>\n",
       "      <td>8579.702457</td>\n",
       "      <td>18</td>\n",
       "      <td>0</td>\n",
       "    </tr>\n",
       "    <tr>\n",
       "      <th>1999</th>\n",
       "      <td>M</td>\n",
       "      <td>7868.067827</td>\n",
       "      <td>16</td>\n",
       "      <td>0</td>\n",
       "    </tr>\n",
       "  </tbody>\n",
       "</table>\n",
       "<p>2000 rows × 4 columns</p>\n",
       "</div>"
      ],
      "text/plain": [
       "     Sex  miles driven  Age  Citations\n",
       "0      F   4200.826390   18          0\n",
       "1      F   5468.727014   17          0\n",
       "2      F   5282.253745   18          0\n",
       "3      F   5060.526521   17          0\n",
       "4      F   5101.878224   16          2\n",
       "...   ..           ...  ...        ...\n",
       "1995   M   8433.768080   17          1\n",
       "1996   M   8047.929523   18          1\n",
       "1997   M   7285.647012   18          1\n",
       "1998   M   8579.702457   18          0\n",
       "1999   M   7868.067827   16          0\n",
       "\n",
       "[2000 rows x 4 columns]"
      ]
     },
     "execution_count": 3,
     "metadata": {},
     "output_type": "execute_result"
    }
   ],
   "source": [
    "# Take a look at the data here:\n",
    "dfInsurance"
   ]
  },
  {
   "cell_type": "markdown",
   "metadata": {},
   "source": [
    "### Data Description:\n",
    "\n",
    "This data contains records from a number of teenage drivers. The drivers were observed for 12 months and the number of miles they drove and the number of citations they received were recorded. Citations were for wreckless driving, disobeying traffic laws, speeding, and/or accidents.\n",
    "\n",
    "$\\color{red}{\\text{Sex}}$ - This is the sex of the driver.\n",
    "\n",
    "$\\color{red}{\\text{miles driven}}$ - This is the number of miles driven during the observation period.\n",
    "\n",
    "$\\color{red}{\\text{Age}}$ - This is the age of the driver at the beginning of the observation period.\n",
    "\n",
    "$\\color{red}{\\text{Citations}}$ - This is the number of citations received by the driver.\n"
   ]
  },
  {
   "cell_type": "markdown",
   "metadata": {},
   "source": [
    "### Part C\n",
    "***(2 points)*** Which sex has more overall citations?"
   ]
  },
  {
   "cell_type": "code",
   "execution_count": 27,
   "metadata": {},
   "outputs": [
    {
     "name": "stdout",
     "output_type": "stream",
     "text": [
      "Males have 468 citations while females have 397 citations.\n",
      "Therefore, males have more overall citations.\n"
     ]
    }
   ],
   "source": [
    "# Code here to print your answer:\n",
    "# sum citations\n",
    "count_1 = dfInsurance.loc[dfInsurance['Sex'] == 'M','Citations'].sum()\n",
    "count_2 = dfInsurance.loc[dfInsurance['Sex'] == 'F','Citations'].sum()\n",
    "print(\"Males have\",count_1,\"citations while females have\",count_2,\"citations.\")\n",
    "print(\"Therefore, males have more overall citations.\")"
   ]
  },
  {
   "cell_type": "markdown",
   "metadata": {},
   "source": [
    "### Part D\n",
    "***(2 points)*** Find the mean number of citations received by males and the mean number of citations received by females. Who received more citations in the year?\n"
   ]
  },
  {
   "cell_type": "code",
   "execution_count": 28,
   "metadata": {},
   "outputs": [
    {
     "name": "stdout",
     "output_type": "stream",
     "text": [
      "Males have a mean of 0.468 citations while females have a mean of  0.397 citations.\n",
      "In this dataset, the mean number of *male* citations received was higher.\n"
     ]
    }
   ],
   "source": [
    "#Code your answer here:\n",
    "# print both means\n",
    "male_mean = dfInsurance.loc[dfInsurance['Sex'] == 'M','Citations'].mean()\n",
    "female_mean = dfInsurance.loc[dfInsurance['Sex'] == 'F','Citations'].mean()\n",
    "print(\"Males have a mean of\",male_mean,\"citations while females have a mean of \",female_mean,\"citations.\")\n",
    "print(\"In this dataset, the mean number of *male* citations received was higher.\")"
   ]
  },
  {
   "cell_type": "markdown",
   "metadata": {},
   "source": [
    "### Part E\n",
    "***(3 points)*** Estimate the difference in population means (for citations received) by creating a 95% CI for the difference between the sample means for number of citations received by males and females.\n",
    "\n",
    "Recall the equation below from lecture. Perform the proper calculations 'by hand' (i.e. code without a canned function).\n",
    "\n",
    "$\\bar{X}-\\bar{Y}\\pm Z_{\\frac{\\alpha}{2}}\\cdot\\sqrt{\\frac{\\sigma_1^2}{m}+\\frac{\\sigma_2^2}{n}}$"
   ]
  },
  {
   "cell_type": "code",
   "execution_count": 31,
   "metadata": {},
   "outputs": [
    {
     "name": "stdout",
     "output_type": "stream",
     "text": [
      "The difference in population means with a 95% CI gives [ 0.00287 , 0.13913 ]\n"
     ]
    }
   ],
   "source": [
    "# Code your answer here:\n",
    "# get data\n",
    "x = dfInsurance.loc[dfInsurance['Sex'] == 'M','Citations']\n",
    "y = dfInsurance.loc[dfInsurance['Sex'] == 'F','Citations']\n",
    "# calculate mean, standard deviation, and count\n",
    "X = male_mean # male mean\n",
    "Y = female_mean # female mean\n",
    "std1 = np.std(x) # male std\n",
    "std2 = np.std(y) # female std\n",
    "m = dfInsurance.loc[dfInsurance['Sex'] == 'M','Citations'].count()\n",
    "n = dfInsurance.loc[dfInsurance['Sex'] == 'F','Citations'].count()\n",
    "z = 1.96\n",
    "b1 = X-Y+z*np.sqrt((std1**2)/m + (std2**2)/n) # bound 1\n",
    "b2 = X-Y-z*np.sqrt((std1**2)/m + (std2**2)/n) # bound 1\n",
    "print(\"The difference in population means with a 95% CI gives [\",np.round(b2,5),\",\",np.round(b1,5),\"]\")"
   ]
  },
  {
   "cell_type": "markdown",
   "metadata": {},
   "source": [
    "### Part F\n",
    "***(1 point)*** Is 0 inside the confidence interval? Describe the meaning of your results.\n"
   ]
  },
  {
   "cell_type": "markdown",
   "metadata": {},
   "source": [
    "Solution here:\n",
    "The bounds of the interval are [ -0.03273 , 0.17473 ]. So, 0 IS included inside the confidence interval. We would then conclude that number of citations received is no different, on average, than citations received by females. We could first say males receive, on average, 0.174 more citations per year than males. Or, females on average receive 0.033 more citations.\n"
   ]
  },
  {
   "cell_type": "markdown",
   "metadata": {},
   "source": [
    "### Part G\n",
    "***(4 points)*** Compare the number of miles driven per year by each sex. Start by getting a visual representation of the number of miles driven by each sex. Graph both male and female 'miles driven' distributions in the same frame for comparison.\n"
   ]
  },
  {
   "cell_type": "code",
   "execution_count": 7,
   "metadata": {},
   "outputs": [
    {
     "name": "stdout",
     "output_type": "stream",
     "text": [
      "Total miles driven by males: 8508075.4\n",
      "Total miles driven by females: 5216558.5\n"
     ]
    },
    {
     "data": {
      "image/png": "[encoded data removed]",
      "text/plain": [
       "<Figure size 720x288 with 1 Axes>"
      ]
     },
     "metadata": {
      "needs_background": "light"
     },
     "output_type": "display_data"
    }
   ],
   "source": [
    "# Code your answer here:\n",
    "#1 get sum of miles driven\n",
    "num_male = dfInsurance.loc[dfInsurance['Sex'] == 'M','miles driven'].sum()\n",
    "num_female = dfInsurance.loc[dfInsurance['Sex'] == 'F','miles driven'].sum()\n",
    "print(\"Total miles driven by males:\",np.round(num_male,1))\n",
    "print(\"Total miles driven by females:\",np.round(num_female,1))\n",
    "#2 plotting adapted from nb12\n",
    "z1 = dfInsurance.loc[dfInsurance['Sex'] == 'M','miles driven']\n",
    "z2 = dfInsurance.loc[dfInsurance['Sex'] == 'F','miles driven']\n",
    "fig, ax = plt.subplots(nrows=1, ncols=1, figsize=(10,4))\n",
    "   #initialize the axis and frame for your picture\n",
    "pd.Series(z1).hist(ax=ax, bins=20, color=\"steelblue\", density=True, edgecolor=\"white\")\n",
    "pd.Series(z2).hist(ax=ax, bins=20, color=\"red\", density=True, edgecolor=\"white\")\n",
    "\n",
    "ax.set_title(\"Distributions of Miles Driven by Females (Red) and Males (Blue)\")\n",
    "ax.grid(alpha=0.25)\n",
    "ax.set_axisbelow(True)\n",
    "#plt.xticks(range(-10,10+1));\n",
    "ax.set_xlim([3000,11000]);\n",
    "#ax.set_ylim([0,.5]);\n"
   ]
  },
  {
   "cell_type": "markdown",
   "metadata": {},
   "source": [
    "### Part H\n",
    "***(1 point)*** Based on the distributions, who appears to drive more miles in a year? Is there any overlap of histograms? Describe what you have found.\n"
   ]
  },
  {
   "cell_type": "markdown",
   "metadata": {},
   "source": [
    "Solution: \n",
    "\n",
    "The female distribution of miles driven every year (in red) is compared to the equivalent male distribution (in blue). The middle of the blue distribution is around 8500 and doesnt go much below 7000. The female distribution sees little significance past 7000. Thus, there is little overlap. So, we could conclude for the data, males drive more miles per year."
   ]
  },
  {
   "cell_type": "markdown",
   "metadata": {},
   "source": [
    "### Part I\n",
    "***(2 points)*** What is the difference in mean miles driven by the two groups (male and female)?"
   ]
  },
  {
   "cell_type": "code",
   "execution_count": 8,
   "metadata": {},
   "outputs": [
    {
     "name": "stdout",
     "output_type": "stream",
     "text": [
      "Males drive a mean miles of 8508.07537070199 while females drive 5216.558464690003 miles.\n",
      "The difference in mean miles driven is 3291.52 miles.\n"
     ]
    }
   ],
   "source": [
    "# Code solution here:\n",
    "# get means\n",
    "male_mean = dfInsurance.loc[dfInsurance['Sex'] == 'M','miles driven'].mean()\n",
    "female_mean = dfInsurance.loc[dfInsurance['Sex'] == 'F','miles driven'].mean()\n",
    "print(\"Males drive a mean miles of\",male_mean,\"while females drive\",female_mean,\"miles.\")\n",
    "# print difference\n",
    "diff = np.round(male_mean-female_mean,2)\n",
    "print(\"The difference in mean miles driven is\",diff,\"miles.\")"
   ]
  },
  {
   "cell_type": "markdown",
   "metadata": {},
   "source": [
    "### Part J\n",
    "***(3 points)*** Estimate the difference in population means (for miles driven) by creating a 95% CI for the difference between the sample means for 'miles driven' by males and females.\n",
    "\n",
    "Recall the equation below from lecture. Perform the proper calculations 'by hand' (i.e. code without a canned function).\n",
    "\n",
    "$\\bar{X}-\\bar{Y}\\pm Z_{\\frac{\\alpha}{2}}\\cdot\\sqrt{\\frac{\\sigma_1^2}{m}+\\frac{\\sigma_2^2}{n}}$\n",
    "\n",
    "Create a 95% CI for the difference in miles driven per year."
   ]
  },
  {
   "cell_type": "code",
   "execution_count": 9,
   "metadata": {},
   "outputs": [
    {
     "name": "stdout",
     "output_type": "stream",
     "text": [
      "The difference in population means (for miles driven) with a 95% CI gives [ 3243.63249 , 3339.40132 ]\n"
     ]
    }
   ],
   "source": [
    "# Code solution here:\n",
    "# get data\n",
    "x = dfInsurance.loc[dfInsurance['Sex'] == 'M','miles driven']\n",
    "y = dfInsurance.loc[dfInsurance['Sex'] == 'F','miles driven']\n",
    "# calculations\n",
    "X = np.mean(x) # male mean\n",
    "Y = np.mean(y) # female mean\n",
    "std1 = np.std(x) # male std\n",
    "std2 = np.std(y) # female std\n",
    "# lengths\n",
    "m = len(x)\n",
    "n = len(y)\n",
    "z = 1.96\n",
    "# interval calculation\n",
    "b1 = X-Y+z*np.sqrt(std1**2/m + (std2**2)/n) # bound 1\n",
    "b2 = X-Y-z*np.sqrt(std1**2/m + (std2**2)/n) # bound 1\n",
    "print(\"The difference in population means (for miles driven) with a 95% CI gives [\",np.round(b2,5),\",\",np.round(b1,5),\"]\")"
   ]
  },
  {
   "cell_type": "markdown",
   "metadata": {},
   "source": [
    "### Part K\n",
    "***(1 points)*** Is 0 in the interval? Describe your findings."
   ]
  },
  {
   "cell_type": "markdown",
   "metadata": {},
   "source": [
    "Solution:\n",
    "The bounds of the confidence interval is [ 3243.63249 , 3339.40132 ] which does NOT include 0. So we can say the following for the dataset. On average, males drive more miles every year than females by somewhere between 3244 and 3339 miles.\n"
   ]
  },
  {
   "cell_type": "markdown",
   "metadata": {},
   "source": [
    "### Part L\n",
    "***(4 points)*** Create a column called 'CPM'(this acronym stands for citations per 1000 miles), and put in it the number of citations divided by the number of miles driven (multiplied by 1000). The multiplication by 1000 ensures we are looking at citations per 1000 miles. This is done because the numbers are so small.\n",
    "\n",
    "After you create the 'CPM' column look at the tail of the dataframe."
   ]
  },
  {
   "cell_type": "code",
   "execution_count": 10,
   "metadata": {},
   "outputs": [
    {
     "data": {
      "text/html": [
       "<div>\n",
       "<style scoped>\n",
       "    .dataframe tbody tr th:only-of-type {\n",
       "        vertical-align: middle;\n",
       "    }\n",
       "\n",
       "    .dataframe tbody tr th {\n",
       "        vertical-align: top;\n",
       "    }\n",
       "\n",
       "    .dataframe thead th {\n",
       "        text-align: right;\n",
       "    }\n",
       "</style>\n",
       "<table border=\"1\" class=\"dataframe\">\n",
       "  <thead>\n",
       "    <tr style=\"text-align: right;\">\n",
       "      <th></th>\n",
       "      <th>Sex</th>\n",
       "      <th>miles driven</th>\n",
       "      <th>Age</th>\n",
       "      <th>Citations</th>\n",
       "      <th>CPM</th>\n",
       "    </tr>\n",
       "  </thead>\n",
       "  <tbody>\n",
       "    <tr>\n",
       "      <th>1995</th>\n",
       "      <td>M</td>\n",
       "      <td>8433.768080</td>\n",
       "      <td>17</td>\n",
       "      <td>1</td>\n",
       "      <td>0.118571</td>\n",
       "    </tr>\n",
       "    <tr>\n",
       "      <th>1996</th>\n",
       "      <td>M</td>\n",
       "      <td>8047.929523</td>\n",
       "      <td>18</td>\n",
       "      <td>1</td>\n",
       "      <td>0.124256</td>\n",
       "    </tr>\n",
       "    <tr>\n",
       "      <th>1997</th>\n",
       "      <td>M</td>\n",
       "      <td>7285.647012</td>\n",
       "      <td>18</td>\n",
       "      <td>1</td>\n",
       "      <td>0.137256</td>\n",
       "    </tr>\n",
       "    <tr>\n",
       "      <th>1998</th>\n",
       "      <td>M</td>\n",
       "      <td>8579.702457</td>\n",
       "      <td>18</td>\n",
       "      <td>0</td>\n",
       "      <td>0.000000</td>\n",
       "    </tr>\n",
       "    <tr>\n",
       "      <th>1999</th>\n",
       "      <td>M</td>\n",
       "      <td>7868.067827</td>\n",
       "      <td>16</td>\n",
       "      <td>0</td>\n",
       "      <td>0.000000</td>\n",
       "    </tr>\n",
       "  </tbody>\n",
       "</table>\n",
       "</div>"
      ],
      "text/plain": [
       "     Sex  miles driven  Age  Citations       CPM\n",
       "1995   M   8433.768080   17          1  0.118571\n",
       "1996   M   8047.929523   18          1  0.124256\n",
       "1997   M   7285.647012   18          1  0.137256\n",
       "1998   M   8579.702457   18          0  0.000000\n",
       "1999   M   7868.067827   16          0  0.000000"
      ]
     },
     "execution_count": 10,
     "metadata": {},
     "output_type": "execute_result"
    }
   ],
   "source": [
    "# Code your solution here:\n",
    "dfInsurance['CPM'] = dfInsurance['Citations']/dfInsurance['miles driven']*1000\n",
    "dfInsurance.tail()"
   ]
  },
  {
   "cell_type": "markdown",
   "metadata": {},
   "source": [
    "### Part M\n",
    "***(2 points)*** Look at the difference in means for male CPM and female CPM. Which sex receive more citations per 1000 miles?"
   ]
  },
  {
   "cell_type": "code",
   "execution_count": 11,
   "metadata": {},
   "outputs": [
    {
     "name": "stdout",
     "output_type": "stream",
     "text": [
      "The mean female CPM: 5216.5585\n",
      "The mean male CPM: 8508.0754\n",
      "Per 1000 miles, females received more citations\n"
     ]
    }
   ],
   "source": [
    "# Code solution here:\n",
    "x = dfInsurance.loc[dfInsurance['Sex']=='M','CPM'] # male data\n",
    "y = dfInsurance.loc[dfInsurance['Sex']=='F','CPM'] # female data\n",
    "X = np.mean(X) # male CPM mean\n",
    "Y = np.mean(Y) # female CPM mean\n",
    "print(\"The mean female CPM:\",np.round(Y,4))\n",
    "print(\"The mean male CPM:\",np.round(X,4))\n",
    "print(\"Per 1000 miles, females received more citations\")"
   ]
  },
  {
   "cell_type": "markdown",
   "metadata": {},
   "source": [
    "### Part N\n",
    "***(1 point)*** You should have discovered that females get more citations per mile than do males. How does this go together with the fact that males get more citations in a year?"
   ]
  },
  {
   "cell_type": "markdown",
   "metadata": {},
   "source": [
    "Solution:\n",
    "\n",
    "After completing part G and H, we learned males drive more miles than woman. While men may have more citations (in the dataset), they also drive more miles. So accounting for that in the \"per mile\" analysis, we see how females receive more citations."
   ]
  },
  {
   "cell_type": "markdown",
   "metadata": {},
   "source": [
    "### Part O\n",
    "***(3 points)*** Estimate the difference in population means (for CPM's) by creating a 95% CI for the difference between the sample means for 'CPM' for males and females.\n",
    "\n",
    "Recall the equation below from lecture. Perform the proper calculations 'by hand' (i.e. code without a canned function).\n",
    "\n",
    "$\\bar{X}-\\bar{Y}\\pm Z_{\\frac{\\alpha}{2}}\\cdot\\sqrt{\\frac{\\sigma_1^2}{m}+\\frac{\\sigma_2^2}{n}}$\n",
    "\n",
    "Create a 95% CI for the difference in miles driven per year.\n"
   ]
  },
  {
   "cell_type": "code",
   "execution_count": 12,
   "metadata": {},
   "outputs": [
    {
     "name": "stdout",
     "output_type": "stream",
     "text": [
      "The difference in population means (for citations per mile) with a 95% CI gives [ 3291.50608 , 3291.52773 ]\n"
     ]
    }
   ],
   "source": [
    "# Code solution here:\n",
    "# continue code from part M\n",
    "std1 = np.std(x) # male std\n",
    "std2 = np.std(y) # female std\n",
    "m = len(x)\n",
    "n = len(y)\n",
    "z = 1.96 # 95% CI corresponding value\n",
    "# interval bounds\n",
    "b1 = X-Y+z*np.sqrt(std1**2/m + (std2**2)/n) # bound 1\n",
    "b2 = X-Y-z*np.sqrt(std1**2/m + (std2**2)/n) # bound 1\n",
    "print(\"The difference in population means (for citations per mile) with a 95% CI gives [\",np.round(b2,5),\",\",np.round(b1,5),\"]\")"
   ]
  },
  {
   "cell_type": "markdown",
   "metadata": {},
   "source": [
    "### Part P\n",
    "***(1 point)*** Does your result contain 0? Describe your findings."
   ]
  },
  {
   "cell_type": "markdown",
   "metadata": {},
   "source": [
    "Solution:\n",
    "\n",
    "The bounds for the interval was [ -0.03248 , -0.01084 ] which does not include 0. So, we could either say men receive 0.01084 less citations per mile than woman or females receive 0.03248 more citations per mile than woman. We can guarantee the difference to be somewhere between these bounds with 95% confidence.\n"
   ]
  },
  {
   "cell_type": "markdown",
   "metadata": {},
   "source": [
    "### Part Q\n",
    "***(1 point)*** Can you explain why males pay higher insurance premiums when they receive fewer citations per mile? Hint: is insurance typically sold by the mile or by the year?"
   ]
  },
  {
   "cell_type": "markdown",
   "metadata": {},
   "source": [
    "Solution:\n",
    "\n",
    "We have concluded in parts G-H that males in this dataset drive more miles per year than woman. Thus, there are more opportunities for insurance to need to cover some accident. These accidents arrise when driver mistakes are made. Citations somewhat quantify driver mistakes. So, males having more citations and miles driven influences higher premiums."
   ]
  },
  {
   "cell_type": "markdown",
   "metadata": {},
   "source": [
    "### Part R\n",
    "***(2 points)*** Consider the graphic below. It is merely a cut-and-past .png, it isn't live code.\n",
    "\n",
    "Look at the code and the graphic and describe what story it tells."
   ]
  },
  {
   "cell_type": "markdown",
   "metadata": {},
   "source": [
    "![title](code.png)\n",
    "![title](graph.png)"
   ]
  },
  {
   "cell_type": "code",
   "execution_count": 13,
   "metadata": {},
   "outputs": [],
   "source": [
    "# The graphic above was created with this code.\n",
    "# Of course this code will likely not work in your notebook since\n",
    "# you have different variable names. This is why it is commented out.\n",
    "\n",
    "#mCPM = dfInsurance.loc[dfInsurance['Sex']=='M', 'CPM'].values\n",
    "#fCPM = dfInsurance.loc[dfInsurance['Sex']=='F', 'CPM'].values\n",
    "\n",
    "#bins = np.linspace(0.001, 0.6, 8)\n",
    "#plt.hist([mCPM, fCPM], bins, label=['male', 'female'])\n",
    "#plt.legend(loc='upper right')\n",
    "#plt.show()"
   ]
  },
  {
   "cell_type": "markdown",
   "metadata": {},
   "source": [
    "Solution:\n",
    "\n",
    "Lines 2 and 3 create variables for all the male and female citations per mile. Line 5 specifies the bins range and spacing. Line 6 plots a histogram of the CPMs for both sets of data while line 7-8 formats. \n",
    "\n",
    "In the plot, we see the frequency of certain CPMs ranging from 0.1 to 0.6. The most frequent CPM for the male dataset was 0.1 while it was 0.2 for the females. The next most frequent CPM for the males was 0.2; the rest of the male data (.3 and .4) is way less frequenty. For females, there are more extreme CPMs of 0.5 and 0.6 but are way less frequenty than the 0.2. \n",
    "\n",
    "Females have a wider distribution of CPMs than males to while also more frequently having higher CPMs."
   ]
  },
  {
   "cell_type": "markdown",
   "metadata": {},
   "source": [
    "### Part S\n",
    "***(5 points)*** What percent of males drive between 6400 and 8400 miles per year?\n",
    "What percent of females drive that same amount?\n"
   ]
  },
  {
   "cell_type": "code",
   "execution_count": 14,
   "metadata": {},
   "outputs": [
    {
     "name": "stdout",
     "output_type": "stream",
     "text": [
      "43.1 % of males driven between 6400 and 8400 miles every year\n",
      "1.7 % of females driven between 6400 and 8400 miles every year\n"
     ]
    }
   ],
   "source": [
    "# Code your solution here:\n",
    "# calc total count of miles driven \n",
    "x = dfInsurance.loc[(dfInsurance['Sex']=='M') & (dfInsurance['miles driven'] > 6400) & (dfInsurance['miles driven'] < 8400),'miles driven'].count() # 3 conditionals\n",
    "y = dfInsurance.loc[(dfInsurance['Sex']=='F') & (dfInsurance['miles driven'] > 6400) & (dfInsurance['miles driven'] < 8400),'miles driven'].count() # 3 conditionals\n",
    "\n",
    "n = len(dfInsurance.loc[dfInsurance['Sex'] == 'M']) # total males\n",
    "m = len(dfInsurance.loc[dfInsurance['Sex'] == 'F']) # total females\n",
    "\n",
    "print(np.round(x/n,3)*100,\"% of males driven between 6400 and 8400 miles every year\")\n",
    "print(np.round(100*y/m,3),\"% of females driven between 6400 and 8400 miles every year\")"
   ]
  },
  {
   "cell_type": "markdown",
   "metadata": {},
   "source": [
    "### Part T\n",
    "***(4 points)*** 95% of females drive less than x miles. What is x?"
   ]
  },
  {
   "cell_type": "code",
   "execution_count": 15,
   "metadata": {},
   "outputs": [
    {
     "name": "stdout",
     "output_type": "stream",
     "text": [
      "P( Y ≤ x) = .95 \n",
      " x = 6071.27 miles\n",
      "\n",
      "Actual percent of females driving less than 6071 miles is:\n",
      "0.948\n"
     ]
    }
   ],
   "source": [
    "# Code your solution here:\n",
    "y = (dfInsurance.loc[dfInsurance['Sex'] == 'F','miles driven' ]) # data\n",
    "m = len(dfInsurance.loc[dfInsurance['Sex'] == 'F']) # total females\n",
    "mu = np.mean(y) # mean\n",
    "sigma = (np.std(y)) # standard deviation\n",
    "x = norm.ppf(.95,loc=mu,scale=sigma) # ppf with custom mu,sigma\n",
    "print(\"P( Y \\u2264 x) = .95 \\n x = {:.2f}\".format(x),\"miles\")\n",
    "\n",
    "# verification with actual data\n",
    "count = 0\n",
    "for i in range(0,m):\n",
    "    if(y[i]>=x):\n",
    "        count = count + 1\n",
    "print()\n",
    "print(\"Actual percent of females driving less than 6071 miles is:\")\n",
    "print(1-count/m)"
   ]
  },
  {
   "cell_type": "markdown",
   "metadata": {},
   "source": [
    "# Problem 2\n",
    "***\n",
    "\n",
    "Let $X$ be a normal random variable, $X \\sim N(\\mu, \\sigma^2) = N(5,9)$.\n",
    "\n",
    "Let $Z$ be a $\\color{red}{\\text{standard}}$ normal random variable, $Z \\sim N(\\mu, \\sigma^2) = N(0,1)$.\n"
   ]
  },
  {
   "cell_type": "markdown",
   "metadata": {},
   "source": [
    "### Part A\n",
    "\n",
    "***(2 points)*** Compute $P(X \\leq 8.75)$."
   ]
  },
  {
   "cell_type": "code",
   "execution_count": 16,
   "metadata": {},
   "outputs": [
    {
     "name": "stdout",
     "output_type": "stream",
     "text": [
      "P( Z ≤ 8.75) = 0.894\n"
     ]
    }
   ],
   "source": [
    "# Code your solution here:\n",
    "mu = 5\n",
    "sigma = 3\n",
    "z = 8.75\n",
    "distribution = norm.cdf(z,loc=mu,scale=sigma)\n",
    "print(\"P( Z \\u2264 8.75) = {:.3f}\".format(distribution))"
   ]
  },
  {
   "cell_type": "markdown",
   "metadata": {},
   "source": [
    "### Part B\n",
    "\n",
    "***(2 points)*** Compute $P(Z\\leq 1.25)$."
   ]
  },
  {
   "cell_type": "code",
   "execution_count": 17,
   "metadata": {},
   "outputs": [
    {
     "name": "stdout",
     "output_type": "stream",
     "text": [
      "P( Z ≤ 1.25) = 0.894\n"
     ]
    }
   ],
   "source": [
    "# Code your solution here:\n",
    "z = 1.25\n",
    "print(\"P( Z \\u2264 1.25) = {:.3f}\".format(norm.cdf(z)))"
   ]
  },
  {
   "cell_type": "markdown",
   "metadata": {},
   "source": [
    "### Part C\n",
    "\n",
    "***(2 points)*** Explain why the answer to these first two questions are the same."
   ]
  },
  {
   "cell_type": "markdown",
   "metadata": {},
   "source": [
    "Solution:\n",
    "\n",
    "The first normal distribution is scaled by 3 since the standard deviation is 3 (as opposed to 1). This would have the effect: 1.25*3 = 3.75.\n",
    "\n",
    "Then, the first distribution is shifted by 5 (because of the mean being 5 as opposed to 0). This would then have the effect: 3.75 + 5 = 8.75.\n"
   ]
  },
  {
   "cell_type": "code",
   "execution_count": null,
   "metadata": {},
   "outputs": [],
   "source": []
  }
 ],
 "metadata": {
  "kernelspec": {
   "display_name": "Python 3 (ipykernel)",
   "language": "python",
   "name": "python3"
  },
  "language_info": {
   "codemirror_mode": {
    "name": "ipython",
    "version": 3
   },
   "file_extension": ".py",
   "mimetype": "text/x-python",
   "name": "python",
   "nbconvert_exporter": "python",
   "pygments_lexer": "ipython3",
   "version": "3.10.5"
  }
 },
 "nbformat": 4,
 "nbformat_minor": 4
}
