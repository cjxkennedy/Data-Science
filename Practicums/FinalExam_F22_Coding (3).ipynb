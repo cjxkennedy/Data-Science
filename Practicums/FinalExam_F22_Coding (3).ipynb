{
 "cells": [
  {
   "cell_type": "markdown",
   "metadata": {},
   "source": [
    "\n",
    "# Final Exam, Coding\n",
    "***\n",
    "\n",
    "**DUE DATE and SUBMISSION INSTRUCTIONS:**\n",
    "\n",
    "This exam is due on Gradescope AND Canvas by **5:59PM on Thursday, December 8th**. \n",
    "\n",
    "- Upload a PDF of this notebook (with all cells run and all LaTex fully rendered) to Gradescope by **5:59PM on Thursday, December 8th**. \n",
    "\n",
    "- AND upload this Jupyter notebook to Canvas by **5:59PM on Thursday, December 8th**.  \n",
    "\n",
    "Late Submittals:   **Gradescope and Canvas will NOT accept any submissions after 5:59PM.  No late exams will be accepted**.\n",
    "\n",
    "\n",
    "**FORMAT:** \n",
    "\n",
    "- Your solutions to theoretical questions should be done in Markdown and LaTex directly below the associated question. \n",
    "\n",
    "- Your solutions to computational questions should include any specified Python code and results as well as written commentary on your conclusions.\n",
    "\n",
    "**HERE ARE THE RULES:** \n",
    "\n",
    "1. All work, code and analysis, must be your own. It really is that simple.\n",
    "1. Only work uploaded prior to the deadline will be considered.\n",
    "1. You MAY use your course notes, posted lecture slides, textbooks, in-class notebooks, and homework solutions as resources.  You may also search online for answers to general knowledge questions like the form of a probability distribution function or how to perform a particular operation in Python/Pandas. \n",
    "3. You may **NOT** copy-paste solutions *from anywhere*.\n",
    "2. You may **NOT** post to message boards or other online resources asking for help.\n",
    "4. You may **NOT** collaborate with classmates or anyone else. \n",
    "5. This is meant to be like a coding portion of your final exam. So, the instructional team will be much less helpful than we typically are with homework. For example, we will not check answers, help debug your code, and so on.\n",
    "6.  If you have a question for us, post it as a **PRIVATE** message on Piazza.  If we decide that the question is appropriate for the entire class, then we will add it to a  midterm clarifications thread. \n",
    "7. If something is left open-ended, it is because we want to see how you approach the kinds of problems you will encounter in the wild, where it will not always be clear what sort of tests/methods should be applied. Feel free to ask clarifying questions though.\n",
    "8. Please stick to software used/taught in this class: Pandas, NumPy, Python 3.9, etc.\n",
    "\n",
    "Violation of the above rules will result in an immediate academic sanction (you will receive an F in the course), and a trip to the Honor Code Council.\n",
    "\n",
    "**By submitting this assignment, you agree to abide by the rules given above.**\n",
    "\n",
    "***\n",
    "\n",
    "**Name**: CJ Kennedy\n",
    "\n",
    "***\n",
    "\n",
    "\n",
    "**NOTES**: \n",
    "\n",
    "- By the due date, turn in anything you have, there are no extensions, and some credit is better than no credit.  **DO NOT attempt your first upload at 5:00 PM** as you may encounter slow internet speeds or outages and again you will miss the upload and hence the entire exam. \n",
    "- Do **NOT** load or use any Python packages that are not available in Anaconda 3.9.  \n",
    "- This should go without saying, but... For any question that asks you to calculate something, you **must show all work to receive credit**. Sparse or nonexistent work will receive sparse or nonexistent credit.\n",
    "\n"
   ]
  },
  {
   "cell_type": "markdown",
   "metadata": {},
   "source": [
    "\n",
    "On this exam we are looking for $\\color{red}{\\text{HOW}}$ you answer questions and not necessarily $\\color{red}{\\text{WHAT}}$ you put for an answer. \n",
    "\n",
    "Tell the grader where to look for your answer and which question the work goes with.\n",
    "\n",
    "Be thorough, but be concise.\n",
    "\n",
    "Use full sentences and proper grammar and correct spelling.\n",
    "\n",
    "Comment your code.\n",
    "\n",
    "Demonstrate $\\color{red}{\\text{BOTH}}$ what you know about the question $\\color{red}{\\text{AND}}$ the coding you used to answer the question\n"
   ]
  },
  {
   "cell_type": "markdown",
   "metadata": {},
   "source": [
    "---\n",
    "**Shortcuts:**   [Example Question](#Ex) | [Imports](#Imp) | [Assessing Normality Tips](#Norm) | [Problem 1](#p1) | [Problem 2](#p2) | [Problem 3](#p3) |\n",
    "|  [Problem 4](#p4) | [Problem 5](#p5) | [Problem 6](#p6) |\n",
    "[Problem 7](#p7)\n",
    "\n",
    "---"
   ]
  },
  {
   "cell_type": "markdown",
   "metadata": {},
   "source": [
    "<a id='Ex'></a>\n",
    "# $\\color{red}{\\text{Example question}}$\n",
    "\n",
    "What values of $x$ solve the equation: $\\phantom{xx}x^2-5x=-6$?\n",
    "\n",
    "Solve analytically and then create a plot supporting your answer."
   ]
  },
  {
   "cell_type": "markdown",
   "metadata": {},
   "source": [
    "### $\\color{red}{\\text{This correct answer would be worth zero points}}$\n",
    "\n",
    "$x=2$ and $x=3$"
   ]
  },
  {
   "cell_type": "markdown",
   "metadata": {},
   "source": [
    "# $\\color{red}{\\text{This answer would be worth full points}}:$\n",
    "\n",
    "\n",
    "Solution to Example Question:\n",
    "\n",
    "$x^2-5x=-6$ can be factored after $-6$ is added to both sides.\n",
    "\n",
    "$(x-2)(x-3)=0$. The zero product property reveals that $\\boxed{x=2}$ or $\\boxed{x=3}$.\n",
    "\n",
    "This equation has two solutions as its graph crosses the x-axis twice as seen below."
   ]
  },
  {
   "cell_type": "code",
   "execution_count": 1,
   "metadata": {},
   "outputs": [
    {
     "data": {
      "text/plain": [
       "[<matplotlib.lines.Line2D at 0x7fb1ad67fa60>]"
      ]
     },
     "execution_count": 1,
     "metadata": {},
     "output_type": "execute_result"
    },
    {
     "data": {
      "image/png": "[encoded data removed]",
      "text/plain": [
       "<Figure size 432x288 with 1 Axes>"
      ]
     },
     "metadata": {
      "needs_background": "light"
     },
     "output_type": "display_data"
    }
   ],
   "source": [
    "# AND HERE IS MY COMMENTED CODE TO GO WITH THE EXAMPLE QUESTION #1:\n",
    "\n",
    "import numpy\n",
    "import matplotlib.pylab as draw\n",
    "%matplotlib inline\n",
    "# matplotlib.pylab is used for plotting. 'inline' ensures the graph opens in Jupyter.\n",
    "\n",
    "x = numpy.linspace(1,4,100)\n",
    "# 'linspace' returns evenly spaced numbers over a specified interval\n",
    "\n",
    "y = x**2-5*x+6\n",
    "z = 0*x\n",
    "draw.plot(x,y)\n",
    "# This is the parabola\n",
    "\n",
    "draw.plot(x,z, ':')\n",
    "# This is the x-axis.\n",
    "\n",
    "draw.plot(2,0, marker=\"o\", markersize=5, markeredgecolor=\"red\", markerfacecolor=\"green\")\n",
    "draw.plot(3,0, marker=\"o\", markersize=5, markeredgecolor=\"red\", markerfacecolor=\"green\")\n",
    "# These last two 'draw' commands show the intersection of the parabola and the x-axis.\n",
    "# The intersections are the sought after solutions. See graph below.\n"
   ]
  },
  {
   "cell_type": "markdown",
   "metadata": {},
   "source": [
    "<a id='Imp'></a>\n",
    "# Begin Final Exam (Coding) Here\n",
    "***\n",
    "\n",
    "Here are some imports that were used in the construction of the answer key. DO NOT change the `random.seed()` value."
   ]
  },
  {
   "cell_type": "code",
   "execution_count": 2,
   "metadata": {},
   "outputs": [],
   "source": [
    "import numpy as np \n",
    "from scipy import stats\n",
    "import statsmodels.api as sm \n",
    "import pandas as pd\n",
    "import matplotlib.pylab as plt \n",
    "from scipy.stats import skew, kurtosis, norm\n",
    "import seaborn\n",
    "%matplotlib inline\n",
    "from sklearn.linear_model import LinearRegression\n",
    "from statsmodels.stats.multicomp import MultiComparison\n",
    "almostblack = np.array([10,10,10])/255\n",
    "mycolor = np.array([140,180,10])/255\n",
    "import random\n",
    "random.seed(8675309)\n"
   ]
  },
  {
   "cell_type": "markdown",
   "metadata": {},
   "source": [
    "<a id='Norm'></a>\n",
    "### Note Regarding Assessing Normality:\n",
    "\n",
    "You are asked to comment on the distribution of various datasets in this assignment. Also, you may, or may not, want to make decisions based on the normality of your data distribution. \n",
    "\n",
    "If it is helpful, you might consider using:\n",
    "\n",
    "`from scipy.stats import skew, kurtosis`\n",
    "\n",
    "You can verify how 'normal' your Pandas data set (named dfData) is by doing something like this:\n",
    "\n",
    "`print(skew(dfData))`\n",
    "\n",
    "`print(kurtosis(dfData))`\n",
    "\n",
    "\n",
    "#### The general rules you can use when assessing normality:\n",
    "\n",
    "If the skewness is between -0.5 and 0.5, the data are $\\color{green}{\\text{fairly symmetrical}}$.\n",
    "\n",
    "If the skewness is between -1 and – 0.5 or between 0.5 and 1, the data are $\\color{blue}{\\text{moderately skewed}}$.\n",
    "\n",
    "If the skewness is less than -1 or greater than 1, the data are $\\color{red}{\\text{highly skewed}}$.\n",
    "\n",
    "An excess kurtosis above 0 indicates the $\\color{blue}{\\text{tails are heavier than the normal distribution}}$.\n",
    "\n",
    "An excess kurtosis below 0 indicates the $\\color{blue}{\\text{tails are lighter than the normal distribution}}$.\n",
    "\n",
    "An excess kurtosis value of 1 and above or -1 and below represents a $\\color{red}{\\text{sizable departure from normality}}$.\n",
    "\n",
    "##### Commenting on how 'normal' your distributions are in this exam by using `skew` and `kurtosis`  values can only gain you more points for your description. "
   ]
  },
  {
   "cell_type": "markdown",
   "metadata": {
    "tags": []
   },
   "source": [
    "<a id='p1'></a>\n",
    "# Problem 1\n",
    "\n",
    "For this problem you are welcome to use any built-in methods/functions we have used in class.  If a built-in function/method outputs summary statistics or other useful output variables you can use that output directly when answering any questions below UNLESS otherwise specified in the problem (i.e. unless we tell you in the problem to write code to calculate a particular statistic from scratch based on its definition, you can just get that statistic/info from the output of a built-in method/function).\n",
    "\n",
    "\n",
    "***\n",
    "Your friend owns a franchise business that sells and rents stand-up paddleboards.  \n",
    "They have expanded their business and opened up shops in 95 different towns across the U.S.\n",
    "They have collected data from each of their shops and have asked you to analyze the data.\n",
    "The data is in the file `paddle.csv`"
   ]
  },
  {
   "cell_type": "markdown",
   "metadata": {},
   "source": [
    " ***Import the data set `paddle.csv`, and take a look at it.***"
   ]
  },
  {
   "cell_type": "code",
   "execution_count": 3,
   "metadata": {},
   "outputs": [
    {
     "data": {
      "text/html": [
       "<div>\n",
       "<style scoped>\n",
       "    .dataframe tbody tr th:only-of-type {\n",
       "        vertical-align: middle;\n",
       "    }\n",
       "\n",
       "    .dataframe tbody tr th {\n",
       "        vertical-align: top;\n",
       "    }\n",
       "\n",
       "    .dataframe thead th {\n",
       "        text-align: right;\n",
       "    }\n",
       "</style>\n",
       "<table border=\"1\" class=\"dataframe\">\n",
       "  <thead>\n",
       "    <tr style=\"text-align: right;\">\n",
       "      <th></th>\n",
       "      <th>lakes</th>\n",
       "      <th>pop</th>\n",
       "      <th>advertising</th>\n",
       "      <th>competitors</th>\n",
       "      <th>sales</th>\n",
       "    </tr>\n",
       "  </thead>\n",
       "  <tbody>\n",
       "    <tr>\n",
       "      <th>0</th>\n",
       "      <td>1</td>\n",
       "      <td>63</td>\n",
       "      <td>4.3</td>\n",
       "      <td>1</td>\n",
       "      <td>14.1</td>\n",
       "    </tr>\n",
       "    <tr>\n",
       "      <th>1</th>\n",
       "      <td>1</td>\n",
       "      <td>25</td>\n",
       "      <td>10.8</td>\n",
       "      <td>2</td>\n",
       "      <td>19.0</td>\n",
       "    </tr>\n",
       "    <tr>\n",
       "      <th>2</th>\n",
       "      <td>1</td>\n",
       "      <td>40</td>\n",
       "      <td>11.8</td>\n",
       "      <td>2</td>\n",
       "      <td>19.8</td>\n",
       "    </tr>\n",
       "    <tr>\n",
       "      <th>3</th>\n",
       "      <td>1</td>\n",
       "      <td>89</td>\n",
       "      <td>9.6</td>\n",
       "      <td>0</td>\n",
       "      <td>19.9</td>\n",
       "    </tr>\n",
       "    <tr>\n",
       "      <th>4</th>\n",
       "      <td>1</td>\n",
       "      <td>33</td>\n",
       "      <td>6.4</td>\n",
       "      <td>2</td>\n",
       "      <td>22.4</td>\n",
       "    </tr>\n",
       "    <tr>\n",
       "      <th>...</th>\n",
       "      <td>...</td>\n",
       "      <td>...</td>\n",
       "      <td>...</td>\n",
       "      <td>...</td>\n",
       "      <td>...</td>\n",
       "    </tr>\n",
       "    <tr>\n",
       "      <th>90</th>\n",
       "      <td>8</td>\n",
       "      <td>96</td>\n",
       "      <td>3.4</td>\n",
       "      <td>8</td>\n",
       "      <td>11.8</td>\n",
       "    </tr>\n",
       "    <tr>\n",
       "      <th>91</th>\n",
       "      <td>8</td>\n",
       "      <td>37</td>\n",
       "      <td>3.6</td>\n",
       "      <td>9</td>\n",
       "      <td>12.7</td>\n",
       "    </tr>\n",
       "    <tr>\n",
       "      <th>92</th>\n",
       "      <td>8</td>\n",
       "      <td>75</td>\n",
       "      <td>7.5</td>\n",
       "      <td>9</td>\n",
       "      <td>17.2</td>\n",
       "    </tr>\n",
       "    <tr>\n",
       "      <th>93</th>\n",
       "      <td>8</td>\n",
       "      <td>31</td>\n",
       "      <td>11.5</td>\n",
       "      <td>9</td>\n",
       "      <td>19.5</td>\n",
       "    </tr>\n",
       "    <tr>\n",
       "      <th>94</th>\n",
       "      <td>8</td>\n",
       "      <td>39</td>\n",
       "      <td>14.3</td>\n",
       "      <td>8</td>\n",
       "      <td>21.3</td>\n",
       "    </tr>\n",
       "  </tbody>\n",
       "</table>\n",
       "<p>95 rows × 5 columns</p>\n",
       "</div>"
      ],
      "text/plain": [
       "    lakes  pop  advertising  competitors  sales\n",
       "0       1   63          4.3            1   14.1\n",
       "1       1   25         10.8            2   19.0\n",
       "2       1   40         11.8            2   19.8\n",
       "3       1   89          9.6            0   19.9\n",
       "4       1   33          6.4            2   22.4\n",
       "..    ...  ...          ...          ...    ...\n",
       "90      8   96          3.4            8   11.8\n",
       "91      8   37          3.6            9   12.7\n",
       "92      8   75          7.5            9   17.2\n",
       "93      8   31         11.5            9   19.5\n",
       "94      8   39         14.3            8   21.3\n",
       "\n",
       "[95 rows x 5 columns]"
      ]
     },
     "execution_count": 3,
     "metadata": {},
     "output_type": "execute_result"
    }
   ],
   "source": [
    "dfSales = pd.read_csv(\"paddle.csv\") \n",
    "dfSales"
   ]
  },
  {
   "cell_type": "markdown",
   "metadata": {},
   "source": [
    "### Data Description:\n",
    "The data file contains the following data for each of the 95 shops:\n",
    "\n",
    "`lakes` -  The number of lakes or reservoirs within a 50 mile radius of the shop.\n",
    "\n",
    "`pop` - Population density of the town where the shop is located (people per square mile).\n",
    "\n",
    "`advertising` - The shop's annual amount spent on advertising/promotions (in thousands of dollars).\n",
    "\n",
    "`competitors` - The number of competing stores within a 50 mile radius of the shop.\n",
    "\n",
    "`sales` - The shop's annual net sales revenue (in thousands of dollars)."
   ]
  },
  {
   "cell_type": "markdown",
   "metadata": {},
   "source": [
    "## Single-Predictor Regression\n",
    "\n",
    "\n",
    "\n",
    "### [1] Part A) A naive model\n",
    "\n",
    "Your friend says that since stand-up paddleboarding is a water activity, they would expect annual sales revenue to be dependent on the number of lakes/reservoirs in the region near a given shop.  \n",
    "\n",
    "Your task: \n",
    "- ***(i) (2 points):  Make a simple linear regression (SLR) model with `sales` as the response, predicted by the variable `lakes`.***    \n",
    "\n",
    "- ***Then write the equation for the model in a markdown cell.***\n",
    "\n"
   ]
  },
  {
   "cell_type": "code",
   "execution_count": 4,
   "metadata": {},
   "outputs": [
    {
     "name": "stdout",
     "output_type": "stream",
     "text": [
      "Fitted Model: Y = 24.63378 + -0.97230x\n"
     ]
    }
   ],
   "source": [
    "# adapted from nb21\n",
    "y = dfSales[\"sales\"]\n",
    "bhat1, ahat, rval, pval, stderr = stats.linregress(dfSales[\"lakes\"], dfSales[\"sales\"])\n",
    "print(\"Fitted Model: Y = {:.5f} + {:.5f}x\".format(ahat, bhat1))"
   ]
  },
  {
   "cell_type": "markdown",
   "metadata": {},
   "source": [
    "$Y = 24.63378 + -0.97230x$"
   ]
  },
  {
   "cell_type": "markdown",
   "metadata": {},
   "source": [
    " - ***(ii) (3 points) Make a series of 3 side-by-side plots (described below).  \n",
    "Title each plot and label your axes on each plot.*** \n",
    "\n",
    "  - ***Lefthand plot: scatter plot of the data (i.e. lakes vs sales) and overlay the simple linear regression line you found above***.  \n",
    "\n",
    "  - ***Middle plot: frequency histogram of residuals of your SLR model.***  \n",
    "\n",
    "  - ***Righthand plot: scatter plot where the lake data values are the x-axis and the model residuals are the y-axis.***\n"
   ]
  },
  {
   "cell_type": "code",
   "execution_count": 5,
   "metadata": {},
   "outputs": [
    {
     "data": {
      "text/plain": [
       "<statsmodels.regression.linear_model.RegressionResultsWrapper at 0x7fb19a2b4d60>"
      ]
     },
     "execution_count": 5,
     "metadata": {},
     "output_type": "execute_result"
    },
    {
     "data": {
      "image/png": "[encoded data removed]",
      "text/plain": [
       "<Figure size 1152x576 with 3 Axes>"
      ]
     },
     "metadata": {
      "needs_background": "light"
     },
     "output_type": "display_data"
    }
   ],
   "source": [
    "y = dfSales[\"sales\"]\n",
    "bhat1, ahat, rval, pval, stderr = stats.linregress(dfSales[\"lakes\"], dfSales[\"sales\"])\n",
    "x = (y-ahat)/bhat1\n",
    "\n",
    "fig, axes = plt.subplots(nrows=1, ncols=3, figsize=(16,8))\n",
    "fig.tight_layout(h_pad=4)\n",
    "\n",
    "# Lefthand\n",
    "axes[0].scatter(dfSales['lakes'], dfSales['sales'], color=\"steelblue\")\n",
    "axes[0].grid(alpha=0.25)\n",
    "axes[0].set_xlabel(\"Lakes\", fontsize=10)\n",
    "axes[0].set_ylabel(\"Sales\", fontsize=12)\n",
    "\n",
    "axes[0].plot(x,y,'r')\n",
    "axes[0].set_title(\"Lakes vs Sales (blue) with Linear Regression (red)\");\n",
    "\n",
    "# Frequency Histogram\n",
    "x = dfSales[\"lakes\"]\n",
    "x = sm.add_constant(x)\n",
    "model = sm.OLS(y, x).fit() \n",
    "influence = model.get_influence()\n",
    "resid = influence.resid_studentized_internal\n",
    "my_bins = np.linspace(0,5,num=10)\n",
    "axes[1].hist(resid,bins=my_bins,facecolor=\"steelblue\", edgecolor=\"white\")\n",
    "axes[1].set_title(\"Residual from SLR Frequency Histogram\")\n",
    "axes[1].set_xlabel(\"Residuals\", fontsize=10)\n",
    "axes[1].set_ylabel(\"Frequency\", fontsize=12)\n",
    "axes[1].grid(alpha=0.25)\n",
    "axes[1].set_axisbelow(True)\n",
    "\n",
    "# Residuals\n",
    "axes[2].scatter(dfSales['lakes'], resid, color=\"steelblue\")\n",
    "axes[2].grid(alpha=0.25)\n",
    "axes[2].set_xlabel(\"Lakes\", fontsize=10)\n",
    "axes[2].set_ylabel(\"Residuals\", fontsize=12)\n",
    "axes[2].set_title(\"Lakes vs Model Residuals\");\n",
    "model\n"
   ]
  },
  {
   "cell_type": "markdown",
   "metadata": {},
   "source": [
    " - ***(iii). (2 points) Does this model seem appropriate?  For each of the 4 major assumptions of a simple linear regression model, use your plots in part (ii) to decide whether or not the dataset meets those assumptions.***\n",
    "\n"
   ]
  },
  {
   "cell_type": "markdown",
   "metadata": {},
   "source": [
    "I list each assumption and say if the dataset meets it:\n",
    "\n",
    "1) The relationship between variables is linear.\n",
    "\n",
    "The first plot shows that the relationship between sales and lakes is not linear. \n",
    "\n",
    "2) Errors are independent of each other.\n",
    "\n",
    "As seen in the third plot the errors seem independent.\n",
    "\n",
    "3) Errors are normally distributed with mean of 0.\n",
    "\n",
    "The mean of the residuals is 0.93 which is NOT 0 and the distribution seems skewed right.\n",
    "\n",
    "4) Errors have equal variance.\n"
   ]
  },
  {
   "cell_type": "markdown",
   "metadata": {},
   "source": [
    "### [1] Part B\n",
    " "
   ]
  },
  {
   "cell_type": "markdown",
   "metadata": {},
   "source": [
    "***(2 points) What is the meaning of the slope in the model in terms of the variables in the dataset?  Based on the physical meaning of the variables, does the value of this slope seem reasonable or does it surprise you?  Explain.***\n"
   ]
  },
  {
   "cell_type": "markdown",
   "metadata": {},
   "source": [
    "The $B$ for the model is $-0.97230$. This value is negative so it would say that as lakes are increased, the sales decrease. This would not seam reasonable since paddleboards need to be used on water (like in a lake)."
   ]
  },
  {
   "cell_type": "markdown",
   "metadata": {},
   "source": [
    "### [1] Part C\n",
    "***Your friend would like to know if there's sufficient evidence from this model to conclude that the number of nearby lakes/reservoirs is a statistically significant linear predictor of sales revenue.  You decide to do a hypothesis test at the  $\\alpha = 0.05$ significance level.***\n",
    "\n",
    "- ***(i). (1 points)  State the null and alternate hypotheses for your test.***\n"
   ]
  },
  {
   "cell_type": "markdown",
   "metadata": {},
   "source": [
    "$ H_0: \\beta = 0 $\n",
    "\n",
    "This would mean the slope is zero and lakes has no affect on sales.\n",
    "\n",
    "$ H_1: \\beta \\ne 0 $\n",
    "\n",
    "This would mean the slope is nonzero and lakes do have an effect on sales."
   ]
  },
  {
   "cell_type": "markdown",
   "metadata": {},
   "source": [
    "- ***(ii). (1 points) What is the appropriate test (by name, not formula) to use for this, and what are the degrees of freedom?***"
   ]
  },
  {
   "cell_type": "markdown",
   "metadata": {},
   "source": [
    "Test statistic. DF = 95-2 = $93$"
   ]
  },
  {
   "cell_type": "markdown",
   "metadata": {},
   "source": [
    "- ***(iii). (2 points) Calculate the critical value and state the decision rule for this test at an alpha level of 5%.***  \n",
    " \n"
   ]
  },
  {
   "cell_type": "code",
   "execution_count": 6,
   "metadata": {},
   "outputs": [
    {
     "name": "stdout",
     "output_type": "stream",
     "text": [
      "95% CI = [-1.504, -0.441], CI width = 1.063\n",
      "The B stat -0.9723 is included in the interval and 0 is not included in the interval\n",
      "So, zero is not reasonable value for the B stat and a relationship between the variables is present.\n"
     ]
    }
   ],
   "source": [
    "#adapted from nb21\n",
    "L_CI = (bhat1 - stats.t.ppf(0.975, len(x)-2) * stderr)\n",
    "U_CI = (bhat1 + stats.t.ppf(0.975, len(x)-2) * stderr)\n",
    "print(\"95% CI = [{:.3f}, {:.3f}], CI width = {:.3f}\".format(L_CI, U_CI, U_CI - L_CI))\n",
    "print(\"The B stat\",np.round(bhat1,4),\"is included in the interval and 0 is not included in the interval\")\n",
    "print(\"So, zero is not reasonable value for the B stat and a relationship between the variables is present.\")"
   ]
  },
  {
   "cell_type": "markdown",
   "metadata": {},
   "source": [
    " - ***(iv). (2 points) What is the test statistic, p-value, and conclusion of your hypothesis test?***\n"
   ]
  },
  {
   "cell_type": "code",
   "execution_count": 7,
   "metadata": {},
   "outputs": [
    {
     "name": "stdout",
     "output_type": "stream",
     "text": [
      "test statistic Tb = -3.6328870640805593\n",
      "p-value = 0.0004588002776241505\n"
     ]
    }
   ],
   "source": [
    "# adapted from nb21\n",
    "Tb = (bhat1-0)/stderr\n",
    "print(\"test statistic Tb = {}\".format(Tb))\n",
    "tpval = 2*(stats.t.cdf(Tb, df=len(x)-2))\n",
    "print(\"p-value = {}\".format(tpval))"
   ]
  },
  {
   "cell_type": "markdown",
   "metadata": {},
   "source": [
    "Since the p-value $0.000458$ is less than $\\alpha = 0.05$ we reject the null hypothesis and conclude that there is sufficient statistical evidence that $\\beta \\neq 0$ and the relationship between the feature and $\\color{red}{\\text{response is real}}$.\n",
    "\n",
    "Less lakes within a 50 mile radius is correlated with lower sales.\n",
    "\n",
    "Every additional lake within a 50 mile radius results in a reduction of 0.97230 units of sales. "
   ]
  },
  {
   "cell_type": "markdown",
   "metadata": {},
   "source": [
    "### [1] Part D\n",
    "***(3 points) What percent of total variation in sales revenue can be explained by the number of nearby lakes/reservoirs? Explain.***\n",
    "\n"
   ]
  },
  {
   "cell_type": "code",
   "execution_count": 8,
   "metadata": {},
   "outputs": [
    {
     "name": "stdout",
     "output_type": "stream",
     "text": [
      "0.12427620833332198\n",
      "Therefore 12.428 % of total variation in sales can be explained by the new model\n",
      "This is the proportion that can be explained by the number of nearby lakes.\n",
      "It is a pretty low number.\n"
     ]
    }
   ],
   "source": [
    "## adapted from nb22\n",
    "x = dfSales[\"lakes\"]\n",
    "y = dfSales[\"sales\"]\n",
    "yhat = ahat + bhat1*x\n",
    "# 'ybar' contains the mean of the y-values\n",
    "ybar = np.mean(y)\n",
    "# sum of squared errors\n",
    "sse = np.sum((y-yhat)**2)\n",
    "# total sum of squares\n",
    "sst = np.sum((y-ybar)**2)\n",
    "# Our hand calculated coefficient of determination.\n",
    "R2 = 1 - sse/sst\n",
    "print(R2)\n",
    "print(\"Therefore\",np.round(R2*100,3),\"% of total variation in sales can be explained by the new model\")\n",
    "print(\"This is the proportion that can be explained by the number of nearby lakes.\")\n",
    "print(\"It is a pretty low number.\")"
   ]
  },
  {
   "cell_type": "markdown",
   "metadata": {
    "tags": []
   },
   "source": [
    "<a id='p2'></a>\n",
    "#  Problem 2: Go Big-  Multiple Linear Regression\n",
    "\n",
    "\n",
    "For this problem you are welcome to use any built-in methods/functions we have used in class.  If a built-in method outputs summary statistics or other useful output variables you can use that output directly when answering any questions below UNLESS otherwise specified in the problem (i.e. unless we tell you in the problem to write code to calculate a particular statistic from scratch based on its definition, you can just get that statistic/info from the output of a built-in method/function).\n",
    "\n",
    "\n",
    "***\n",
    "\n",
    "\n",
    "You feel unsatisfied with the results from the model in Problem 1.    \n",
    "\n",
    "Problem 2 will involve steps to improve your model from Problem 1 using Multiple Linear Regression (MLR).  \n",
    "\n",
    "We will continue working with the same dataset from Problem 1 (paddle.csv) throughout this problem.\n",
    "\n",
    "\n",
    "\n",
    "In an effort to improve the model from Problem 1, you decide to add in one additional predictor.  To determine which predictor to add next you start with some scatterplots of the dataset.  \n"
   ]
  },
  {
   "cell_type": "markdown",
   "metadata": {},
   "source": [
    "### [2] Part A:  Explore\n",
    "\n",
    " - ***(i). (1 point) Use the function `seaborn.pairplot` to create pairwise scatterplots of the continuous predictors/covariates in the paddle.csv data, both against each other and against the outcome (sales). https://seaborn.pydata.org/generated/seaborn.pairplot.html***"
   ]
  },
  {
   "cell_type": "code",
   "execution_count": 9,
   "metadata": {},
   "outputs": [
    {
     "data": {
      "text/plain": [
       "<seaborn.axisgrid.PairGrid at 0x7fb19a33f790>"
      ]
     },
     "execution_count": 9,
     "metadata": {},
     "output_type": "execute_result"
    },
    {
     "data": {
      "image/png": "[encoded data removed]",
      "text/plain": [
       "<Figure size 900x900 with 30 Axes>"
      ]
     },
     "metadata": {
      "needs_background": "light"
     },
     "output_type": "display_data"
    }
   ],
   "source": [
    "#Uncomment the code below and replace the input with the name of your dataframe from Question 1\n",
    "dfSales = pd.read_csv(\"paddle.csv\") \n",
    "seaborn.pairplot(dfSales)"
   ]
  },
  {
   "cell_type": "markdown",
   "metadata": {},
   "source": [
    " - ***(ii). (2 points)  Based on your scatterplots, which (if any) explanatory variable(s) appear to have a linear relationship with sales revenue?  Explain.***  "
   ]
  },
  {
   "cell_type": "markdown",
   "metadata": {},
   "source": [
    "We look at the bottom row to see a linear relationship between $\\textbf{Advertising}$ and Sales."
   ]
  },
  {
   "cell_type": "markdown",
   "metadata": {},
   "source": [
    "\n",
    " - ***(iii). (2 points) Do any of the explanatory variables exhibit collinearity?    Explain.***"
   ]
  },
  {
   "cell_type": "markdown",
   "metadata": {},
   "source": [
    "Looking at $\\textbf{Advertising}$ in the third row (or third column), no other variables showed a linear relationship so $\\textbf{no collinearity}$.\n",
    "\n",
    "Looking at $\\textbf{Lakes}$, we see a linear relationship and thus $\\textbf{collinearity}$ with $\\textbf{Competitors}$ .\n"
   ]
  },
  {
   "cell_type": "markdown",
   "metadata": {},
   "source": [
    "### [2] Part B: Adjust the Model\n",
    "\n",
    "***(i).  (2 points) Choose one additional explanatory variable to add to your model, based on your exploratory analysis in Part 2A.  Explain your reasoning for the variable you have chosen.***\n",
    "\n"
   ]
  },
  {
   "cell_type": "markdown",
   "metadata": {},
   "source": [
    "We choose to add the explanatory variable $\\textbf{Advertising}$ as it showed no collinearity among the other variables and have the clearest linear relationship with $\\textbf{Sales}$"
   ]
  },
  {
   "cell_type": "markdown",
   "metadata": {},
   "source": [
    "***(ii). (2 points) Create a Multiple Linear Regression Model with `sales` as the dependent variable, `lakes` as one of the independent variables and the new variable you have chosen as the other independent variable.***  \n",
    "\n",
    "***Print the model output summary table for this new model, and then write the equation for this new model in a markdown cell.***"
   ]
  },
  {
   "cell_type": "code",
   "execution_count": 10,
   "metadata": {},
   "outputs": [
    {
     "name": "stdout",
     "output_type": "stream",
     "text": [
      "const          12.481377\n",
      "lakes          -0.691324\n",
      "advertising     1.110071\n",
      "dtype: float64\n"
     ]
    },
    {
     "data": {
      "text/html": [
       "<table class=\"simpletable\">\n",
       "<caption>OLS Regression Results</caption>\n",
       "<tr>\n",
       "  <th>Dep. Variable:</th>          <td>sales</td>      <th>  R-squared:         </th> <td>   0.742</td>\n",
       "</tr>\n",
       "<tr>\n",
       "  <th>Model:</th>                   <td>OLS</td>       <th>  Adj. R-squared:    </th> <td>   0.737</td>\n",
       "</tr>\n",
       "<tr>\n",
       "  <th>Method:</th>             <td>Least Squares</td>  <th>  F-statistic:       </th> <td>   132.4</td>\n",
       "</tr>\n",
       "<tr>\n",
       "  <th>Date:</th>             <td>Fri, 09 Dec 2022</td> <th>  Prob (F-statistic):</th> <td>8.31e-28</td>\n",
       "</tr>\n",
       "<tr>\n",
       "  <th>Time:</th>                 <td>00:43:13</td>     <th>  Log-Likelihood:    </th> <td> -237.35</td>\n",
       "</tr>\n",
       "<tr>\n",
       "  <th>No. Observations:</th>      <td>    95</td>      <th>  AIC:               </th> <td>   480.7</td>\n",
       "</tr>\n",
       "<tr>\n",
       "  <th>Df Residuals:</th>          <td>    92</td>      <th>  BIC:               </th> <td>   488.4</td>\n",
       "</tr>\n",
       "<tr>\n",
       "  <th>Df Model:</th>              <td>     2</td>      <th>                     </th>     <td> </td>   \n",
       "</tr>\n",
       "<tr>\n",
       "  <th>Covariance Type:</th>      <td>nonrobust</td>    <th>                     </th>     <td> </td>   \n",
       "</tr>\n",
       "</table>\n",
       "<table class=\"simpletable\">\n",
       "<tr>\n",
       "       <td></td>          <th>coef</th>     <th>std err</th>      <th>t</th>      <th>P>|t|</th>  <th>[0.025</th>    <th>0.975]</th>  \n",
       "</tr>\n",
       "<tr>\n",
       "  <th>const</th>       <td>   12.4814</td> <td>    1.056</td> <td>   11.816</td> <td> 0.000</td> <td>   10.383</td> <td>   14.579</td>\n",
       "</tr>\n",
       "<tr>\n",
       "  <th>lakes</th>       <td>   -0.6913</td> <td>    0.147</td> <td>   -4.696</td> <td> 0.000</td> <td>   -0.984</td> <td>   -0.399</td>\n",
       "</tr>\n",
       "<tr>\n",
       "  <th>advertising</th> <td>    1.1101</td> <td>    0.075</td> <td>   14.849</td> <td> 0.000</td> <td>    0.962</td> <td>    1.259</td>\n",
       "</tr>\n",
       "</table>\n",
       "<table class=\"simpletable\">\n",
       "<tr>\n",
       "  <th>Omnibus:</th>       <td> 0.577</td> <th>  Durbin-Watson:     </th> <td>   1.607</td>\n",
       "</tr>\n",
       "<tr>\n",
       "  <th>Prob(Omnibus):</th> <td> 0.749</td> <th>  Jarque-Bera (JB):  </th> <td>   0.710</td>\n",
       "</tr>\n",
       "<tr>\n",
       "  <th>Skew:</th>          <td> 0.158</td> <th>  Prob(JB):          </th> <td>   0.701</td>\n",
       "</tr>\n",
       "<tr>\n",
       "  <th>Kurtosis:</th>      <td> 2.718</td> <th>  Cond. No.          </th> <td>    39.6</td>\n",
       "</tr>\n",
       "</table><br/><br/>Notes:<br/>[1] Standard Errors assume that the covariance matrix of the errors is correctly specified."
      ],
      "text/plain": [
       "<class 'statsmodels.iolib.summary.Summary'>\n",
       "\"\"\"\n",
       "                            OLS Regression Results                            \n",
       "==============================================================================\n",
       "Dep. Variable:                  sales   R-squared:                       0.742\n",
       "Model:                            OLS   Adj. R-squared:                  0.737\n",
       "Method:                 Least Squares   F-statistic:                     132.4\n",
       "Date:                Fri, 09 Dec 2022   Prob (F-statistic):           8.31e-28\n",
       "Time:                        00:43:13   Log-Likelihood:                -237.35\n",
       "No. Observations:                  95   AIC:                             480.7\n",
       "Df Residuals:                      92   BIC:                             488.4\n",
       "Df Model:                           2                                         \n",
       "Covariance Type:            nonrobust                                         \n",
       "===============================================================================\n",
       "                  coef    std err          t      P>|t|      [0.025      0.975]\n",
       "-------------------------------------------------------------------------------\n",
       "const          12.4814      1.056     11.816      0.000      10.383      14.579\n",
       "lakes          -0.6913      0.147     -4.696      0.000      -0.984      -0.399\n",
       "advertising     1.1101      0.075     14.849      0.000       0.962       1.259\n",
       "==============================================================================\n",
       "Omnibus:                        0.577   Durbin-Watson:                   1.607\n",
       "Prob(Omnibus):                  0.749   Jarque-Bera (JB):                0.710\n",
       "Skew:                           0.158   Prob(JB):                        0.701\n",
       "Kurtosis:                       2.718   Cond. No.                         39.6\n",
       "==============================================================================\n",
       "\n",
       "Notes:\n",
       "[1] Standard Errors assume that the covariance matrix of the errors is correctly specified.\n",
       "\"\"\""
      ]
     },
     "execution_count": 10,
     "metadata": {},
     "output_type": "execute_result"
    }
   ],
   "source": [
    "## adapted from nb22\n",
    "X = dfSales[[\"lakes\", \"advertising\"]]\n",
    "# Add a constant to the 'X' array for the intecept. \n",
    "X = sm.add_constant(X)\n",
    "# Collect the response (Dependent variable) data in an array.\n",
    "y = dfSales[\"sales\"]\n",
    "MLRmodel = sm.OLS(y, X).fit()\n",
    "print(MLRmodel.params)\n",
    "MLRmodel.summary()"
   ]
  },
  {
   "cell_type": "markdown",
   "metadata": {},
   "source": [
    "We write the MLR equation:\n",
    "\n",
    "$\n",
    "\\texttt{sales} = \\color{blue}{12.48} \\color{red}{- 0.69} \\times \\texttt{Lakes} \\color{red}{+ 1.11} \\times \\texttt{Advertising}\n",
    "$"
   ]
  },
  {
   "cell_type": "markdown",
   "metadata": {},
   "source": [
    "### [2] Part C: Inference on MLR Model: Step 1\n",
    "\n",
    "For this part of the problem you can assume (without checking) that this new model meets the standard assumptions of multiple linear regression.  \n",
    "\n",
    "***Lets see if this new model as a whole is significant at an alpha level of  5%.  In other words, we want to use a single test to see if at least one of the two explanatory variables really has a significant linear association with the response variable.***  \n",
    "\n",
    " - ***(i). (3 points)  State the null and alternate hypotheses we should test at an alpha level of  5% , and explain what they mean.***\n",
    " "
   ]
  },
  {
   "cell_type": "markdown",
   "metadata": {},
   "source": [
    "\n",
    "$\n",
    "H_0: \\beta_1 = \\beta_2 = 0 \\\\\n",
    "H_1: \\beta \\neq 0 \n",
    "$\n",
    "\n",
    "The null is checking if all the slopes are equal to 0 and therefore the variables don't have a linear relationship with sales. So the fit of the intercept only model and the above model are equal.\n",
    "\n",
    "The alternate checks if at least one $\\beta_i$ is different than 0. The fit of ther intercept model is reduced compared to the MLR model.\n",
    "\n"
   ]
  },
  {
   "cell_type": "markdown",
   "metadata": {},
   "source": [
    " - ***(ii). (2 points) What is the appropriate test (by name, not formula) to use for this, and what are the degrees of freedom?*** \n",
    " "
   ]
  },
  {
   "cell_type": "markdown",
   "metadata": {},
   "source": [
    "An $\\textbf{F-Test}$ is a hypothesis test where we check the overall significance of the model. and we have $\\textbf{95-2-1=92}$ degrees of freedom"
   ]
  },
  {
   "cell_type": "markdown",
   "metadata": {},
   "source": [
    " - ***(iii). (2 points) Calculate the critical value and state the decision rule for this test at an alpha level of 5%.***  \n",
    " "
   ]
  },
  {
   "cell_type": "code",
   "execution_count": 11,
   "metadata": {},
   "outputs": [
    {
     "name": "stdout",
     "output_type": "stream",
     "text": [
      "\n",
      " F_critical = 161.448\n"
     ]
    }
   ],
   "source": [
    "n = 95\n",
    "p = 2\n",
    "df = n-p-1\n",
    "F_crt = stats.f.ppf(.95,p-1,1)\n",
    "print('\\n F_critical = {:.3f}'.format(F_crt))"
   ]
  },
  {
   "cell_type": "markdown",
   "metadata": {},
   "source": [
    "If our F value we calculate is less than 161.448, we will reject the null hypothesis and find the model significant as a whole."
   ]
  },
  {
   "cell_type": "markdown",
   "metadata": {},
   "source": [
    " - ***(iv). (3 points) Write code to calculate the appropriate test statistic from scratch and then summarize the conclusion of your hypothesis test. (Note for credit you must write code to calculate the appropriate test statistic from its formula using your data and model.  You can use the model output summary table to check your answer).***  "
   ]
  },
  {
   "cell_type": "code",
   "execution_count": 12,
   "metadata": {},
   "outputs": [
    {
     "name": "stdout",
     "output_type": "stream",
     "text": [
      "\n",
      " F = 132.427\n"
     ]
    }
   ],
   "source": [
    "\n",
    "## adapted from nb22\n",
    "def fit(X, params):\n",
    "    return params[0] + params[1]*X.lakes + params[2]*X.advertising\n",
    "yhat = fit(X, MLRmodel.params)\n",
    "# 'ybar' contains the mean of the y-values\n",
    "ybar = np.mean(y)\n",
    "# sum of squared errors\n",
    "sse = np.sum((y-yhat)**2)\n",
    "# total sum of squares\n",
    "sst = np.sum((y-ybar)**2)\n",
    "# Test statistic calculation\n",
    "F = ( (sst-sse)/p )/( (sse/df) )\n",
    "#print('SSE = {:0.3f}, SST = {:.3f}, and R^2 = {:.3f}'.format(sse,sst,R2))\n",
    "print('\\n F = {:.3f}'.format(F))"
   ]
  },
  {
   "cell_type": "markdown",
   "metadata": {},
   "source": [
    "Our F value is less than the critical F value.\n",
    "\n",
    "Therefore we find the model significant as a whole."
   ]
  },
  {
   "cell_type": "markdown",
   "metadata": {},
   "source": [
    "### [2] Part D: Inference on MLR Model: Step 2\n",
    "\n",
    "After Part 2C, you should have found that the new model as a whole is significant. So, it will be helpful to know exactly which variable (or variables) have a significant linear association with the response variable.  \n",
    "\n",
    " - ***(i). (2 points) What is the appropriate test (by name, not formula) to test one-by-one whether an individual explanatory variable in your model is a statistically significant linear predictor of the response variable after adjusting for the other explanatory variables?***\n",
    " \n",
    " \n",
    "\n",
    "\n",
    "\n",
    "\n"
   ]
  },
  {
   "cell_type": "markdown",
   "metadata": {},
   "source": [
    "The $\\textbf{t-test}$ is for each individual coefficient $B_1, B_2$ and tells us whether they are nonzero in presense of one another.\n",
    "\n",
    "For each slope $\\beta$, we want to see if they indeed have a linear relationship with sales:\n",
    "$\n",
    "H_0: \\beta_i = 0 \\\\\n",
    "H_1: \\beta_i \\neq 0 \n",
    "$\n",
    "In this test, we get each $B$ t-value and get then p-value and compare to $\\alpha$."
   ]
  },
  {
   "cell_type": "markdown",
   "metadata": {},
   "source": [
    " - ***(ii). (2 points) Explain the conclusion(s) of this test for each of the explanatory variables in your model, using output from your model summary table.\n",
    "(Note: For this part of the problem you do not need to calculate each test statistic from scratch- instead you can just look up the appropriate results from the output summary table and explain your conclusions below).***\n"
   ]
  },
  {
   "cell_type": "code",
   "execution_count": 13,
   "metadata": {},
   "outputs": [
    {
     "data": {
      "text/html": [
       "<table class=\"simpletable\">\n",
       "<caption>OLS Regression Results</caption>\n",
       "<tr>\n",
       "  <th>Dep. Variable:</th>          <td>sales</td>      <th>  R-squared:         </th> <td>   0.742</td>\n",
       "</tr>\n",
       "<tr>\n",
       "  <th>Model:</th>                   <td>OLS</td>       <th>  Adj. R-squared:    </th> <td>   0.737</td>\n",
       "</tr>\n",
       "<tr>\n",
       "  <th>Method:</th>             <td>Least Squares</td>  <th>  F-statistic:       </th> <td>   132.4</td>\n",
       "</tr>\n",
       "<tr>\n",
       "  <th>Date:</th>             <td>Fri, 09 Dec 2022</td> <th>  Prob (F-statistic):</th> <td>8.31e-28</td>\n",
       "</tr>\n",
       "<tr>\n",
       "  <th>Time:</th>                 <td>00:43:13</td>     <th>  Log-Likelihood:    </th> <td> -237.35</td>\n",
       "</tr>\n",
       "<tr>\n",
       "  <th>No. Observations:</th>      <td>    95</td>      <th>  AIC:               </th> <td>   480.7</td>\n",
       "</tr>\n",
       "<tr>\n",
       "  <th>Df Residuals:</th>          <td>    92</td>      <th>  BIC:               </th> <td>   488.4</td>\n",
       "</tr>\n",
       "<tr>\n",
       "  <th>Df Model:</th>              <td>     2</td>      <th>                     </th>     <td> </td>   \n",
       "</tr>\n",
       "<tr>\n",
       "  <th>Covariance Type:</th>      <td>nonrobust</td>    <th>                     </th>     <td> </td>   \n",
       "</tr>\n",
       "</table>\n",
       "<table class=\"simpletable\">\n",
       "<tr>\n",
       "       <td></td>          <th>coef</th>     <th>std err</th>      <th>t</th>      <th>P>|t|</th>  <th>[0.025</th>    <th>0.975]</th>  \n",
       "</tr>\n",
       "<tr>\n",
       "  <th>const</th>       <td>   12.4814</td> <td>    1.056</td> <td>   11.816</td> <td> 0.000</td> <td>   10.383</td> <td>   14.579</td>\n",
       "</tr>\n",
       "<tr>\n",
       "  <th>lakes</th>       <td>   -0.6913</td> <td>    0.147</td> <td>   -4.696</td> <td> 0.000</td> <td>   -0.984</td> <td>   -0.399</td>\n",
       "</tr>\n",
       "<tr>\n",
       "  <th>advertising</th> <td>    1.1101</td> <td>    0.075</td> <td>   14.849</td> <td> 0.000</td> <td>    0.962</td> <td>    1.259</td>\n",
       "</tr>\n",
       "</table>\n",
       "<table class=\"simpletable\">\n",
       "<tr>\n",
       "  <th>Omnibus:</th>       <td> 0.577</td> <th>  Durbin-Watson:     </th> <td>   1.607</td>\n",
       "</tr>\n",
       "<tr>\n",
       "  <th>Prob(Omnibus):</th> <td> 0.749</td> <th>  Jarque-Bera (JB):  </th> <td>   0.710</td>\n",
       "</tr>\n",
       "<tr>\n",
       "  <th>Skew:</th>          <td> 0.158</td> <th>  Prob(JB):          </th> <td>   0.701</td>\n",
       "</tr>\n",
       "<tr>\n",
       "  <th>Kurtosis:</th>      <td> 2.718</td> <th>  Cond. No.          </th> <td>    39.6</td>\n",
       "</tr>\n",
       "</table><br/><br/>Notes:<br/>[1] Standard Errors assume that the covariance matrix of the errors is correctly specified."
      ],
      "text/plain": [
       "<class 'statsmodels.iolib.summary.Summary'>\n",
       "\"\"\"\n",
       "                            OLS Regression Results                            \n",
       "==============================================================================\n",
       "Dep. Variable:                  sales   R-squared:                       0.742\n",
       "Model:                            OLS   Adj. R-squared:                  0.737\n",
       "Method:                 Least Squares   F-statistic:                     132.4\n",
       "Date:                Fri, 09 Dec 2022   Prob (F-statistic):           8.31e-28\n",
       "Time:                        00:43:13   Log-Likelihood:                -237.35\n",
       "No. Observations:                  95   AIC:                             480.7\n",
       "Df Residuals:                      92   BIC:                             488.4\n",
       "Df Model:                           2                                         \n",
       "Covariance Type:            nonrobust                                         \n",
       "===============================================================================\n",
       "                  coef    std err          t      P>|t|      [0.025      0.975]\n",
       "-------------------------------------------------------------------------------\n",
       "const          12.4814      1.056     11.816      0.000      10.383      14.579\n",
       "lakes          -0.6913      0.147     -4.696      0.000      -0.984      -0.399\n",
       "advertising     1.1101      0.075     14.849      0.000       0.962       1.259\n",
       "==============================================================================\n",
       "Omnibus:                        0.577   Durbin-Watson:                   1.607\n",
       "Prob(Omnibus):                  0.749   Jarque-Bera (JB):                0.710\n",
       "Skew:                           0.158   Prob(JB):                        0.701\n",
       "Kurtosis:                       2.718   Cond. No.                         39.6\n",
       "==============================================================================\n",
       "\n",
       "Notes:\n",
       "[1] Standard Errors assume that the covariance matrix of the errors is correctly specified.\n",
       "\"\"\""
      ]
     },
     "execution_count": 13,
     "metadata": {},
     "output_type": "execute_result"
    }
   ],
   "source": [
    "MLRmodel.summary()"
   ]
  },
  {
   "cell_type": "markdown",
   "metadata": {},
   "source": [
    "We look at the \"t\" values for lakes (-4.696) and advertising (14.849) and then the p-values associate with them.\n",
    "\n",
    "We are rejecting the null at $\\alpha$ = 0.05.\n",
    "\n",
    "For ${lakes}$, we find the p value to be less than 0.05 and therefore reject the null.\n",
    "\n",
    "For ${advertising}$, we also find the p value to be less than 0.05 and therefore reject the null."
   ]
  },
  {
   "cell_type": "markdown",
   "metadata": {},
   "source": [
    "### [2] Part E: Quantifying Model Goodness of Fit\n",
    "\n",
    "***(2 points) What percent of total variation in sales revenue can be explained by the new model you found in Part 2B?    Is this an improvement compared to the SLR model in Question 1?  Explain.***"
   ]
  },
  {
   "cell_type": "code",
   "execution_count": 14,
   "metadata": {},
   "outputs": [
    {
     "name": "stdout",
     "output_type": "stream",
     "text": [
      "Therefore 37.11 % of total variation in sales can be explained by the new model\n",
      "This IS an improvement from the SLR in Question 1\n",
      "Since more variation can be explained by the model, the model has been improved.\n"
     ]
    }
   ],
   "source": [
    "# total sum of squares from regression\n",
    "ssr = np.sum((yhat-ybar)**2)\n",
    "percent = ssr/(sse+sst+ssr)\n",
    "print(\"Therefore\",np.round(percent*100,3),\"% of total variation in sales can be explained by the new model\")\n",
    "print(\"This IS an improvement from the SLR in Question 1\")\n",
    "print(\"Since more variation can be explained by the model, the model has been improved.\")"
   ]
  },
  {
   "cell_type": "markdown",
   "metadata": {},
   "source": [
    "### [2] Part F: Final Pass at a Model \n",
    "\n",
    "\n",
    "You are curious if the model you found above is really the best you can do with the dataset.  \n",
    "\n",
    "In this open-ended problem you will use the same dataset (paddle.csv) but you may use any subset of the columns to build your \"best\" Multiple Linear Regression model.  i.e. you want to create the best model you can to quantify how sales can be explained and predicted by the features in this dataset.\n",
    "\n",
    "For this problem the dependent variable will still be sales.  Any other variables will be candidates for explanatory variables.  \n",
    "\n",
    "\n",
    "Your goal is to demonstrate that you have an understanding of how to choose between columns and validate/check for issues in a multiple linear regression problem.\n",
    "\n",
    " - ***(i). (4 pts)  By adding variables step-by-step to a minimal model or by removing variables step-by-step from the full model, use one or more of the criteria covered in our class to create a reasonable candidate model (i.e. the \"best\" you can do with the data given). The criteria you use may include (but are not limited to):***\n",
    " \n",
    "  - ***adjusted $R^2$***\n",
    "  - ***inclusion/removal of most or least-significant t-tests on coefficients***\n",
    "  - ***F-tests to compare between models***\n",
    "  \n",
    " \n",
    "***In addition to code showing the model variations you try, use markdown cell(s) to write-up an explanation of your reasoning for each step of this process as you construct a final version of the model.***\n",
    "\n",
    "***Your explanation should include the results of the F-test and t-tests for your final model. If you choose to include an insignificant explanatory variable in your final model you must fully justify your reasoning.*** \n",
    "\n",
    "  \n"
   ]
  },
  {
   "cell_type": "code",
   "execution_count": 15,
   "metadata": {},
   "outputs": [
    {
     "name": "stdout",
     "output_type": "stream",
     "text": [
      "                            OLS Regression Results                            \n",
      "==============================================================================\n",
      "Dep. Variable:                  sales   R-squared:                       0.785\n",
      "Model:                            OLS   Adj. R-squared:                  0.776\n",
      "Method:                 Least Squares   F-statistic:                     82.25\n",
      "Date:                Fri, 09 Dec 2022   Prob (F-statistic):           3.17e-29\n",
      "Time:                        00:43:13   Log-Likelihood:                -228.68\n",
      "No. Observations:                  95   AIC:                             467.4\n",
      "Df Residuals:                      90   BIC:                             480.1\n",
      "Df Model:                           4                                         \n",
      "Covariance Type:            nonrobust                                         \n",
      "===============================================================================\n",
      "                  coef    std err          t      P>|t|      [0.025      0.975]\n",
      "-------------------------------------------------------------------------------\n",
      "const          12.1010      1.289      9.390      0.000       9.541      14.661\n",
      "lakes           0.4020      0.308      1.305      0.195      -0.210       1.014\n",
      "advertising     1.1393      0.070     16.391      0.000       1.001       1.277\n",
      "competitors    -1.0352      0.256     -4.042      0.000      -1.544      -0.526\n",
      "pop             0.0127      0.014      0.927      0.356      -0.015       0.040\n",
      "==============================================================================\n",
      "Omnibus:                        0.231   Durbin-Watson:                   1.642\n",
      "Prob(Omnibus):                  0.891   Jarque-Bera (JB):                0.366\n",
      "Skew:                           0.103   Prob(JB):                        0.833\n",
      "Kurtosis:                       2.776   Cond. No.                         297.\n",
      "==============================================================================\n",
      "\n",
      "Notes:\n",
      "[1] Standard Errors assume that the covariance matrix of the errors is correctly specified.\n",
      "We begin with 4 variables\n"
     ]
    }
   ],
   "source": [
    "## adapted from nb22\n",
    "X = dfSales[[\"lakes\", \"advertising\",'competitors','pop']]\n",
    "# Add a constant to the 'X' array for the intecept. \n",
    "X = sm.add_constant(X)\n",
    "# Collect the response (Dependent variable) data in an array.\n",
    "y = dfSales[\"sales\"]\n",
    "MLRmodel = sm.OLS(y, X).fit()\n",
    "print(MLRmodel.summary())\n",
    "print(\"We begin with 4 variables\")"
   ]
  },
  {
   "cell_type": "code",
   "execution_count": 16,
   "metadata": {},
   "outputs": [
    {
     "name": "stdout",
     "output_type": "stream",
     "text": [
      "                            OLS Regression Results                            \n",
      "==============================================================================\n",
      "Dep. Variable:                  sales   R-squared:                       0.783\n",
      "Model:                            OLS   Adj. R-squared:                  0.776\n",
      "Method:                 Least Squares   F-statistic:                     109.6\n",
      "Date:                Fri, 09 Dec 2022   Prob (F-statistic):           4.24e-30\n",
      "Time:                        00:43:13   Log-Likelihood:                -229.13\n",
      "No. Observations:                  95   AIC:                             466.3\n",
      "Df Residuals:                      91   BIC:                             476.5\n",
      "Df Model:                           3                                         \n",
      "Covariance Type:            nonrobust                                         \n",
      "===============================================================================\n",
      "                  coef    std err          t      P>|t|      [0.025      0.975]\n",
      "-------------------------------------------------------------------------------\n",
      "const          12.8771      0.979     13.157      0.000      10.933      14.821\n",
      "lakes           0.4411      0.305      1.446      0.152      -0.165       1.047\n",
      "advertising     1.1334      0.069     16.387      0.000       0.996       1.271\n",
      "competitors    -1.0567      0.255     -4.147      0.000      -1.563      -0.551\n",
      "==============================================================================\n",
      "Omnibus:                        0.137   Durbin-Watson:                   1.627\n",
      "Prob(Omnibus):                  0.934   Jarque-Bera (JB):                0.239\n",
      "Skew:                           0.085   Prob(JB):                        0.887\n",
      "Kurtosis:                       2.822   Cond. No.                         43.1\n",
      "==============================================================================\n",
      "\n",
      "Notes:\n",
      "[1] Standard Errors assume that the covariance matrix of the errors is correctly specified.\n",
      "We remove pop\n",
      "                            OLS Regression Results                            \n",
      "==============================================================================\n",
      "Dep. Variable:                  sales   R-squared:                       0.778\n",
      "Model:                            OLS   Adj. R-squared:                  0.773\n",
      "Method:                 Least Squares   F-statistic:                     161.4\n",
      "Date:                Fri, 09 Dec 2022   Prob (F-statistic):           8.24e-31\n",
      "Time:                        00:43:13   Log-Likelihood:                -230.21\n",
      "No. Observations:                  95   AIC:                             466.4\n",
      "Df Residuals:                      92   BIC:                             474.1\n",
      "Df Model:                           2                                         \n",
      "Covariance Type:            nonrobust                                         \n",
      "===============================================================================\n",
      "                  coef    std err          t      P>|t|      [0.025      0.975]\n",
      "-------------------------------------------------------------------------------\n",
      "const          13.1652      0.964     13.658      0.000      11.251      15.080\n",
      "advertising     1.1204      0.069     16.242      0.000       0.983       1.257\n",
      "competitors    -0.7267      0.114     -6.368      0.000      -0.953      -0.500\n",
      "==============================================================================\n",
      "Omnibus:                        0.286   Durbin-Watson:                   1.585\n",
      "Prob(Omnibus):                  0.867   Jarque-Bera (JB):                0.426\n",
      "Skew:                           0.112   Prob(JB):                        0.808\n",
      "Kurtosis:                       2.761   Cond. No.                         40.0\n",
      "==============================================================================\n",
      "\n",
      "Notes:\n",
      "[1] Standard Errors assume that the covariance matrix of the errors is correctly specified.\n",
      "We remove lakes\n"
     ]
    }
   ],
   "source": [
    "\n",
    "# remove pop\n",
    "X = dfSales[[\"lakes\", \"advertising\",'competitors']]\n",
    "# Add a constant to the 'X' array for the intecept. \n",
    "X = sm.add_constant(X)\n",
    "# Collect the response (Dependent variable) data in an array.\n",
    "y = dfSales[\"sales\"]\n",
    "MLRmodel = sm.OLS(y, X).fit()\n",
    "print(MLRmodel.summary())\n",
    "print(\"We remove pop\")\n",
    "# remove lakes\n",
    "X = dfSales[[\"advertising\",'competitors']]\n",
    "# Add a constant to the 'X' array for the intecept. \n",
    "X = sm.add_constant(X)\n",
    "# Collect the response (Dependent variable) data in an array.\n",
    "y = dfSales[\"sales\"]\n",
    "MLRmodel = sm.OLS(y, X).fit()\n",
    "print(MLRmodel.summary())\n",
    "print(\"We remove lakes\")"
   ]
  },
  {
   "cell_type": "markdown",
   "metadata": {},
   "source": [
    " - ***(ii).  (2 pts) Give the equation for your final model (in markdown) AND interpret the meaning of the intercept and coefficients in your final model in the context of the problem.   Explain how your final model makes sense in the context of the problem (or if it doesn't, you'll want to try to explain why not).*** "
   ]
  },
  {
   "cell_type": "markdown",
   "metadata": {},
   "source": [
    "$\n",
    "\\texttt{sales} = \\color{blue}{12.48} \\color{red}{+ 1.12} \\times \\texttt{Advertising} \\color{red}{- 0.73} \\times \\texttt{competitors}\n",
    "$\n",
    "\n",
    "As advertising is increased for the store, sales should increase and as more competitors are nearby, sales should decrease from competition.\n"
   ]
  },
  {
   "cell_type": "markdown",
   "metadata": {},
   "source": [
    "\n",
    "### [2] Part G: Back To Your Friend\n",
    "\n",
    "After finishing your final model, you report the results to your friend.  Your friend asks you to answer the following questions:  \n",
    " \n",
    " \n",
    " - ***i). (3 pt) Provide 95% confidence intervals for each of the coefficients in your final model (you can use the summary table to find these and you do not need to provide a confidence interval for the intercept).  Since your friend is rusty at statistics, write an explanation/ interpretation of what each of the confidence intervals mean in the context of this dataset.*** \n",
    " "
   ]
  },
  {
   "cell_type": "markdown",
   "metadata": {},
   "source": [
    "The $advertising$ 95% CI is (0.983, 1.257) which means for every thousand dollars spent on advertising, the shop sees an increase of sales of somewhere between 983 and 1257 dollars.\n",
    "\n",
    "The $advertising$ 95% CI is (-0.953, -0.500) which means for every thousand dollars spent on advertising, the shop sees an decrease of sales of somewhere between 500 and 953 dollars.\n",
    "\n",
    "This is said with 95% confidence."
   ]
  },
  {
   "cell_type": "markdown",
   "metadata": {},
   "source": [
    "\n",
    " \n"
   ]
  },
  {
   "cell_type": "markdown",
   "metadata": {},
   "source": [
    " - ii). ***(2 pts) Your friend is thinking of opening a new paddleboard shop in a town with population density of 75 people per square mile.  The town has 4 lakes nearby and currently only 2 nearby competitors. Based on your final model, how much money do you recommend they allocate to this shop for advertising during the first year so that the shop's first year sales revenue will be at least $\\$25,000$? Explain.***  "
   ]
  },
  {
   "cell_type": "code",
   "execution_count": 17,
   "metadata": {},
   "outputs": [
    {
     "name": "stdout",
     "output_type": "stream",
     "text": [
      "22311.589285714283\n"
     ]
    }
   ],
   "source": [
    "advertising = (25000-12.48+.73*2)/1.12\n",
    "print(advertising)"
   ]
  },
  {
   "cell_type": "markdown",
   "metadata": {},
   "source": [
    "Therefore, I'd recommended spending $22,311 on advertising"
   ]
  },
  {
   "cell_type": "markdown",
   "metadata": {},
   "source": [
    "- ***iii). (1 pt) Is there any other data (i.e. other possible explanatory variables) you recommend your friend gather in the future to possibly improve the model of sales revenue?  Explain.***  "
   ]
  },
  {
   "cell_type": "markdown",
   "metadata": {},
   "source": [
    "It might be good to consider what the average price of a board cost at a shop. This would help to see if cheaper or more expensive boards are feasible."
   ]
  },
  {
   "cell_type": "markdown",
   "metadata": {
    "tags": []
   },
   "source": [
    "<a id='p3'></a>\n",
    "# Problem 3\n",
    "***\n",
    "Narwhals are a threatened species. There are approximately 80,000 left in existence. In an attempt to determine the health of the current narwhal population, a number of these whales were captured and weighed. Since there are not many of these creatures to find, only a small sample was able to be counted and the underlying narwhal weight distribution is unknown. \n",
    "\n",
    "Given the data:\n",
    "\n",
    "Narwhal sample weights (pounds): 700, 900, 1000, 1000, 1200, 1400, 1500, 1600, 1600, 1700, 1900, 2000, 2100, 2100, 2300\n"
   ]
  },
  {
   "cell_type": "markdown",
   "metadata": {},
   "source": [
    "### [3] Part A\n",
    "***(3 points)\n",
    "Produce a 95% confidence interval for narwhal population median weight.***"
   ]
  },
  {
   "cell_type": "code",
   "execution_count": 18,
   "metadata": {},
   "outputs": [
    {
     "data": {
      "text/plain": [
       "(1326.558889566094, 1873.441110433906)"
      ]
     },
     "execution_count": 18,
     "metadata": {},
     "output_type": "execute_result"
    }
   ],
   "source": [
    "x = [700, 900, 1000, 1000, 1200, 1400, 1500, 1600, 1600, 1700, 1900, 2000, 2100, 2100, 2300]\n",
    "#create 95% confidence interval for population median weight\n",
    "stats.t.interval(0.95, df=len(x)-1, loc=np.median(x), scale=stats.sem(x)) "
   ]
  },
  {
   "cell_type": "markdown",
   "metadata": {},
   "source": [
    "### [3] Part B\n",
    "***(3 points)\n",
    "Produce a 95% confidence interval for narwhal population mean weight.***\n"
   ]
  },
  {
   "cell_type": "code",
   "execution_count": 19,
   "metadata": {},
   "outputs": [
    {
     "data": {
      "text/plain": [
       "(1259.8922228994272, 1806.7744437672393)"
      ]
     },
     "execution_count": 19,
     "metadata": {},
     "output_type": "execute_result"
    }
   ],
   "source": [
    "#create 95% confidence interval for population mean weight\n",
    "stats.t.interval(0.95, df=len(x)-1, loc=np.mean(x), scale=stats.sem(x)) "
   ]
  },
  {
   "cell_type": "markdown",
   "metadata": {},
   "source": [
    "### [3] Part C\n",
    "***(3 points)\n",
    "Produce a 95% confidence interval for narwhal population standard deviation of weights.***"
   ]
  },
  {
   "cell_type": "code",
   "execution_count": 20,
   "metadata": {},
   "outputs": [
    {
     "data": {
      "text/plain": [
       "(203.5867247660491, 750.4689456338612)"
      ]
     },
     "execution_count": 20,
     "metadata": {},
     "output_type": "execute_result"
    }
   ],
   "source": [
    "#create 95% confidence interval for population std weight\n",
    "stats.t.interval(0.95, df=len(x)-1, loc=np.std(x), scale=stats.sem(x)) "
   ]
  },
  {
   "cell_type": "markdown",
   "metadata": {
    "tags": []
   },
   "source": [
    "<a id='p4'></a>\n",
    "# Problem 4\n",
    "***\n",
    "\n",
    "Ostriches are typically around 7 to 9 feet tall.\n",
    "\n",
    "Some folks would claim that ostriches at one zoo are particularly taller than ostriches at another zoo due to influences such as climate and/or diet. We have samples of ostrich height from two different zoos.\n",
    "\n",
    "(For this problem you can assume that the ostrich populations from which these samples are taken are normally distributed with equal (but unknown) population variance).  \n",
    "\n",
    "***(6 points) Create a 95% CI for the difference between the mean ostrich heights for zoo A and zoo B, and interpret your answer.***\n",
    "\n",
    "\n"
   ]
  },
  {
   "cell_type": "markdown",
   "metadata": {},
   "source": [
    "The heights of ostriches from Zoo A are found in the file `height1.csv`.\n",
    "\n",
    "The heights of ostriches from Zoo B are found in the file `height2.csv`.\n",
    " "
   ]
  },
  {
   "cell_type": "code",
   "execution_count": 21,
   "metadata": {},
   "outputs": [
    {
     "name": "stdout",
     "output_type": "stream",
     "text": [
      "The difference in mean ostrich heights between each zoo with a 95% CI gives [ 0.98236 , 1.41764 ]\n"
     ]
    }
   ],
   "source": [
    "# adapted from HW7\n",
    "dfA = pd.read_csv(\"height1.csv\") \n",
    "dfB = pd.read_csv(\"height2.csv\") \n",
    "# get data\n",
    "x = dfA[\"height1\"]\n",
    "y = dfB[\"height2\"]\n",
    "# calculate mean, standard deviation, and count\n",
    "X = np.mean(x)\n",
    "Y = np.mean(y)\n",
    "std1 = np.std(x) # a std\n",
    "std2 = np.std(y) # b std\n",
    "m = 23\n",
    "n = 23\n",
    "z = 1.96\n",
    "b1 = X-Y+z*np.sqrt((std1**2)/m + (std2**2)/n) # bound 1\n",
    "b2 = X-Y-z*np.sqrt((std1**2)/m + (std2**2)/n) # bound 2\n",
    "print(\"The difference in mean ostrich heights between each zoo with a 95% CI gives [\",np.round(b2,5),\",\",np.round(b1,5),\"]\")"
   ]
  },
  {
   "cell_type": "markdown",
   "metadata": {},
   "source": [
    "\n"
   ]
  },
  {
   "cell_type": "markdown",
   "metadata": {},
   "source": [
    "\n",
    "Note zero is not included in this interval so 95% of intervals created this way will contain the true ostrich mean height difference. \n",
    "\n",
    "Specifically, this interval indicates that mean ostrich heights from zoo A are greater than zoo B by somewhere between 0.98236 and 1.41764 feet."
   ]
  },
  {
   "cell_type": "markdown",
   "metadata": {
    "tags": []
   },
   "source": [
    "<a id='p5'></a>\n",
    "# Problem 5\n",
    "***"
   ]
  },
  {
   "cell_type": "markdown",
   "metadata": {},
   "source": [
    "Suppose you are working for a government agency that provides food to war torn countries. The cornmeal packaging facility that you oversee is producing hundreds of thousands of bags of cornmeal for this purpose.\n",
    "\n",
    "You take a simple random sample of bags from the production line and weigh them. The data for this sample is found in `cornMeal.csv`.\n",
    "\n",
    "\n",
    "\n",
    "\n",
    "### [5] Part A\n",
    "***(1 pt) Create a frequency histogram of the data to get a visual idea of how normal the data appears to be distributed.***\n"
   ]
  },
  {
   "cell_type": "code",
   "execution_count": 22,
   "metadata": {},
   "outputs": [
    {
     "data": {
      "image/png": "[encoded data removed]",
      "text/plain": [
       "<Figure size 576x576 with 2 Axes>"
      ]
     },
     "metadata": {
      "needs_background": "light"
     },
     "output_type": "display_data"
    }
   ],
   "source": [
    "dfCorn = pd.read_csv(\"cornMeal.csv\")\n",
    "\n",
    "## adapted from nb03 exercise 2\n",
    "\n",
    "# Initialize figure subplots\n",
    "fig, axes = plt.subplots(nrows=2, ncols=1, figsize=(8,8))\n",
    "## First plot with more bins\n",
    "my_bins = range(925,1075,10)\n",
    "dfCorn.hist(column=\"bagWeight\", ax=axes[0],  bins=my_bins, facecolor=\"steelblue\", edgecolor=\"white\")\n",
    "axes[0].set_title(\"Bag Weight Frequency Histogram\", fontsize=20)\n",
    "axes[0].set_xlabel(\"Weight\", fontsize=16)\n",
    "axes[0].set_ylabel(\"Frequency\", fontsize=16)\n",
    "axes[0].grid(alpha=0.25)\n",
    "axes[0].set_axisbelow(True)\n",
    "## Second plot with less bins\n",
    "my_bins = range(925,1075,20)\n",
    "dfCorn.hist(column=\"bagWeight\", ax=axes[1], bins=my_bins, facecolor=\"steelblue\", edgecolor=\"white\")\n",
    "axes[1].set_title(\"Bag Weight Frequency Histogram\", fontsize=20)\n",
    "axes[1].set_xlabel(\"Weight\", fontsize=16)\n",
    "axes[1].set_ylabel(\"Frequency\", fontsize=16)\n",
    "axes[1].grid(alpha=0.25)\n",
    "axes[1].set_axisbelow(True)\n",
    "fig.subplots_adjust(hspace=.5)"
   ]
  },
  {
   "cell_type": "markdown",
   "metadata": {},
   "source": [
    "\n",
    "\n",
    "### [5] Part B\n",
    "Since tax money is paying for each bag to have 1000g of cornmeal, it's important to make sure that each bag actually contains 1000g. Assume that this sample (`cornMeal.csv`) is representative of the population (i.e. bags produced on this production line) from which it was drawn.\n",
    "\n",
    "***(3 points) According to the mean, standard deviation and distribution of this sample, we can infer that what percent of bags from the entire population contain less than 1000g?***"
   ]
  },
  {
   "cell_type": "code",
   "execution_count": 23,
   "metadata": {},
   "outputs": [
    {
     "name": "stdout",
     "output_type": "stream",
     "text": [
      "P( Y ≤ 1000) = x \n",
      " x = 52.10 %\n",
      "Therefore about 52% of the entire population contains less than 1000g\n"
     ]
    }
   ],
   "source": [
    "x = dfCorn[\"bagWeight\"]\n",
    "n = len(x)\n",
    "X = np.mean(x)\n",
    "sigma = np.std(x)\n",
    "percent = norm.cdf(1000,loc=X,scale=sigma)\n",
    "print(\"P( Y \\u2264 1000) = x \\n x = {:.2f}\".format(100*percent),\"%\")\n",
    "print(\"Therefore about 52% of the entire population contains less than 1000g\")"
   ]
  },
  {
   "cell_type": "markdown",
   "metadata": {},
   "source": [
    "### [5] Part C\n",
    "\n",
    "The federal director in charge of this project has decided that a production line that produces more than 50% of bags without 1000g of cornmeal is cheating the taxpayers. In other words, the director has decided that too many bags are being filled with less than 1000g of cornmeal and tells you to fix the problem.\n",
    "\n",
    "Specifically, your task/mandate is to make sure at least 95% of cornmeal bags are filled within 5 grams of the labeled \"1000g per bag\".\n",
    "\n",
    "You have the ability to adjust a dial on the production machine that determines the mean amount of corn meal injected into a bag each time $\\textbf{or}$ you can adjust the shut-off valve so the differences in the filled amount per bag significantly reduces.\n",
    "\n",
    "You have two advisors working with you on this project. The first advisor tells you to simply adjust the dial on the machine regulating the mean amount injected into each bag so that 1000g is 1.7 standard deviations below the new mean. This would ensure that very few bags (only around 4%) produced are actually below\n",
    "the mandated 1000g. This would surely satisfy the director and fulfill your mandate.\n"
   ]
  },
  {
   "cell_type": "code",
   "execution_count": 24,
   "metadata": {},
   "outputs": [
    {
     "name": "stdout",
     "output_type": "stream",
     "text": [
      "4.456546275854304\n"
     ]
    }
   ],
   "source": [
    "# If you are curious, this is where the previously mentioned 4% came from.\n",
    "pp = norm.cdf(-1.7)\n",
    "print(pp*100)"
   ]
  },
  {
   "cell_type": "markdown",
   "metadata": {},
   "source": [
    "***(2 points) If you follow this advice, then what would you set as the new mean amount of cornmeal to inject into each bag?***   "
   ]
  },
  {
   "cell_type": "code",
   "execution_count": 25,
   "metadata": {},
   "outputs": [
    {
     "name": "stdout",
     "output_type": "stream",
     "text": [
      "The new mean is confirmed to be 1032.3\n"
     ]
    }
   ],
   "source": [
    "std = 1.7\n",
    "#X = 1002.89\n",
    "X = 1000+1.7*sigma\n",
    "print(\"The new mean is confirmed to be\",X)"
   ]
  },
  {
   "cell_type": "markdown",
   "metadata": {},
   "source": [
    "### [5] Part D\n",
    "Your second advisor points out that increasing the mean to a higher level will create overfilling of bags or waste.\n",
    "\n",
    "Therefore, you decide to measure the overage that might occur should you follow the instructions of advisor 1.\n",
    "\n",
    "***(3 points) If you followed the advice of advisor 1, then you would increase the mean amount of cornmeal injected into each bag. With this new mean, what percentage of bags produced going forward would we expect to be greater than $1010g$ ?***\n"
   ]
  },
  {
   "cell_type": "code",
   "execution_count": 26,
   "metadata": {
    "scrolled": true,
    "tags": []
   },
   "outputs": [
    {
     "name": "stdout",
     "output_type": "stream",
     "text": [
      "P( Y ≤ 1010) = x \n",
      " x = 87.97392 %\n",
      "About 87.9739 of the entire population should contain more than 1010g\n"
     ]
    }
   ],
   "source": [
    "percent = 1 - norm.cdf(1010,loc=X,scale=sigma)\n",
    "print(\"P( Y \\u2264 1010) = x \\n x = {:.5f}\".format(100*percent),\"%\")\n",
    "print(\"About\",np.round((100*percent),4),\"of the entire population should contain more than 1010g\")\n"
   ]
  },
  {
   "cell_type": "markdown",
   "metadata": {},
   "source": [
    "### [5] Part E\n",
    "\n",
    "Your second advisor goes on to say, in an effort to control overfilling, one $\\textbf{should not}$ increase the mean amount of cornmeal per bag. This advisor claims you should instead adjust the accuracy of the shut-off valve to control how much (over/under) cornmeal is put into each bag.\n",
    "\n",
    "***(3 points) So, if you decide not to adjust the mean and instead adjust the shut-off valve (i.e. the standard deviation), then what should the new standard deviation be to ensure $98\\%$ of bags are within 5 grams of the mean?***\n"
   ]
  },
  {
   "cell_type": "code",
   "execution_count": 27,
   "metadata": {},
   "outputs": [
    {
     "name": "stdout",
     "output_type": "stream",
     "text": [
      "P(994 ≤ X ≤ 1004) = 0.980532\n",
      "98.0532126385034\n",
      "Therefore the std should be around 2.14\n"
     ]
    }
   ],
   "source": [
    "X = np.mean(x)\n",
    "sigma = 2.14 # varied until 98% was acheived)\n",
    "res = norm.cdf(1004,loc=X,scale=sigma)-norm.cdf(994,loc=X,scale=sigma)\n",
    "print(\"P(994 \\u2264 X \\u2264 1004) = {:.6f}\".format( res ))\n",
    "print(res*100)\n",
    "print(\"Therefore the std should be around 2.14\")"
   ]
  },
  {
   "cell_type": "markdown",
   "metadata": {},
   "source": [
    "### [5] Part F\n",
    "***(3 points) Using this new standard deviation from Part E (and not adjusting the mean), what percent of bags would we expect to be within 5 grams of the labeled \"1000g per bag\"? In other words, going forward, what percent of bags would we expect to contain between $995g$ and $1005g$ of cornmeal? Have you satisfied the mandate?***\n"
   ]
  },
  {
   "cell_type": "code",
   "execution_count": 28,
   "metadata": {},
   "outputs": [
    {
     "name": "stdout",
     "output_type": "stream",
     "text": [
      "P(995 ≤ X ≤ 1005) = 0.966674\n",
      "Therefore, 96.6% of bags are within 5 grams of cornmeal. We have satisfied the mandate\n"
     ]
    }
   ],
   "source": [
    "res = norm.cdf(1005,loc=X,scale=sigma)-norm.cdf(995,loc=X,scale=sigma)\n",
    "print(\"P(995 \\u2264 X \\u2264 1005) = {:.6f}\".format( res ))\n",
    "print(\"Therefore, 96.6% of bags are within 5 grams of cornmeal. We have satisfied the mandate\")"
   ]
  },
  {
   "cell_type": "markdown",
   "metadata": {
    "tags": []
   },
   "source": [
    "<a id='p6'></a>\n",
    "# Problem 6\n",
    "***"
   ]
  },
  {
   "cell_type": "markdown",
   "metadata": {},
   "source": [
    "Consider a CU CS course with two sections; Section 001 and Section 002.\n",
    "\n",
    "The .csv file `Section_001.csv` contains the twelve quiz scores of 4 named students from section 001.\n",
    "\n",
    "The .csv file `Section_002.csv` contains the twelve quiz scores of 4 named students from section 002.\n",
    "\n",
    "Import the data of these two sets.\n",
    "One of the sections contains four students whose scores $\\textbf{are not}$ statistically different.\n",
    "The other section contains four students whose scores $\\textbf{are}$ statistically different.\n",
    "\n",
    "You can assume that population quiz scores for both sections are normally distributed with the same (unknown) population variance.  \n"
   ]
  },
  {
   "cell_type": "code",
   "execution_count": 29,
   "metadata": {},
   "outputs": [
    {
     "data": {
      "text/html": [
       "<div>\n",
       "<style scoped>\n",
       "    .dataframe tbody tr th:only-of-type {\n",
       "        vertical-align: middle;\n",
       "    }\n",
       "\n",
       "    .dataframe tbody tr th {\n",
       "        vertical-align: top;\n",
       "    }\n",
       "\n",
       "    .dataframe thead th {\n",
       "        text-align: right;\n",
       "    }\n",
       "</style>\n",
       "<table border=\"1\" class=\"dataframe\">\n",
       "  <thead>\n",
       "    <tr style=\"text-align: right;\">\n",
       "      <th></th>\n",
       "      <th>Eli</th>\n",
       "      <th>Frida</th>\n",
       "      <th>Gob</th>\n",
       "      <th>Hank</th>\n",
       "    </tr>\n",
       "  </thead>\n",
       "  <tbody>\n",
       "    <tr>\n",
       "      <th>0</th>\n",
       "      <td>18.9</td>\n",
       "      <td>16.1</td>\n",
       "      <td>10.6</td>\n",
       "      <td>19.2</td>\n",
       "    </tr>\n",
       "    <tr>\n",
       "      <th>1</th>\n",
       "      <td>17.7</td>\n",
       "      <td>15.4</td>\n",
       "      <td>14.9</td>\n",
       "      <td>18.9</td>\n",
       "    </tr>\n",
       "    <tr>\n",
       "      <th>2</th>\n",
       "      <td>20.0</td>\n",
       "      <td>16.4</td>\n",
       "      <td>12.9</td>\n",
       "      <td>19.1</td>\n",
       "    </tr>\n",
       "    <tr>\n",
       "      <th>3</th>\n",
       "      <td>17.3</td>\n",
       "      <td>14.3</td>\n",
       "      <td>10.7</td>\n",
       "      <td>19.1</td>\n",
       "    </tr>\n",
       "    <tr>\n",
       "      <th>4</th>\n",
       "      <td>17.2</td>\n",
       "      <td>16.4</td>\n",
       "      <td>8.2</td>\n",
       "      <td>18.8</td>\n",
       "    </tr>\n",
       "    <tr>\n",
       "      <th>5</th>\n",
       "      <td>18.2</td>\n",
       "      <td>16.5</td>\n",
       "      <td>15.9</td>\n",
       "      <td>19.4</td>\n",
       "    </tr>\n",
       "    <tr>\n",
       "      <th>6</th>\n",
       "      <td>18.1</td>\n",
       "      <td>16.5</td>\n",
       "      <td>11.9</td>\n",
       "      <td>18.6</td>\n",
       "    </tr>\n",
       "    <tr>\n",
       "      <th>7</th>\n",
       "      <td>17.6</td>\n",
       "      <td>15.0</td>\n",
       "      <td>15.5</td>\n",
       "      <td>19.2</td>\n",
       "    </tr>\n",
       "    <tr>\n",
       "      <th>8</th>\n",
       "      <td>18.1</td>\n",
       "      <td>16.4</td>\n",
       "      <td>10.3</td>\n",
       "      <td>18.9</td>\n",
       "    </tr>\n",
       "    <tr>\n",
       "      <th>9</th>\n",
       "      <td>16.0</td>\n",
       "      <td>14.5</td>\n",
       "      <td>16.2</td>\n",
       "      <td>19.5</td>\n",
       "    </tr>\n",
       "    <tr>\n",
       "      <th>10</th>\n",
       "      <td>18.2</td>\n",
       "      <td>15.3</td>\n",
       "      <td>19.2</td>\n",
       "      <td>18.8</td>\n",
       "    </tr>\n",
       "    <tr>\n",
       "      <th>11</th>\n",
       "      <td>19.3</td>\n",
       "      <td>16.1</td>\n",
       "      <td>13.5</td>\n",
       "      <td>18.8</td>\n",
       "    </tr>\n",
       "  </tbody>\n",
       "</table>\n",
       "</div>"
      ],
      "text/plain": [
       "     Eli  Frida   Gob  Hank\n",
       "0   18.9   16.1  10.6  19.2\n",
       "1   17.7   15.4  14.9  18.9\n",
       "2   20.0   16.4  12.9  19.1\n",
       "3   17.3   14.3  10.7  19.1\n",
       "4   17.2   16.4   8.2  18.8\n",
       "5   18.2   16.5  15.9  19.4\n",
       "6   18.1   16.5  11.9  18.6\n",
       "7   17.6   15.0  15.5  19.2\n",
       "8   18.1   16.4  10.3  18.9\n",
       "9   16.0   14.5  16.2  19.5\n",
       "10  18.2   15.3  19.2  18.8\n",
       "11  19.3   16.1  13.5  18.8"
      ]
     },
     "execution_count": 29,
     "metadata": {},
     "output_type": "execute_result"
    }
   ],
   "source": [
    "dfS1 = pd.read_csv(\"Section_001.csv\")\n",
    "dfS2 = pd.read_csv(\"Section_002.csv\")\n",
    "dfS1\n",
    "dfS2"
   ]
  },
  {
   "cell_type": "markdown",
   "metadata": {},
   "source": [
    "### [6] Part A\n",
    "***(3 points) Perform ANOVA F-test(s) to determine which data set (section 001 or section 002) contains a group of students whose mean quiz scores are considered different at the $\\alpha = 0.05$ significance level.***"
   ]
  },
  {
   "cell_type": "code",
   "execution_count": 30,
   "metadata": {},
   "outputs": [
    {
     "name": "stdout",
     "output_type": "stream",
     "text": [
      "Section 1:\n",
      " F = 0.01345\n",
      "pval = 0.99784\n",
      "The critical F value is 4.0662\n",
      "Section 2:\n",
      " F = 26.67605\n",
      "pval = 0.00000000055\n"
     ]
    }
   ],
   "source": [
    "## adapted from nb24\n",
    "\n",
    "## section 001\n",
    "# stats.f_oneway returns 2 parameters from the groups of data: F-score and p-value of F.\n",
    "F, pval = stats.f_oneway(dfS1[\"Al\"], dfS1[\"Bob\"], dfS1[\"Cy\"],dfS1[\"Dot\"])\n",
    "# Print out the F-score and the corresponding p-value.\n",
    "print(\"Section 1:\\n F = {:.5f}\".format(F))\n",
    "print(\"pval = {:.5f}\".format(pval))\n",
    "# Find the critical F. \n",
    "k = 4; n = 12;\n",
    "num = k - 1\n",
    "den = n - k\n",
    "F_cr = stats.f.ppf(.95,num,den)\n",
    "print(\"The critical F value is {:.5}\".format(F_cr))\n",
    "\n",
    "## section 002\n",
    "# stats.f_oneway returns 2 parameters from the groups of data: F-score and p-value of F.\n",
    "F, pval = stats.f_oneway(dfS2[\"Eli\"], dfS2[\"Frida\"], dfS2[\"Gob\"],dfS2[\"Hank\"])\n",
    "# Print out the F-score and the corresponding p-value.\n",
    "print(\"Section 2:\\n F = {:.5f}\".format(F))\n",
    "print(\"pval = {:.11f}\".format(pval))\n",
    "# Find the critical F. \n",
    "k = 4; n = 12;\n",
    "num = k - 1\n",
    "den = n - k\n",
    "F_cr = stats.f.ppf(.95,num,den)"
   ]
  },
  {
   "cell_type": "markdown",
   "metadata": {},
   "source": [
    "The F-score for the $\\textbf{second}$ section is greater than the critical F: $26.67>4.06$, so we reject the null hypothesis imposed for that section.\n",
    "\n",
    "Or: $\\color{red}{\\text{In section 2, at least one of the group means is different}}$ from the others.\n",
    "\n",
    "This is also shown by the pval for section 2, $0.0000000005$, being less than the significance level $\\alpha = .05$"
   ]
  },
  {
   "cell_type": "markdown",
   "metadata": {},
   "source": [
    "### [6] Part B\n",
    "\n",
    "***(3 points)  Now that you have chosen the data set (the proper CS section) that contains four students whose scores are considered different at the 5% level, use Tukey's Honest Significant Difference (HSD) test to determine which students in this section are statistically different using the MultiComparison module and interpret the results, i.e. compare/rank the students according to quiz scores.***\n"
   ]
  },
  {
   "cell_type": "code",
   "execution_count": 31,
   "metadata": {},
   "outputs": [
    {
     "name": "stdout",
     "output_type": "stream",
     "text": [
      "Multiple Comparison of Means - Tukey HSD, FWER=0.05 \n",
      "====================================================\n",
      "group1 group2 meandiff p-adj   lower   upper  reject\n",
      "----------------------------------------------------\n",
      "   Eli  Frida  -2.3083 0.0098 -4.1714 -0.4453   True\n",
      "   Eli    Gob  -4.7333    0.0 -6.5964 -2.8703   True\n",
      "   Eli   Hank    0.975 0.5077 -0.8881  2.8381  False\n",
      " Frida    Gob   -2.425 0.0062 -4.2881 -0.5619   True\n",
      " Frida   Hank   3.2833 0.0001  1.4203  5.1464   True\n",
      "   Gob   Hank   5.7083    0.0  3.8453  7.5714   True\n",
      "----------------------------------------------------\n"
     ]
    }
   ],
   "source": [
    "## adapted from nb24\n",
    "data = dfS2.values.T.flatten()  # Pandas to NumPy, Transpose, and 'flatten'\n",
    "  # data = [5 4 4 3 9 4 4 8 7 5 1 5 9 8 8 10 5 10]\n",
    "# Create an empty array to hold the names of the archers.\n",
    "labels = []\n",
    "# This for-loop puts the archers name in once for each of their scores.\n",
    "# .count() is a built-in function that returns the number of times an object\n",
    "#  appears in a list. \n",
    "for col in dfS2.columns:\n",
    "    labels = labels + [col]*dfS2[col].count()\n",
    "mc = MultiComparison(data, labels)\n",
    "result = mc.tukeyhsd()\n",
    "print(result)"
   ]
  },
  {
   "cell_type": "markdown",
   "metadata": {},
   "source": [
    "We have 4 groups so we make $4$ pairwise comparisons. \n",
    "From the reject column, we find Eli's and Hank's means are not different.\n",
    "\n",
    "So, we conclude we have sufficient statistical evidence to believe the everyone else has different means.\n",
    "We inspect samples means..."
   ]
  },
  {
   "cell_type": "code",
   "execution_count": 32,
   "metadata": {},
   "outputs": [
    {
     "name": "stdout",
     "output_type": "stream",
     "text": [
      "Eli mean: 18.050\n",
      "Frida mean: 15.742\n",
      "Gob mean: 13.317\n",
      "Hank mean: 19.025\n"
     ]
    }
   ],
   "source": [
    "print(\"Eli mean: {:.3f}\".format(dfS2[\"Eli\"].mean()))\n",
    "print(\"Frida mean: {:.3f}\".format(dfS2[\"Frida\"].mean()))\n",
    "print(\"Gob mean: {:.3f}\".format(dfS2[\"Gob\"].mean()))\n",
    "print(\"Hank mean: {:.3f}\".format(dfS2[\"Hank\"].mean()))"
   ]
  },
  {
   "cell_type": "markdown",
   "metadata": {},
   "source": [
    "Therefore we say:\n",
    "\n",
    "$\\mu_{Hank} = \\mu_{Eli} > \\mu_{Frida} > \\mu_{Gob}$."
   ]
  },
  {
   "cell_type": "markdown",
   "metadata": {
    "tags": []
   },
   "source": [
    "<a id='p7'></a>\n",
    "# Problem 7\n",
    "***"
   ]
  },
  {
   "cell_type": "markdown",
   "metadata": {},
   "source": [
    "In this question you will import `x.csv` and compare its distribution to a distribution of sample means taken from samples of `x.csv`.\n"
   ]
  },
  {
   "cell_type": "code",
   "execution_count": 33,
   "metadata": {},
   "outputs": [
    {
     "data": {
      "text/html": [
       "<div>\n",
       "<style scoped>\n",
       "    .dataframe tbody tr th:only-of-type {\n",
       "        vertical-align: middle;\n",
       "    }\n",
       "\n",
       "    .dataframe tbody tr th {\n",
       "        vertical-align: top;\n",
       "    }\n",
       "\n",
       "    .dataframe thead th {\n",
       "        text-align: right;\n",
       "    }\n",
       "</style>\n",
       "<table border=\"1\" class=\"dataframe\">\n",
       "  <thead>\n",
       "    <tr style=\"text-align: right;\">\n",
       "      <th></th>\n",
       "      <th>x</th>\n",
       "    </tr>\n",
       "  </thead>\n",
       "  <tbody>\n",
       "    <tr>\n",
       "      <th>0</th>\n",
       "      <td>28.09</td>\n",
       "    </tr>\n",
       "    <tr>\n",
       "      <th>1</th>\n",
       "      <td>19.14</td>\n",
       "    </tr>\n",
       "    <tr>\n",
       "      <th>2</th>\n",
       "      <td>134.34</td>\n",
       "    </tr>\n",
       "    <tr>\n",
       "      <th>3</th>\n",
       "      <td>42.41</td>\n",
       "    </tr>\n",
       "    <tr>\n",
       "      <th>4</th>\n",
       "      <td>84.75</td>\n",
       "    </tr>\n",
       "    <tr>\n",
       "      <th>...</th>\n",
       "      <td>...</td>\n",
       "    </tr>\n",
       "    <tr>\n",
       "      <th>995</th>\n",
       "      <td>7.35</td>\n",
       "    </tr>\n",
       "    <tr>\n",
       "      <th>996</th>\n",
       "      <td>42.21</td>\n",
       "    </tr>\n",
       "    <tr>\n",
       "      <th>997</th>\n",
       "      <td>133.64</td>\n",
       "    </tr>\n",
       "    <tr>\n",
       "      <th>998</th>\n",
       "      <td>71.75</td>\n",
       "    </tr>\n",
       "    <tr>\n",
       "      <th>999</th>\n",
       "      <td>71.38</td>\n",
       "    </tr>\n",
       "  </tbody>\n",
       "</table>\n",
       "<p>1000 rows × 1 columns</p>\n",
       "</div>"
      ],
      "text/plain": [
       "          x\n",
       "0     28.09\n",
       "1     19.14\n",
       "2    134.34\n",
       "3     42.41\n",
       "4     84.75\n",
       "..      ...\n",
       "995    7.35\n",
       "996   42.21\n",
       "997  133.64\n",
       "998   71.75\n",
       "999   71.38\n",
       "\n",
       "[1000 rows x 1 columns]"
      ]
     },
     "execution_count": 33,
     "metadata": {},
     "output_type": "execute_result"
    }
   ],
   "source": [
    "dfX = pd.read_csv(\"x.csv\")\n",
    "dfX"
   ]
  },
  {
   "cell_type": "markdown",
   "metadata": {},
   "source": [
    "### [7] Part A\n",
    "***(3 points) Create a **density histogram** of the data set, find its mean, and describe its shape.***"
   ]
  },
  {
   "cell_type": "code",
   "execution_count": 34,
   "metadata": {},
   "outputs": [
    {
     "name": "stdout",
     "output_type": "stream",
     "text": [
      "The mean of the dataset is: 41.35\n",
      "The median of the dataset is: 27.8\n"
     ]
    },
    {
     "data": {
      "image/png": "[encoded data removed]",
      "text/plain": [
       "<Figure size 576x288 with 1 Axes>"
      ]
     },
     "metadata": {
      "needs_background": "light"
     },
     "output_type": "display_data"
    }
   ],
   "source": [
    "## density histogram\n",
    "\n",
    "# Adapted from nb03\n",
    "fig, ax = plt.subplots(figsize=(8,4))\n",
    "my_bins = np.linspace(-5,250,10)\n",
    "mycolor = 'steelblue'\n",
    "dfX.hist(column=\"x\", density=True, ax=ax, bins=my_bins, facecolor=mycolor, edgecolor=\"black\")\n",
    "ax.set_title(\"Density Histogram of Data Set\", fontsize=20)\n",
    "ax.set_xlabel(\"x\", fontsize=16)\n",
    "ax.set_ylabel(\"Density\", fontsize=16) \n",
    "ax.grid(alpha=0.25)\n",
    "ax.set_axisbelow(True)\n",
    "\n",
    "## mean\n",
    "\n",
    "X = dfX['x'].mean()\n",
    "print(\"The mean of the dataset is:\",np.round(X,2))\n",
    "\n",
    "X = dfX['x'].median()\n",
    "print(\"The median of the dataset is:\",np.round(X,2))"
   ]
  },
  {
   "cell_type": "markdown",
   "metadata": {},
   "source": [
    "The density histogram is right-skewed or more data lies closer towards 0."
   ]
  },
  {
   "cell_type": "markdown",
   "metadata": {},
   "source": [
    "### [7] Part B\n",
    "***(4 points)  Complete the functions below to graph a sample distribution of sample means from this file. Do not change the names or any of the existing code.***"
   ]
  },
  {
   "cell_type": "code",
   "execution_count": 37,
   "metadata": {},
   "outputs": [],
   "source": [
    "# 'x' refers to the values in our file x.csv.\n",
    "\n",
    "# Create a function that returns a single sample mean from a single\n",
    "#  random sample of size 'sample_size=5' obtained from 'x'.\n",
    "# Uncomment the function below and use it.\n",
    "\n",
    "def est_mean_from_sample(sample_size=5):\n",
    "    sample = np.zeros(sample_size)\n",
    "    for i in range(0,sample_size):\n",
    "        sample[i] = np.random.choice(dfX['x'])\n",
    "    # sample mean calculation\n",
    "    return np.mean(sample)\n",
    "\n",
    "# Create a function that returns an array of sample means by\n",
    "#  calling 'est_mean_from_sample' 'numb_samples' amount of times.\n",
    "# Uncomment the function below and use it.\n",
    "\n",
    "def array_of_means(sample_size=5, numb_samples=12):\n",
    "    ret = np.zeros(numb_samples)\n",
    "    for i in range(0,numb_samples):\n",
    "        ret[i] = est_mean_from_sample(sample_size)\n",
    "    return ret\n",
    "\n",
    "# Create a function that graphs a distribution of the\n",
    "#  sample means returned from 'array_of_means'.\n",
    "# Uncomment the function below and use it.\n",
    "\n",
    "def sample_mean_dist(sample_size=5, numb_samples=12):\n",
    "    fig, ax = plt.subplots(figsize=(8,4))\n",
    "    my_bins = np.linspace(0,100,10)\n",
    "    mycolor = 'steelblue'\n",
    "    data = array_of_means(sample_size,numb_samples)\n",
    "    low = min(data)\n",
    "    high = max(data)\n",
    "    my_bins = np.linspace(low,high,15)\n",
    "    plt.hist(data, bins=my_bins, density=True, facecolor=mycolor, edgecolor=\"black\")\n",
    "    ax.set_title(\"Mean Sample Distribution\", fontsize=20)\n",
    "    ax.set_xlabel(\"x\", fontsize=16)\n",
    "    ax.set_ylabel(\"Density\", fontsize=16) \n",
    "    ax.grid(alpha=0.25)\n",
    "    ax.set_axisbelow(True)\n",
    "    print(\"The mean of the sample distribution is\",np.round(np.mean(data),4))\n",
    " "
   ]
  },
  {
   "cell_type": "markdown",
   "metadata": {},
   "source": [
    "### [7] Part C\n",
    "***(2 points) Now call `sample_mean_dist()` with sample_size=31 and numb_samples=10000. How close is the mean of the sample distribution to the mean of the distribution of `x.csv` ? Is the distribution of sample means more or less skewed than `x.csv` ?\n",
    "What is the name of the theorem that explains these observations?***"
   ]
  },
  {
   "cell_type": "code",
   "execution_count": 38,
   "metadata": {},
   "outputs": [
    {
     "name": "stdout",
     "output_type": "stream",
     "text": [
      "The mean of the sample distribution is 41.2971\n"
     ]
    },
    {
     "data": {
      "image/png": "[encoded data removed]",
      "text/plain": [
       "<Figure size 576x288 with 1 Axes>"
      ]
     },
     "metadata": {
      "needs_background": "light"
     },
     "output_type": "display_data"
    }
   ],
   "source": [
    "# Call the graphing function.\n",
    "# Uncomment the function call below to use it.\n",
    "\n",
    "sample_mean_dist(sample_size=31, numb_samples=10000)"
   ]
  },
  {
   "cell_type": "markdown",
   "metadata": {},
   "source": [
    "The mean of the sample distribution is 41.2971 which is very close to 41.35.\n",
    "\n",
    "The distribution of the sample means is much less skewed the the x distribution.\n",
    "\n",
    "The name of this theorem is the central limit theorem."
   ]
  },
  {
   "cell_type": "code",
   "execution_count": null,
   "metadata": {},
   "outputs": [],
   "source": []
  }
 ],
 "metadata": {
  "kernelspec": {
   "display_name": "Python 3 (ipykernel)",
   "language": "python",
   "name": "python3"
  },
  "language_info": {
   "codemirror_mode": {
    "name": "ipython",
    "version": 3
   },
   "file_extension": ".py",
   "mimetype": "text/x-python",
   "name": "python",
   "nbconvert_exporter": "python",
   "pygments_lexer": "ipython3",
   "version": "3.10.5"
  }
 },
 "nbformat": 4,
 "nbformat_minor": 4
}
