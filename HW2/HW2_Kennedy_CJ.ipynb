{
 "cells": [
  {
   "cell_type": "markdown",
   "metadata": {
    "tags": []
   },
   "source": [
    "# Homework 02: Data Visualization and Data Wrangling \n",
    "***\n",
    "\n",
    "**Name**: CJ Kennedy\n",
    "\n",
    "***\n",
    "\n",
    "This assignment is due on Canvas by **6:00PM on Friday September 9**. Your solutions to theoretical questions should be done in Markdown directly below the associated question.  Your solutions to computational questions should include any specified Python code and results as well as written commentary on your conclusions.  Remember that you are encouraged to discuss the problems with your classmates, but **you must write all code and solutions on your own**.\n",
    "\n",
    "**NOTES**: \n",
    "\n",
    "- Any relevant data sets should be available in the Homework 01 assignment write-up on Canvas. To make life easier on the grader if they need to run your code, do not change the relative path names here. Instead, move the files around on your computer.\n",
    "- If you're not familiar with typesetting math directly into Markdown then by all means, do your work on paper first and then typeset it later.  Remember that there is a [reference guide](https://math.meta.stackexchange.com/questions/5020/mathjax-basic-tutorial-and-quick-reference) linked on Canvas on writing math in Markdown. **All** of your written commentary, justifications and mathematical work should be in Markdown.\n",
    "- Because you can technically evaluate notebook cells is a non-linear order, it's a good idea to do $\\color{red}{\\text{Kernel}}$ $\\color{red}\\rightarrow$ $\\color{red}{\\text{Restart & Run All}}$ as a check before submitting your solutions.  That way if we need to run your code you will know that it will work as expected. \n",
    "- It is **bad form** to make your reader interpret numerical output from your code.  If a question asks you to compute some value from the data you should show your code output **AND** $\\color{red}{\\text{write a summary of the results}}$ in Markdown directly below your code. \n",
    "- This probably goes without saying, but... For any question that asks you to calculate something, you **must show all work and justify your answers to receive credit**. Sparse or nonexistent work will receive sparse or nonexistent credit. \n",
    "\n",
    "---"
   ]
  },
  {
   "cell_type": "markdown",
   "metadata": {},
   "source": [
    "As always, you should import Pandas and NumPy when you start working with data."
   ]
  },
  {
   "cell_type": "code",
   "execution_count": 1,
   "metadata": {},
   "outputs": [],
   "source": [
    "# Per the standard import pandas as 'pd' and numpy as 'np'\n",
    "import pandas as pd\n",
    "import numpy as np\n"
   ]
  },
  {
   "cell_type": "markdown",
   "metadata": {},
   "source": [
    "In this homework you will also be creating some graphs. Therefore, lets also load Matplotlib's Pylab library to set up Jupyter so that it will plot directly in the notebook.\n",
    "\n",
    "Pylab is a convenience module that bulk imports matplotlib.pyplot (for plotting) and NumPy (for working with arrays) in a single name space."
   ]
  },
  {
   "cell_type": "code",
   "execution_count": 2,
   "metadata": {},
   "outputs": [],
   "source": [
    "import matplotlib.pylab as plt\n",
    "%matplotlib inline \n",
    "    # 'inline' puts your graph in the cell versus a new popup window"
   ]
  },
  {
   "cell_type": "markdown",
   "metadata": {
    "tags": []
   },
   "source": [
    "# Problem 1\n",
    "***\n",
    "We are tasked with a consulting job for a Hotel/Vacation booking startup called $\\color{red}{\\text{Hotels Everyone Loves Leasing}}$, or HELL.com (an unfortunate marketing snaffu).\n",
    "\n",
    "In order to advise HELL.com we will need to wrangle some data and see what story it has to tell before we advise the creators of this new booking website."
   ]
  },
  {
   "cell_type": "markdown",
   "metadata": {
    "tags": []
   },
   "source": [
    "# Part A\n",
    "***1] (1 point) Read in the csv file, \"hotel_bookings.csv\"***\n",
    "\n",
    "For simplicity sake, put the data file in the same folder as the Jupyter notebook file.\n",
    "\n"
   ]
  },
  {
   "cell_type": "code",
   "execution_count": 3,
   "metadata": {},
   "outputs": [],
   "source": [
    "# Call your dataframe \"Hotel\" and be sure to preface it with a \"df\".\n",
    "# Per the standard naming procedure a prefix of \"df\" indicates a dataframe.\n",
    "# Therefore, to be specific, call your dataframe \"dfHotel\"\n",
    "\n",
    "# Read in the file here for #1\n",
    "# Path to the data\n",
    "file_path = 'hotel_bookings.csv'\n",
    "\n",
    "# Load the data into a DataFrame \n",
    "dfHotel = pd.read_csv(file_path)"
   ]
  },
  {
   "cell_type": "markdown",
   "metadata": {},
   "source": [
    "***2] (1 point) Take a look at your data.***\n",
    "\n",
    "See the description of the data below to determine what each column represents.\n",
    "\n",
    "Always look at the data to determine if it needs cleaning; in reality data will nearly always need cleaned."
   ]
  },
  {
   "cell_type": "code",
   "execution_count": 4,
   "metadata": {},
   "outputs": [
    {
     "data": {
      "text/html": [
       "<div>\n",
       "<style scoped>\n",
       "    .dataframe tbody tr th:only-of-type {\n",
       "        vertical-align: middle;\n",
       "    }\n",
       "\n",
       "    .dataframe tbody tr th {\n",
       "        vertical-align: top;\n",
       "    }\n",
       "\n",
       "    .dataframe thead th {\n",
       "        text-align: right;\n",
       "    }\n",
       "</style>\n",
       "<table border=\"1\" class=\"dataframe\">\n",
       "  <thead>\n",
       "    <tr style=\"text-align: right;\">\n",
       "      <th></th>\n",
       "      <th>hotel</th>\n",
       "      <th>is_canceled</th>\n",
       "      <th>lead_time</th>\n",
       "      <th>arrival_date_week_number</th>\n",
       "      <th>arrival_date_day_of_month</th>\n",
       "      <th>stays_in_weekend_nights</th>\n",
       "      <th>stays_in_week_nights</th>\n",
       "      <th>adults</th>\n",
       "      <th>children</th>\n",
       "      <th>distribution_channel</th>\n",
       "      <th>is_repeated_guest</th>\n",
       "      <th>agent</th>\n",
       "      <th>adr</th>\n",
       "      <th>total_of_special_requests</th>\n",
       "    </tr>\n",
       "  </thead>\n",
       "  <tbody>\n",
       "    <tr>\n",
       "      <th>0</th>\n",
       "      <td>Resort Hotel</td>\n",
       "      <td>0</td>\n",
       "      <td>342</td>\n",
       "      <td>27</td>\n",
       "      <td>1</td>\n",
       "      <td>0</td>\n",
       "      <td>0</td>\n",
       "      <td>2</td>\n",
       "      <td>0.0</td>\n",
       "      <td>Direct</td>\n",
       "      <td>0</td>\n",
       "      <td>NaN</td>\n",
       "      <td>0.0</td>\n",
       "      <td>0</td>\n",
       "    </tr>\n",
       "    <tr>\n",
       "      <th>1</th>\n",
       "      <td>Resort Hotel</td>\n",
       "      <td>0</td>\n",
       "      <td>737</td>\n",
       "      <td>27</td>\n",
       "      <td>1</td>\n",
       "      <td>0</td>\n",
       "      <td>0</td>\n",
       "      <td>2</td>\n",
       "      <td>0.0</td>\n",
       "      <td>Direct</td>\n",
       "      <td>0</td>\n",
       "      <td>NaN</td>\n",
       "      <td>0.0</td>\n",
       "      <td>0</td>\n",
       "    </tr>\n",
       "    <tr>\n",
       "      <th>2</th>\n",
       "      <td>Resort Hotel</td>\n",
       "      <td>0</td>\n",
       "      <td>7</td>\n",
       "      <td>27</td>\n",
       "      <td>1</td>\n",
       "      <td>0</td>\n",
       "      <td>1</td>\n",
       "      <td>1</td>\n",
       "      <td>0.0</td>\n",
       "      <td>Direct</td>\n",
       "      <td>0</td>\n",
       "      <td>NaN</td>\n",
       "      <td>75.0</td>\n",
       "      <td>0</td>\n",
       "    </tr>\n",
       "    <tr>\n",
       "      <th>3</th>\n",
       "      <td>Resort Hotel</td>\n",
       "      <td>0</td>\n",
       "      <td>13</td>\n",
       "      <td>27</td>\n",
       "      <td>1</td>\n",
       "      <td>0</td>\n",
       "      <td>1</td>\n",
       "      <td>1</td>\n",
       "      <td>0.0</td>\n",
       "      <td>Corporate</td>\n",
       "      <td>0</td>\n",
       "      <td>304.0</td>\n",
       "      <td>75.0</td>\n",
       "      <td>0</td>\n",
       "    </tr>\n",
       "    <tr>\n",
       "      <th>4</th>\n",
       "      <td>Resort Hotel</td>\n",
       "      <td>0</td>\n",
       "      <td>14</td>\n",
       "      <td>27</td>\n",
       "      <td>1</td>\n",
       "      <td>0</td>\n",
       "      <td>2</td>\n",
       "      <td>2</td>\n",
       "      <td>0.0</td>\n",
       "      <td>TA/TO</td>\n",
       "      <td>0</td>\n",
       "      <td>240.0</td>\n",
       "      <td>98.0</td>\n",
       "      <td>1</td>\n",
       "    </tr>\n",
       "  </tbody>\n",
       "</table>\n",
       "</div>"
      ],
      "text/plain": [
       "          hotel  is_canceled  lead_time  arrival_date_week_number  \\\n",
       "0  Resort Hotel            0        342                        27   \n",
       "1  Resort Hotel            0        737                        27   \n",
       "2  Resort Hotel            0          7                        27   \n",
       "3  Resort Hotel            0         13                        27   \n",
       "4  Resort Hotel            0         14                        27   \n",
       "\n",
       "   arrival_date_day_of_month  stays_in_weekend_nights  stays_in_week_nights  \\\n",
       "0                          1                        0                     0   \n",
       "1                          1                        0                     0   \n",
       "2                          1                        0                     1   \n",
       "3                          1                        0                     1   \n",
       "4                          1                        0                     2   \n",
       "\n",
       "   adults  children distribution_channel  is_repeated_guest  agent   adr  \\\n",
       "0       2       0.0               Direct                  0    NaN   0.0   \n",
       "1       2       0.0               Direct                  0    NaN   0.0   \n",
       "2       1       0.0               Direct                  0    NaN  75.0   \n",
       "3       1       0.0            Corporate                  0  304.0  75.0   \n",
       "4       2       0.0                TA/TO                  0  240.0  98.0   \n",
       "\n",
       "   total_of_special_requests  \n",
       "0                          0  \n",
       "1                          0  \n",
       "2                          0  \n",
       "3                          0  \n",
       "4                          1  "
      ]
     },
     "execution_count": 4,
     "metadata": {},
     "output_type": "execute_result"
    }
   ],
   "source": [
    "# code here for part A, #2 to see all/partial dataframe\n",
    "\n",
    "# inspect first 5 rows\n",
    "dfHotel.head(5)"
   ]
  },
  {
   "cell_type": "markdown",
   "metadata": {
    "jp-MarkdownHeadingCollapsed": true,
    "tags": []
   },
   "source": [
    "# Description of this data set\n",
    "The data set looks as if it has alreaded been 'cleaned'.\n",
    "\n",
    "**hotel**: This column lists the types of hotels that were booked.\n",
    "\n",
    "**is_cancelled**: This column indicates whether or not the booking was cancelled (1) or not (0).\n",
    "\n",
    "**lead_time**: This column is the number of days that elapsed between the entering date of the booking into the PMS and the arrival date.\n",
    "\n",
    "**arrival_date_week_number**: Week number of the year for arrival\n",
    "\n",
    "**arrival_date_day_of_month**: Day of arrival date.\n",
    "\n",
    "**stays_in_weekend_nights**: Number of weekend nights (Saturday or Sunday) the guest stayed or booked to stay at the hotel\n",
    "\n",
    "**stays_in_week_nights**: Number of week nights (Monday to Friday) the guest stayed or booked to stay at the hotel\n",
    "\n",
    "**adults**: number of adults\n",
    "\n",
    "**children**: number of children\n",
    "\n",
    "**distribution_channel**: Booking distribution channel. The term “TA” means “Travel Agents” and “TO” means “Tour Operators”\n",
    "\n",
    "**is_repeated guest**: Value indicating if the booking name was from a repeated guest (1) or not (0)\n",
    "\n",
    "**agent**: ID of the travel agency that made the booking\n",
    "\n",
    "**adr**: Average Daily Rate as defined by dividing the sum of all lodging transactions by the total number of staying nights\n",
    "\n",
    "**total_of_special_requests**: Number of special requests made by the customer (e.g. twin bed or high floor)"
   ]
  },
  {
   "cell_type": "markdown",
   "metadata": {
    "tags": []
   },
   "source": [
    "# Part B\n",
    "***"
   ]
  },
  {
   "cell_type": "markdown",
   "metadata": {},
   "source": [
    "***1] (1 points) Which week-number of the year is the most common arrival week?***\n",
    "\n",
    "You can use `dfHotel.mode()` to find the mode for $\\color{red}{\\text{all columns}}$, and you can also use `dfHotel[\"arrival_date_week_number\"].mode()` to find the mode of $\\color{red}{\\text{just one column}}$, i.e. 'arrival_date_week_number'.\n",
    "\n",
    "However, when you use the latter, the return will be an index of 0 and then the mode you seek. https://pandas.pydata.org/docs/reference/api/pandas.DataFrame.mode.html\n"
   ]
  },
  {
   "cell_type": "code",
   "execution_count": 5,
   "metadata": {},
   "outputs": [
    {
     "name": "stdout",
     "output_type": "stream",
     "text": [
      "The most common arrival week is week 33 .\n"
     ]
    }
   ],
   "source": [
    "# Code your solution to part B #1 here:\n",
    "output = dfHotel[\"arrival_date_week_number\"].mode()\n",
    "print(\"The most common arrival week is week\",output[0],\".\")"
   ]
  },
  {
   "cell_type": "markdown",
   "metadata": {},
   "source": [
    "***2] (1 points) Purely by the number, did weekends see more bookings or weekdays?.***"
   ]
  },
  {
   "cell_type": "code",
   "execution_count": 6,
   "metadata": {},
   "outputs": [
    {
     "name": "stdout",
     "output_type": "stream",
     "text": [
      "There are 110746 bookings for weekends and 298511 for weekdays.\n",
      "Therefore, there are more weekday bookings.\n"
     ]
    }
   ],
   "source": [
    "# Code your solution to part B #2 here\n",
    "weekendsCount = dfHotel[\"stays_in_weekend_nights\"].sum()\n",
    "weekdaysCount = dfHotel[\"stays_in_week_nights\"].sum()\n",
    "print(\"There are\",weekendsCount,\"bookings for weekends and\",weekdaysCount,\"for weekdays.\")\n",
    "print(\"Therefore, there are more weekday bookings.\")"
   ]
  },
  {
   "cell_type": "markdown",
   "metadata": {},
   "source": [
    "***3] (1 points) How many rows are in this data set?***\n"
   ]
  },
  {
   "cell_type": "code",
   "execution_count": 7,
   "metadata": {},
   "outputs": [
    {
     "name": "stdout",
     "output_type": "stream",
     "text": [
      "There are 119390 rows in the data set.\n"
     ]
    }
   ],
   "source": [
    "# Code Part B #3 solution here (advice: use `len`)\n",
    "length = len(dfHotel)\n",
    "print(\"There are\",length,\"rows in the data set.\")"
   ]
  },
  {
   "cell_type": "markdown",
   "metadata": {},
   "source": [
    "***4] (1 points) How many types of hotels do we have information on?***\n"
   ]
  },
  {
   "cell_type": "code",
   "execution_count": 8,
   "metadata": {},
   "outputs": [
    {
     "name": "stdout",
     "output_type": "stream",
     "text": [
      "There are 2 types of hotels, Resort and City hotels.\n"
     ]
    }
   ],
   "source": [
    "# Code Part B #4 solution here (advice: use `set` and/or `len`)\n",
    "types = (dfHotel[\"hotel\"].nunique())\n",
    "print(\"There are\",types,\"types of hotels, Resort and City hotels.\")"
   ]
  },
  {
   "cell_type": "markdown",
   "metadata": {},
   "source": [
    "***5] (1 points) Which type of hotel has more cancellations?***"
   ]
  },
  {
   "cell_type": "code",
   "execution_count": 9,
   "metadata": {},
   "outputs": [
    {
     "name": "stdout",
     "output_type": "stream",
     "text": [
      "Resort Hotels have 40060 cancellations while City Hotels have 79330 cancellations.\n",
      "Therfore, City Hotels have more cancellations.\n"
     ]
    }
   ],
   "source": [
    "# Code Part B #5 solution here:\n",
    "# count() for each hotel\n",
    "resortCancel = dfHotel.loc[dfHotel['hotel'] == 'Resort Hotel', 'is_canceled'].count()\n",
    "cityCancel = dfHotel.loc[dfHotel['hotel'] == 'City Hotel', 'is_canceled'].count()\n",
    "# print\n",
    "print(\"Resort Hotels have\",resortCancel,\"cancellations while City Hotels have\", cityCancel, \"cancellations.\")\n",
    "print(\"Therfore, City Hotels have more cancellations.\")"
   ]
  },
  {
   "cell_type": "markdown",
   "metadata": {
    "tags": []
   },
   "source": [
    "# Part C\n",
    "***"
   ]
  },
  {
   "cell_type": "markdown",
   "metadata": {},
   "source": [
    "'Hotels Everyone Loves Leasing' would now like some information about customer arrival dates.\n",
    "\n",
    "***1] (3 points) Create a $\\color{red}{\\text{density}}$ histogram for `arrival_date_day_of_month` ***\n",
    "\n",
    "*** Comment on the histogram shape (Right/Left skew, symmetric, uniform,...)***\n",
    "\n",
    "***What would you tell your advisees about the most common day of arrival?***\n"
   ]
  },
  {
   "cell_type": "code",
   "execution_count": 10,
   "metadata": {},
   "outputs": [
    {
     "name": "stdout",
     "output_type": "stream",
     "text": [
      "bin edges =  [0, 1, 2, 3, 4, 5, 6, 7, 8, 9, 10, 11, 12, 13, 14, 15, 16, 17, 18, 19, 20, 21, 22, 23, 24, 25, 26, 27, 28, 29, 30, 31, 32]\n"
     ]
    },
    {
     "data": {
      "image/png": "[encoded data removed]",
      "text/plain": [
       "<Figure size 576x288 with 1 Axes>"
      ]
     },
     "metadata": {
      "needs_background": "light"
     },
     "output_type": "display_data"
    }
   ],
   "source": [
    "# Adapted from nb03\n",
    "# Initialize figure and ranges for bins\n",
    "fig, ax = plt.subplots(figsize=(8,4))\n",
    "my_bins = range(0,33,1)\n",
    "# Plot histogram with custom colors\n",
    "mycolor =np.array([30,30,230])/255\n",
    "dfHotel.hist(column=\"arrival_date_day_of_month\", density=True, ax=ax, bins=my_bins, facecolor=mycolor, edgecolor=\"black\")\n",
    "\n",
    "# Add a title\n",
    "ax.set_title(\"Density Histogram of Arrivial Date\", fontsize=20)\n",
    "\n",
    "# Add axis labels \n",
    "ax.set_xlabel(\"Day of Month\", fontsize=16)\n",
    "ax.set_ylabel(\"Density\", fontsize=16)\n",
    "\n",
    "# Make the grid lines lighter and put them behind data \n",
    "ax.grid(alpha=0.25)\n",
    "ax.set_axisbelow(True)"
   ]
  },
  {
   "cell_type": "markdown",
   "metadata": {
    "tags": []
   },
   "source": [
    "# ***Comment on histogram shape and advice in this cell.***\n",
    "The data is uniform when the bins are set to show each day. However, it can be seen that the 18th bin is the \"tallest.\" Thus, the 17th day of the month is the most common day of arrival."
   ]
  },
  {
   "cell_type": "markdown",
   "metadata": {},
   "source": [
    "***2] (8 points) Give a 5-number summary and box-and-whisker plot for the week number of year for arrival date and advise on what you find.*** "
   ]
  },
  {
   "cell_type": "code",
   "execution_count": 11,
   "metadata": {},
   "outputs": [
    {
     "name": "stdout",
     "output_type": "stream",
     "text": [
      "5-Number Summary: 1.00    16.00    28.00    38.00    53.00\n",
      "(minimum, first, second, and third quantiles, maximum)\n"
     ]
    },
    {
     "data": {
      "text/plain": [
       "0    33\n",
       "Name: arrival_date_week_number, dtype: int64"
      ]
     },
     "execution_count": 11,
     "metadata": {},
     "output_type": "execute_result"
    }
   ],
   "source": [
    "# sample code from nb02 exercise 2\n",
    "minval = dfHotel[\"arrival_date_week_number\"].min()\n",
    "maxval = dfHotel[\"arrival_date_week_number\"].max()\n",
    "Q1 = dfHotel[\"arrival_date_week_number\"].quantile(.25)\n",
    "Q2 = dfHotel[\"arrival_date_week_number\"].quantile(.50)\n",
    "Q3 = dfHotel[\"arrival_date_week_number\"].quantile(.75)\n",
    "print(\"5-Number Summary: {:.2f}    {:.2f}    {:.2f}    {:.2f}    {:.2f}\".format(minval, Q1, Q2, Q3, maxval))\n",
    "print(\"(minimum, first, second, and third quantiles, maximum)\")\n",
    "dfHotel[\"arrival_date_week_number\"].mode()"
   ]
  },
  {
   "cell_type": "code",
   "execution_count": 12,
   "metadata": {},
   "outputs": [
    {
     "data": {
      "image/png": "[encoded data removed]",
      "text/plain": [
       "<Figure size 432x432 with 1 Axes>"
      ]
     },
     "metadata": {
      "needs_background": "light"
     },
     "output_type": "display_data"
    }
   ],
   "source": [
    "# adapted from nb03 \n",
    "# Initialize figure \n",
    "fig, ax = plt.subplots(figsize=(6,6))\n",
    "\n",
    "# Plot histogram, but this time return dictionary of style parameters for modification after the fact \n",
    "bp = dfHotel.boxplot(column=\"arrival_date_week_number\", ax=ax, widths=[.2], return_type='dict');\n",
    "\n",
    "# ---------------------------------------\n",
    "# Set properties of various parts of plot \n",
    "# ---------------------------------------\n",
    "\n",
    "# Change properties of boxes \n",
    "for box in bp['boxes']:\n",
    "    box.set(color='steelblue', linewidth=2)\n",
    "    \n",
    "# Change properties of whiskers \n",
    "for whisker in bp['whiskers']:\n",
    "    whisker.set(color='gray', linewidth=2)\n",
    "    \n",
    "# Change properties of caps \n",
    "for cap in bp['caps']:\n",
    "    cap.set(color='gray', linewidth=2)\n",
    "    \n",
    "# Change properties of median \n",
    "for cap in bp['medians']:\n",
    "    cap.set(color='green', linewidth=2, alpha=0.5)\n",
    "    \n",
    "# Change properties of fliers (outliers) \n",
    "for flier in bp['fliers']:\n",
    "    flier.set(markerfacecolor='steelblue', linewidth=2, marker='s', markersize=6, alpha=0.5)\n",
    "\n",
    "# Set title and vertical axis label\n",
    "ax.set_title('Hotel Arrival Dates by Week Number', fontsize=18)\n",
    "ax.set_ylabel(\"Week Number (1-53)\", fontsize=16)\n",
    "\n",
    "# Set names of plots\n",
    "plt.xticks([1],[\"Arrival Weeks\"], rotation=0, fontsize=16)\n",
    "\n",
    "# Get rid of automatically generated titles and xlables\n",
    "plt.suptitle(\"\")\n",
    "ax.set_xlabel(\"\")\n",
    "\n",
    "# Make grid-lines lighter\n",
    "ax.grid(alpha=0.25)"
   ]
  },
  {
   "cell_type": "markdown",
   "metadata": {},
   "source": [
    "***Put your advice for week number of year for arrival date here.***\n",
    "\n",
    "The median, which appears at 28, is not centered in the box. It is slightly \"higher\" (negative skew) as the week with the most arrivals is week 33. Backing up, the \"box\" or the middle 50% of the arrival dates has bounds between week 16 and 38. Thus, these weeks will see the most arrival dates. Lastly, the weeks before the first quantile and after the last quantile (weeks 1-16 and weeks 38-52) see lesser arrival dates. \n"
   ]
  },
  {
   "cell_type": "markdown",
   "metadata": {
    "tags": []
   },
   "source": [
    "# Part D\n",
    "***"
   ]
  },
  {
   "cell_type": "markdown",
   "metadata": {},
   "source": [
    "Now it is requested that you describe your findings concerning the lead time for hotel reservations.\n",
    "\n",
    "***1] (2 points) Create a $\\color{red}{\\text{frequency}}$ histogram of `lead_time`***"
   ]
  },
  {
   "cell_type": "code",
   "execution_count": 13,
   "metadata": {},
   "outputs": [
    {
     "data": {
      "image/png": "[encoded data removed]",
      "text/plain": [
       "<Figure size 576x576 with 2 Axes>"
      ]
     },
     "metadata": {
      "needs_background": "light"
     },
     "output_type": "display_data"
    }
   ],
   "source": [
    "# adapted from nb03 exercise 2\n",
    "# Initialize figure subplots\n",
    "fig, axes = plt.subplots(nrows=2, ncols=1, figsize=(8,8))\n",
    "my_bins = range(0,700,100)\n",
    "# nrows=2, ncols=1 means the histograms will be stacked in 2 rows with 1 column\n",
    "\n",
    "# --------------------------------------\n",
    "# Plot histogram for Niwot on Top \n",
    "# --------------------------------------\n",
    "dfHotel.hist(column=\"lead_time\", ax=axes[0],  bins=my_bins, facecolor=\"steelblue\", edgecolor=\"white\")\n",
    "# ax=axes[0] implies the first of 2 histograms which are indexed as 0 and 1.\n",
    "\n",
    "# Add titles and labels \n",
    "axes[0].set_title(\"Lead Time\", fontsize=20)\n",
    "axes[0].set_xlabel(\"Days\", fontsize=16)\n",
    "axes[0].set_ylabel(\"Frequency\", fontsize=16)\n",
    "\n",
    "# Make grid lighter and set behind data\n",
    "axes[0].grid(alpha=0.25)\n",
    "axes[0].set_axisbelow(True)\n",
    "\n",
    "# --------------------------------------\n",
    "# Plot histogram for Sugarloaf on Bottom \n",
    "# --------------------------------------\n",
    "my_bins = range(0,95,8)\n",
    "dfHotel.hist(column=\"lead_time\", ax=axes[1], bins=my_bins, facecolor=\"steelblue\", edgecolor=\"white\")\n",
    "# ax=axes[1] implies the second of 2 histograms which are indexed as 0 and 1.\n",
    "\n",
    "# Add titles and labels \n",
    "axes[1].set_title(\"Lead Time\", fontsize=20)\n",
    "axes[1].set_xlabel(\"Days\", fontsize=16)\n",
    "axes[1].set_ylabel(\"Frequency\", fontsize=16)\n",
    "\n",
    "# Make grid lighter and set behind data\n",
    "axes[1].grid(alpha=0.25)\n",
    "axes[1].set_axisbelow(True)\n",
    "\n",
    "# --------------------------------------\n",
    "# Make the plots comparable \n",
    "# --------------------------------------\n",
    "\n",
    "# Set x and y axis limits to match\n",
    "#axes[0].set_xlim([50,95])\n",
    "#axes[1].set_xlim([50,95])\n",
    "\n",
    "#axes[0].set_ylim([0,9])\n",
    "#axes[1].set_ylim([0,9]);\n",
    "\n",
    "# Adjust vertical space so titles/axis labels don't overlap \n",
    "fig.subplots_adjust(hspace=.5)"
   ]
  },
  {
   "cell_type": "markdown",
   "metadata": {},
   "source": [
    "***2] (2 points) What shape is the histogram; right skew, left skew, symmetric, uniform,... and what does the histogram shape indicate about the number of days that elapsed between the entering date of the booking into the PMS and the arrival date.?***"
   ]
  },
  {
   "cell_type": "markdown",
   "metadata": {},
   "source": [
    "The first histogram is clearly right skew as much of the data lies before 100 days. The true range of data goes up until 737 days, but it is quite clear that the frequency of lead times over a year or two is quite low. So, the second histogram shows a clearer picture of right skewed data. Specifically, the first 10 days from booking to arrival is seen to have the largest frequency. \n"
   ]
  },
  {
   "cell_type": "markdown",
   "metadata": {},
   "source": [
    "***3] (2 points) What is the average (mean) lead time for all hotels?***"
   ]
  },
  {
   "cell_type": "code",
   "execution_count": 14,
   "metadata": {},
   "outputs": [
    {
     "name": "stdout",
     "output_type": "stream",
     "text": [
      "The average (mean) lead time for all hotels is 104.0 days.\n"
     ]
    }
   ],
   "source": [
    "#\n",
    "leadMean = dfHotel[\"lead_time\"].mean()\n",
    "print(\"The average (mean) lead time for all hotels is {:.1f}\".format(leadMean),\"days.\")\n"
   ]
  },
  {
   "cell_type": "markdown",
   "metadata": {
    "jp-MarkdownHeadingCollapsed": true,
    "tags": []
   },
   "source": [
    "# Problem 2\n",
    "***\n",
    "\n",
    "For Problem 2 we are looking at the data from a study investigating school childrens intelligence. The data consists of 1500 participants and some of their data."
   ]
  },
  {
   "cell_type": "markdown",
   "metadata": {
    "tags": []
   },
   "source": [
    "# Part A\n",
    "\n",
    "***1] (1 point) Read in the csv file, \"foot_smart.csv\".***\n",
    "\n",
    "Create a data frame called FootIQ and take a look at it."
   ]
  },
  {
   "cell_type": "code",
   "execution_count": 15,
   "metadata": {},
   "outputs": [
    {
     "data": {
      "text/html": [
       "<div>\n",
       "<style scoped>\n",
       "    .dataframe tbody tr th:only-of-type {\n",
       "        vertical-align: middle;\n",
       "    }\n",
       "\n",
       "    .dataframe tbody tr th {\n",
       "        vertical-align: top;\n",
       "    }\n",
       "\n",
       "    .dataframe thead th {\n",
       "        text-align: right;\n",
       "    }\n",
       "</style>\n",
       "<table border=\"1\" class=\"dataframe\">\n",
       "  <thead>\n",
       "    <tr style=\"text-align: right;\">\n",
       "      <th></th>\n",
       "      <th>foot_length</th>\n",
       "      <th>shoe_size</th>\n",
       "      <th>sex</th>\n",
       "      <th>IQ</th>\n",
       "      <th>US_section</th>\n",
       "      <th>city_size</th>\n",
       "    </tr>\n",
       "  </thead>\n",
       "  <tbody>\n",
       "    <tr>\n",
       "      <th>0</th>\n",
       "      <td>7.96</td>\n",
       "      <td>8</td>\n",
       "      <td>0</td>\n",
       "      <td>23.8</td>\n",
       "      <td>West</td>\n",
       "      <td>500K</td>\n",
       "    </tr>\n",
       "    <tr>\n",
       "      <th>1</th>\n",
       "      <td>6.76</td>\n",
       "      <td>7</td>\n",
       "      <td>0</td>\n",
       "      <td>21.3</td>\n",
       "      <td>West</td>\n",
       "      <td>500K</td>\n",
       "    </tr>\n",
       "    <tr>\n",
       "      <th>2</th>\n",
       "      <td>6.96</td>\n",
       "      <td>7</td>\n",
       "      <td>1</td>\n",
       "      <td>22.2</td>\n",
       "      <td>East</td>\n",
       "      <td>500K</td>\n",
       "    </tr>\n",
       "    <tr>\n",
       "      <th>3</th>\n",
       "      <td>7.86</td>\n",
       "      <td>8</td>\n",
       "      <td>1</td>\n",
       "      <td>25.3</td>\n",
       "      <td>East</td>\n",
       "      <td>100K</td>\n",
       "    </tr>\n",
       "    <tr>\n",
       "      <th>4</th>\n",
       "      <td>8.17</td>\n",
       "      <td>9</td>\n",
       "      <td>0</td>\n",
       "      <td>23.9</td>\n",
       "      <td>East</td>\n",
       "      <td>100K</td>\n",
       "    </tr>\n",
       "    <tr>\n",
       "      <th>...</th>\n",
       "      <td>...</td>\n",
       "      <td>...</td>\n",
       "      <td>...</td>\n",
       "      <td>...</td>\n",
       "      <td>...</td>\n",
       "      <td>...</td>\n",
       "    </tr>\n",
       "    <tr>\n",
       "      <th>1494</th>\n",
       "      <td>7.41</td>\n",
       "      <td>8</td>\n",
       "      <td>1</td>\n",
       "      <td>23.0</td>\n",
       "      <td>East</td>\n",
       "      <td>1M</td>\n",
       "    </tr>\n",
       "    <tr>\n",
       "      <th>1495</th>\n",
       "      <td>6.89</td>\n",
       "      <td>7</td>\n",
       "      <td>0</td>\n",
       "      <td>22.9</td>\n",
       "      <td>South</td>\n",
       "      <td>1K</td>\n",
       "    </tr>\n",
       "    <tr>\n",
       "      <th>1496</th>\n",
       "      <td>6.03</td>\n",
       "      <td>7</td>\n",
       "      <td>0</td>\n",
       "      <td>18.8</td>\n",
       "      <td>North</td>\n",
       "      <td>1K</td>\n",
       "    </tr>\n",
       "    <tr>\n",
       "      <th>1497</th>\n",
       "      <td>8.83</td>\n",
       "      <td>9</td>\n",
       "      <td>1</td>\n",
       "      <td>26.0</td>\n",
       "      <td>North</td>\n",
       "      <td>1M</td>\n",
       "    </tr>\n",
       "    <tr>\n",
       "      <th>1498</th>\n",
       "      <td>7.73</td>\n",
       "      <td>8</td>\n",
       "      <td>0</td>\n",
       "      <td>23.6</td>\n",
       "      <td>North</td>\n",
       "      <td>100K</td>\n",
       "    </tr>\n",
       "  </tbody>\n",
       "</table>\n",
       "<p>1499 rows × 6 columns</p>\n",
       "</div>"
      ],
      "text/plain": [
       "      foot_length  shoe_size  sex    IQ US_section city_size\n",
       "0            7.96          8    0  23.8       West      500K\n",
       "1            6.76          7    0  21.3       West      500K\n",
       "2            6.96          7    1  22.2       East      500K\n",
       "3            7.86          8    1  25.3       East      100K\n",
       "4            8.17          9    0  23.9       East      100K\n",
       "...           ...        ...  ...   ...        ...       ...\n",
       "1494         7.41          8    1  23.0       East        1M\n",
       "1495         6.89          7    0  22.9      South        1K\n",
       "1496         6.03          7    0  18.8      North        1K\n",
       "1497         8.83          9    1  26.0      North        1M\n",
       "1498         7.73          8    0  23.6      North      100K\n",
       "\n",
       "[1499 rows x 6 columns]"
      ]
     },
     "execution_count": 15,
     "metadata": {},
     "output_type": "execute_result"
    }
   ],
   "source": [
    "# Read in the file and look at it here:\n",
    "# Path to the data\n",
    "file_path = 'foot_smart.csv'\n",
    "\n",
    "# Load the data into a DataFrame \n",
    "dfFootIQ = pd.read_csv(file_path)\n",
    "# Print first and last five\n",
    "dfFootIQ.head(-1)"
   ]
  },
  {
   "cell_type": "markdown",
   "metadata": {
    "tags": []
   },
   "source": [
    "# Description of this data Set\n",
    "\n",
    "This is a data set of 1500 participants. The participants are all children from 7 different schools. \n",
    "\n",
    "***foot_length:*** This is the length of the students foot in inches.\n",
    "\n",
    "***shoe_size:*** This is the size of the shoe worn by the student.\n",
    "\n",
    "***sex:*** This is the sex of the student: 0 female, 1 male.\n",
    "\n",
    "***IQ:*** This is a measure of intelligence as measured on a standard exam, scaled from 0 to 35.\n",
    "\n",
    "***US_section:*** This is the section of the U.S. that the student comes from.\n",
    "\n",
    "***city_size:*** This is the approximate size of the city (in thousands) from which the student came from."
   ]
  },
  {
   "cell_type": "markdown",
   "metadata": {},
   "source": [
    "***2] (4 points) Clean the data***\n",
    "\n",
    "Notice that `city_size` has data entered as '100K' for 100,000 and 1M for 1,000,000.\n",
    "\n",
    "Clean this column so that it holds integers such as 100000 and 1000000 instead of 100K and 1M. "
   ]
  },
  {
   "cell_type": "code",
   "execution_count": 16,
   "metadata": {},
   "outputs": [],
   "source": [
    "#Code here for #2 and cleaning the data\n",
    "dfFootIQ['city_size'] = dfFootIQ['city_size'].str.replace('K','000')\n",
    "dfFootIQ['city_size'] = dfFootIQ['city_size'].str.replace('M','000000')\n",
    "dfFootIQ['city_size'] = dfFootIQ['city_size'].astype(int) # conver to int"
   ]
  },
  {
   "cell_type": "code",
   "execution_count": 17,
   "metadata": {},
   "outputs": [
    {
     "data": {
      "text/html": [
       "<div>\n",
       "<style scoped>\n",
       "    .dataframe tbody tr th:only-of-type {\n",
       "        vertical-align: middle;\n",
       "    }\n",
       "\n",
       "    .dataframe tbody tr th {\n",
       "        vertical-align: top;\n",
       "    }\n",
       "\n",
       "    .dataframe thead th {\n",
       "        text-align: right;\n",
       "    }\n",
       "</style>\n",
       "<table border=\"1\" class=\"dataframe\">\n",
       "  <thead>\n",
       "    <tr style=\"text-align: right;\">\n",
       "      <th></th>\n",
       "      <th>foot_length</th>\n",
       "      <th>shoe_size</th>\n",
       "      <th>sex</th>\n",
       "      <th>IQ</th>\n",
       "      <th>US_section</th>\n",
       "      <th>city_size</th>\n",
       "    </tr>\n",
       "  </thead>\n",
       "  <tbody>\n",
       "    <tr>\n",
       "      <th>0</th>\n",
       "      <td>7.96</td>\n",
       "      <td>8</td>\n",
       "      <td>0</td>\n",
       "      <td>23.8</td>\n",
       "      <td>West</td>\n",
       "      <td>500000</td>\n",
       "    </tr>\n",
       "    <tr>\n",
       "      <th>1</th>\n",
       "      <td>6.76</td>\n",
       "      <td>7</td>\n",
       "      <td>0</td>\n",
       "      <td>21.3</td>\n",
       "      <td>West</td>\n",
       "      <td>500000</td>\n",
       "    </tr>\n",
       "    <tr>\n",
       "      <th>2</th>\n",
       "      <td>6.96</td>\n",
       "      <td>7</td>\n",
       "      <td>1</td>\n",
       "      <td>22.2</td>\n",
       "      <td>East</td>\n",
       "      <td>500000</td>\n",
       "    </tr>\n",
       "    <tr>\n",
       "      <th>3</th>\n",
       "      <td>7.86</td>\n",
       "      <td>8</td>\n",
       "      <td>1</td>\n",
       "      <td>25.3</td>\n",
       "      <td>East</td>\n",
       "      <td>100000</td>\n",
       "    </tr>\n",
       "    <tr>\n",
       "      <th>4</th>\n",
       "      <td>8.17</td>\n",
       "      <td>9</td>\n",
       "      <td>0</td>\n",
       "      <td>23.9</td>\n",
       "      <td>East</td>\n",
       "      <td>100000</td>\n",
       "    </tr>\n",
       "    <tr>\n",
       "      <th>...</th>\n",
       "      <td>...</td>\n",
       "      <td>...</td>\n",
       "      <td>...</td>\n",
       "      <td>...</td>\n",
       "      <td>...</td>\n",
       "      <td>...</td>\n",
       "    </tr>\n",
       "    <tr>\n",
       "      <th>1494</th>\n",
       "      <td>7.41</td>\n",
       "      <td>8</td>\n",
       "      <td>1</td>\n",
       "      <td>23.0</td>\n",
       "      <td>East</td>\n",
       "      <td>1000000</td>\n",
       "    </tr>\n",
       "    <tr>\n",
       "      <th>1495</th>\n",
       "      <td>6.89</td>\n",
       "      <td>7</td>\n",
       "      <td>0</td>\n",
       "      <td>22.9</td>\n",
       "      <td>South</td>\n",
       "      <td>1000</td>\n",
       "    </tr>\n",
       "    <tr>\n",
       "      <th>1496</th>\n",
       "      <td>6.03</td>\n",
       "      <td>7</td>\n",
       "      <td>0</td>\n",
       "      <td>18.8</td>\n",
       "      <td>North</td>\n",
       "      <td>1000</td>\n",
       "    </tr>\n",
       "    <tr>\n",
       "      <th>1497</th>\n",
       "      <td>8.83</td>\n",
       "      <td>9</td>\n",
       "      <td>1</td>\n",
       "      <td>26.0</td>\n",
       "      <td>North</td>\n",
       "      <td>1000000</td>\n",
       "    </tr>\n",
       "    <tr>\n",
       "      <th>1498</th>\n",
       "      <td>7.73</td>\n",
       "      <td>8</td>\n",
       "      <td>0</td>\n",
       "      <td>23.6</td>\n",
       "      <td>North</td>\n",
       "      <td>100000</td>\n",
       "    </tr>\n",
       "  </tbody>\n",
       "</table>\n",
       "<p>1499 rows × 6 columns</p>\n",
       "</div>"
      ],
      "text/plain": [
       "      foot_length  shoe_size  sex    IQ US_section  city_size\n",
       "0            7.96          8    0  23.8       West     500000\n",
       "1            6.76          7    0  21.3       West     500000\n",
       "2            6.96          7    1  22.2       East     500000\n",
       "3            7.86          8    1  25.3       East     100000\n",
       "4            8.17          9    0  23.9       East     100000\n",
       "...           ...        ...  ...   ...        ...        ...\n",
       "1494         7.41          8    1  23.0       East    1000000\n",
       "1495         6.89          7    0  22.9      South       1000\n",
       "1496         6.03          7    0  18.8      North       1000\n",
       "1497         8.83          9    1  26.0      North    1000000\n",
       "1498         7.73          8    0  23.6      North     100000\n",
       "\n",
       "[1499 rows x 6 columns]"
      ]
     },
     "execution_count": 17,
     "metadata": {},
     "output_type": "execute_result"
    }
   ],
   "source": [
    "# Print first and last five\n",
    "dfFootIQ.head(-1)"
   ]
  },
  {
   "cell_type": "markdown",
   "metadata": {
    "tags": []
   },
   "source": [
    "# Part B\n",
    "***"
   ]
  },
  {
   "cell_type": "markdown",
   "metadata": {},
   "source": [
    "***Suppose we were to make a scatterplot for foot length and city size (`foot_length` and `city_size`).***\n",
    "\n",
    "***Note (i)*** The scatter plot has discrete values on the y-axis which makes the 'scatter plot' look like lines.\n",
    "\n",
    "***Note (ii)*** There is no discernible pattern. The city's of various sizes (on the y-axis) contain students with shoe sizes (on the x-axis) all across the shoe-size spectrum. Meaning students of a particular shoe size do not tend to congregate in citys  of a particular size.\n",
    "\n",
    "This seems to be common sense; for instance, there is no reason why every student of shoe size 7 would come from a city of size 500,000."
   ]
  },
  {
   "cell_type": "code",
   "execution_count": 18,
   "metadata": {},
   "outputs": [
    {
     "data": {
      "image/png": "[encoded data removed]",
      "text/plain": [
       "<Figure size 432x288 with 1 Axes>"
      ]
     },
     "metadata": {
      "needs_background": "light"
     },
     "output_type": "display_data"
    }
   ],
   "source": [
    "# Uncomment the code below and run it.\n",
    "ax1 = dfFootIQ.plot.scatter(x=['foot_length'], y=['city_size']);"
   ]
  },
  {
   "cell_type": "markdown",
   "metadata": {},
   "source": [
    "***Make two scatterplots:***\n",
    "\n",
    "   1] ***(2 points)*** A scatterplot for shoe_size and IQ\n",
    "\n",
    "   2] ***(2 points)*** A scatterplot for foot_length and IQ\n",
    "\n",
    "Note: these two scatterplots should reveal the same thing since shoe size and foot lenght are really the same thing. The scatterplots will look different though since shoe size is discrete and foot length is continuous.\n",
    "\n",
    "3] ***(1 point)*** Explain your findings. Either explain why no pattern is found, or if you detect a pattern, then explain why such a pattern exists between shoe size and intelligence."
   ]
  },
  {
   "cell_type": "code",
   "execution_count": 19,
   "metadata": {},
   "outputs": [
    {
     "data": {
      "image/png": "[encoded data removed]",
      "text/plain": [
       "<Figure size 432x288 with 1 Axes>"
      ]
     },
     "metadata": {
      "needs_background": "light"
     },
     "output_type": "display_data"
    },
    {
     "data": {
      "image/png": "[encoded data removed]",
      "text/plain": [
       "<Figure size 432x288 with 1 Axes>"
      ]
     },
     "metadata": {
      "needs_background": "light"
     },
     "output_type": "display_data"
    }
   ],
   "source": [
    "# Scatter Plot 1\n",
    "shoeVsIQ = dfFootIQ.plot.scatter(x=['shoe_size'], y=['IQ'])\n",
    "# Titles and Labels\n",
    "shoeVsIQ.set_xlabel(\"Shoe Size\")\n",
    "shoeVsIQ.set_ylabel(\"IQ\")\n",
    "shoeVsIQ.set_title('Shoe Size Vs IQ')\n",
    "# Scatter Plot 2\n",
    "footVsIQ = dfFootIQ.plot.scatter(x=['foot_length'], y=['IQ'])\n",
    "footVsIQ.set_xlabel(\"Foot Length\")\n",
    "footVsIQ.set_ylabel(\"IQ\")\n",
    "footVsIQ.set_title('Foot Length Vs IQ');"
   ]
  },
  {
   "cell_type": "markdown",
   "metadata": {},
   "source": [
    "***Explain your scatterplot findings for Part B here:***\n",
    "\n",
    "It is clear as size/length is increased from 3 to 11, the IQ increases. This is likely due to children have less education and experience, and therefore a lower IQ. "
   ]
  },
  {
   "cell_type": "markdown",
   "metadata": {
    "tags": []
   },
   "source": [
    "# Problem 3\n",
    "***"
   ]
  },
  {
   "cell_type": "markdown",
   "metadata": {
    "tags": []
   },
   "source": [
    "# Part A\n",
    "The mean of a set of data should of course change if/when the values in the data set change.\n",
    "\n",
    "The code in the cell below finds the mean shoe size for the dfFootIQ data\n"
   ]
  },
  {
   "cell_type": "code",
   "execution_count": 20,
   "metadata": {},
   "outputs": [
    {
     "name": "stdout",
     "output_type": "stream",
     "text": [
      "The mean shoe size is  7.556666666666667\n"
     ]
    }
   ],
   "source": [
    "# Uncomment the code below and run it\n",
    "print(\"The mean shoe size is \", (dfFootIQ[\"shoe_size\"]).mean())"
   ]
  },
  {
   "cell_type": "markdown",
   "metadata": {},
   "source": [
    "Now, suppose you add 2 to each shoe size in the data set. How will the mean change?"
   ]
  },
  {
   "cell_type": "code",
   "execution_count": 21,
   "metadata": {},
   "outputs": [
    {
     "name": "stdout",
     "output_type": "stream",
     "text": [
      "The mean shoe size with 2 added to each entry is  9.556666666666667\n"
     ]
    }
   ],
   "source": [
    "# Uncomment the code below and run it.\n",
    "print(\"The mean shoe size with 2 added to each entry is \", (dfFootIQ[\"shoe_size\"]+2).mean())"
   ]
  },
  {
   "cell_type": "markdown",
   "metadata": {},
   "source": [
    "***(4 points)*** It appears that the mean simply increases by 2. Does adding 'a' to each data point simply increase the mean by 'a'? ***Prove it.***\n",
    "\n",
    "Recall the formula for mean:\n",
    "\n",
    "$$\\bar{x} = \\frac{1}{n} \\displaystyle\\sum_{k=1}^n x_k$$\n"
   ]
  },
  {
   "cell_type": "markdown",
   "metadata": {},
   "source": [
    "Let $\\bar{x}'$ denote the new mean with 'a' added to each data point.\n",
    "$$\\bar{x}' = \\frac{1}{n} \\displaystyle\\sum_{k=1}^n (x_k+a)$$\n",
    "<p style=\"text-align: right;\">(all k points have a added)</p>\n",
    "$$\\bar{x}' = \\frac{1}{n} \\displaystyle\\sum_{k=1}^n (x_k) + \\frac{1}{n} \\sum_{k=1}^n (a)$$\n",
    "<p style=\"text-align: right;\">(distribute summation)</p>\n",
    "$$\\bar{x}' = \\frac{1}{n} \\displaystyle\\sum_{k=1}^n (x_k) + \\frac{1}{n} (na)$$\n",
    "$$\\bar{x}' = \\left(\\frac{1}{n} \\displaystyle\\sum_{k=1}^n (x_k)\\right) + a$$\n",
    "$$\\bar{x}' = \\displaystyle\\bar{x} + a$$\n",
    "<p style=\"text-align: right;\">($\\bar{x}$ definition)</p>"
   ]
  },
  {
   "cell_type": "markdown",
   "metadata": {
    "tags": []
   },
   "source": [
    "# Part B\n",
    "The standard deviation of a set of data should of course change if/when the values in the data set change.\n",
    "\n",
    "The code in the cell below finds the standard deviation for 'shoe size' in the dfFootIQ data."
   ]
  },
  {
   "cell_type": "code",
   "execution_count": 22,
   "metadata": {},
   "outputs": [
    {
     "name": "stdout",
     "output_type": "stream",
     "text": [
      "Standard deviation for shoe size is  1.224113771362388\n"
     ]
    }
   ],
   "source": [
    "# Uncomment the code below and run it.\n",
    "print(\"Standard deviation for shoe size is \", (dfFootIQ[\"shoe_size\"]).std())"
   ]
  },
  {
   "cell_type": "markdown",
   "metadata": {},
   "source": [
    "Now, suppose we add 2 to each shoe sizein the data set. How will the standard deviation change?"
   ]
  },
  {
   "cell_type": "code",
   "execution_count": 23,
   "metadata": {},
   "outputs": [
    {
     "name": "stdout",
     "output_type": "stream",
     "text": [
      "The standard deviation with 2 added to each entry is  1.224113771362388\n"
     ]
    }
   ],
   "source": [
    "# Uncomment the code below and run it.\n",
    "print(\"The standard deviation with 2 added to each entry is \", (dfFootIQ[\"shoe_size\"]+2).std())\n"
   ]
  },
  {
   "cell_type": "markdown",
   "metadata": {},
   "source": [
    "***(4 points)*** It appears as if the standard deviation doesn't change at all after the addition of 2 to each data point. Is it always true that adding 'a' to each data point does not change the standard deviation? ***Prove it.***\n",
    "\n",
    "Recall the formula for standard deviation:\n",
    "\n",
    "$$s = \\sqrt{\\frac{1}{n-1} \\sum_{k=1}^n \\left( x_k - \\bar{x}\\right)^2} $$\n"
   ]
  },
  {
   "cell_type": "markdown",
   "metadata": {},
   "source": [
    "Let $s'$ denote the new standard deviation with 'a' added to each data point.\n",
    "$$s' = \\sqrt{\\frac{1}{n-1} \\sum_{k=1}^n \\left( x_k' - \\bar{x}'\\right)^2} $$\n",
    "$$s' = \\sqrt{\\frac{1}{n-1} \\sum_{k=1}^n \\left( x_k' - (\\bar{x}+a)\\right)^2} $$\n",
    "<p style=\"text-align: right;\">(proven in part A)</p>\n",
    "$$s' = \\sqrt{\\frac{1}{n-1} \\sum_{k=1}^n \\left( (x_k+a) - (\\bar{x}+a)\\right)^2} $$\n",
    "<p style=\"text-align: right;\">(all k points have a added)</p>\n",
    "$$s' = \\sqrt{\\frac{1}{n-1} \\sum_{k=1}^n \\left( x_k - \\bar{x}\\right)^2} = s$$\n",
    "<p style=\"text-align: right;\">(a's cancel out)</p>"
   ]
  },
  {
   "cell_type": "markdown",
   "metadata": {
    "tags": []
   },
   "source": [
    "# Part C\n",
    "Suppose each data point in `shoe_size` were to be multiplied by 5."
   ]
  },
  {
   "cell_type": "code",
   "execution_count": 24,
   "metadata": {},
   "outputs": [
    {
     "name": "stdout",
     "output_type": "stream",
     "text": [
      "The mean shoe size is  7.556666666666667\n",
      "The mean after each shoe size is multiplied by 5 is   37.78333333333333\n"
     ]
    }
   ],
   "source": [
    "# Uncomment the code below and run it.\n",
    "print(\"The mean shoe size is \", (dfFootIQ[\"shoe_size\"]).mean())\n",
    "print(\"The mean after each shoe size is multiplied by 5 is  \", (dfFootIQ[\"shoe_size\"]*5).mean())"
   ]
  },
  {
   "cell_type": "markdown",
   "metadata": {},
   "source": [
    "***(4 points)*** Prove the pattern that you notice above will occur every time under multiplication."
   ]
  },
  {
   "cell_type": "markdown",
   "metadata": {},
   "source": [
    "Let $\\bar{x}$ represent the mean on the data set $x_k$ and $\\bar{x}'$ be the mean on the altered set, $x_k'$.\n",
    "$$\\bar{x}' = \\frac{1}{n} \\displaystyle\\sum_{k=1}^n (x_k')$$\n",
    "$$\\bar{x}' = \\frac{1}{n} \\displaystyle\\sum_{k=1}^n (x_k\\cdot a)$$\n",
    "$$\\bar{x}' = \\frac{a}{n} \\displaystyle \\sum_{k=1}^n (x_k)$$\n",
    "<p style=\"text-align: right;\">(since a is a constant)</p>\n",
    "$$\\bar{x}' = a\\cdot \\left(\\frac{1}{n} \\displaystyle \\sum_{k=1}^n (x_k)\\right)$$\n",
    "$$ = a\\cdot \\bar{x}$$"
   ]
  },
  {
   "cell_type": "markdown",
   "metadata": {
    "tags": []
   },
   "source": [
    "# Part D\n",
    "\n",
    "Again, suppose each data point in `shoe_size` were to be multiplied by 5."
   ]
  },
  {
   "cell_type": "code",
   "execution_count": 25,
   "metadata": {},
   "outputs": [
    {
     "name": "stdout",
     "output_type": "stream",
     "text": [
      "The shoe size standard deviation is  1.224113771362388\n",
      "The shoe size standard deviation after multiplying each point by 5 is  6.120568856811966\n"
     ]
    }
   ],
   "source": [
    "# Uncomment the code below and run it. \n",
    "\n",
    "print(\"The shoe size standard deviation is \", (dfFootIQ[\"shoe_size\"]).std())\n",
    "print(\"The shoe size standard deviation after multiplying each point by 5 is \", (dfFootIQ[\"shoe_size\"]*5).std())\n",
    "\n"
   ]
  },
  {
   "cell_type": "markdown",
   "metadata": {},
   "source": [
    "***(4 points)*** Prove the pattern that you notice above will occur every time under multiplication."
   ]
  },
  {
   "cell_type": "markdown",
   "metadata": {},
   "source": [
    "Let $s'$ denote the new standard deviation with 'a' multiplied by each data point.\n",
    "$$s' = \\sqrt{\\frac{1}{n-1} \\sum_{k=1}^n \\left( x_k' - \\bar{x}'\\right)^2} $$\n",
    "$$s' = \\sqrt{\\frac{1}{n-1} \\sum_{k=1}^n \\left( (x_k\\cdot a) - (\\bar{x} \\cdot a)\\right)^2} $$\n",
    "<p style=\"text-align: right;\">(definitions of $x_k'$ and $\\bar{x}'$(part C))</p>\n",
    "$$s' = \\sqrt{\\frac{1}{n-1} \\sum_{k=1}^n \\left( a(x_k - \\bar{x})\\right)^2} $$\n",
    "$$s' = \\sqrt{\\frac{a^2}{n-1} \\sum_{k=1}^n \\left((x_k - \\bar{x})\\right)^2} $$\n",
    "$$s' = a\\sqrt{\\frac{1}{n-1} \\sum_{k=1}^n \\left((x_k - \\bar{x})\\right)^2} = a \\cdot s $$ "
   ]
  },
  {
   "cell_type": "code",
   "execution_count": null,
   "metadata": {},
   "outputs": [],
   "source": []
  }
 ],
 "metadata": {
  "kernelspec": {
   "display_name": "Python 3 (ipykernel)",
   "language": "python",
   "name": "python3"
  },
  "language_info": {
   "codemirror_mode": {
    "name": "ipython",
    "version": 3
   },
   "file_extension": ".py",
   "mimetype": "text/x-python",
   "name": "python",
   "nbconvert_exporter": "python",
   "pygments_lexer": "ipython3",
   "version": "3.10.5"
  }
 },
 "nbformat": 4,
 "nbformat_minor": 4
}
