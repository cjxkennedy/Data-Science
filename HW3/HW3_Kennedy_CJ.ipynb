{
 "cells": [
  {
   "cell_type": "markdown",
   "metadata": {
    "tags": []
   },
   "source": [
    "# Homework 03: Probability \n",
    "***\n",
    "\n",
    "**Name**: CJ Kennedy\n",
    "\n",
    "***\n",
    "\n",
    "This assignment is due on Canvas by **6:00PM on Friday September 16**. Your solutions to theoretical questions should be done in Markdown directly below the associated question.  Your solutions to computational questions should include any specified Python code and results as well as written commentary on your conclusions.  Remember that you are encouraged to discuss the problems with your classmates, but **you must write all code and solutions on your own**.\n",
    "\n",
    "**NOTES**: \n",
    "\n",
    "- Any relevant data sets should be available in the Homework 01 assignment write-up on Canvas. To make life easier on the grader if they need to run your code, do not change the relative path names here. Instead, move the files around on your computer.\n",
    "- If you're not familiar with typesetting math directly into Markdown then by all means, do your work on paper first and then typeset it later.  Remember that there is a [reference guide](https://math.meta.stackexchange.com/questions/5020/mathjax-basic-tutorial-and-quick-reference) linked on Canvas on writing math in Markdown. **All** of your written commentary, justifications and mathematical work should be in Markdown.\n",
    "- Because you can technically evaluate notebook cells is a non-linear order, it's a good idea to do $\\color{red}{\\text{Kernel}}$ $\\color{red}\\rightarrow$ $\\color{red}{\\text{Restart & Run All}}$ as a check before submitting your solutions.  That way if we need to run your code you will know that it will work as expected. \n",
    "- It is **bad form** to make your reader interpret numerical output from your code.  If a question asks you to compute some value from the data you should show your code output **AND** $\\color{red}{\\text{write a summary of the results}}$ in Markdown directly below your code. \n",
    "- This probably goes without saying, but... For any question that asks you to calculate something, you **must show all work and justify your answers to receive credit**. Sparse or nonexistent work will receive sparse or nonexistent credit. \n",
    "\n",
    "---"
   ]
  },
  {
   "cell_type": "markdown",
   "metadata": {},
   "source": [
    "Import Pandas and NumPy anytime you are doing data analysis."
   ]
  },
  {
   "cell_type": "code",
   "execution_count": 1,
   "metadata": {},
   "outputs": [],
   "source": [
    "# Per the standard import pandas as 'pd' and numpy as 'np'\n",
    "import pandas as pd\n",
    "import numpy as np\n"
   ]
  },
  {
   "cell_type": "markdown",
   "metadata": {},
   "source": [
    "You may or may not need this depending on how you create your own homework, but if you need to create a graph, you should load Matplotlib's Pylab library to set up Jupyter so that it will plot directly in the notebook."
   ]
  },
  {
   "cell_type": "code",
   "execution_count": 2,
   "metadata": {},
   "outputs": [],
   "source": [
    "import matplotlib.pylab as plt\n",
    "%matplotlib inline \n",
    "    # Recall 'inline' puts your graph in the cell versus a new popup window"
   ]
  },
  {
   "cell_type": "markdown",
   "metadata": {
    "tags": []
   },
   "source": [
    "# Problem 1\n",
    "***\n",
    "Suppose you are asked to manage/interview the employees at a new Boulder start-up called ***Programmers of Large Opulent Problems***, or PLOP.\n",
    "\n",
    "PLOP employs 100 programmers. Forty-five of the programmers are proficient in Java, 30 in C#, 20 in Python, six in C# and Java, one in Java and Python, five in C# and Python, and just one programmer is proficient in all three languages."
   ]
  },
  {
   "cell_type": "markdown",
   "metadata": {},
   "source": [
    "***(8 points)***\n",
    "Suppose an employee is randomly chosen to interview with you concerning their coding proficiency and general productivity. What is the probability that the chosen employee is not proficient in any of the three languages mentioned?\n",
    "\n",
    "![title](programmer.png)\n"
   ]
  },
  {
   "cell_type": "markdown",
   "metadata": {},
   "source": [
    "Write up your solution to Problem 1 here:\n",
    "\n",
    "***Solution:***\n",
    "\n",
    "First, assign variables to the information we have. \n",
    "\n",
    "$ N(a) = 45 $ (number of people proficient in Java)\n",
    "\n",
    "$ N(b) = 30 $ (number of people proficient in C#)\n",
    "\n",
    "$ N(c) = 20 $ (number of people proficient in Python)\n",
    "\n",
    "$ N(d) = 6 $ (number of people proficient in a and b)\n",
    "\n",
    "$ N(e) = 1 $ (number of people proficient in a and c)\n",
    "\n",
    "$ N(f) = 5 $ (number of people proficient in b and c)\n",
    "\n",
    "$ N(g) = 1 $ (number of people proficient in a,b,c)\n",
    "\n",
    "Now, total the number of people proficient in two languages:\n",
    "\n",
    "$ N_2 = N(d) + N(e) + N(f) = 6+1+5 = 12 $\n",
    "\n",
    "Now, the total number of people proficient in one language:\n",
    "\n",
    "$ N_1 = N(a) + N(b) + N(c) = 45 + 30 + 20 = 95 $\n",
    "\n",
    "So, the number of people not proficient in at least one language is:\n",
    "\n",
    "$ N = N_1 - N_2 + N(g) = 95-12+1 = 16 $\n",
    "\n",
    "Therefore, the probability that any chosen employee is not proficient in any of the languages is:\n",
    "\n",
    "$ P(N) = 16/100 = .16 $"
   ]
  },
  {
   "cell_type": "markdown",
   "metadata": {
    "jp-MarkdownHeadingCollapsed": true,
    "tags": []
   },
   "source": [
    "# Problem 2\n",
    "***\n",
    "For a certain period of time (months and months) you decide that sometimes wearing a colorful hat should be your latest fashion statement. Looking back over past time you note that there were some days you wore a hat and some days that you did not wear a hat.\n",
    "\n",
    "'A' is the event that you wore a red hat.\n",
    "'B' is the event that you wore a blue hat.\n",
    "'C' is the event that it rained.\n",
    "\n",
    "You do some data analysis on this past period of time.\n",
    "\n",
    "You discover that the probability that you wore a red hat or that it rained is $\\frac{2}{3}$.\n",
    "\n",
    "The probability that you wore a blue hat or that it rained is $\\frac{3}{4}$.\n",
    "\n",
    "The probability that you wore a red hat, or that you wore a blue hat, or that it rained is $\\frac{11}{12}$."
   ]
  },
  {
   "cell_type": "markdown",
   "metadata": {
    "tags": []
   },
   "source": [
    "# Part A\n",
    "\n",
    "***(4 points)***\n",
    "\n",
    "What is the probability that you wore a red hat?"
   ]
  },
  {
   "cell_type": "markdown",
   "metadata": {},
   "source": [
    "First, write the given probabilities below:\n",
    "\n",
    "$$P_{red} \\lor P_{rain} = \\frac{2}{3}$$\n",
    "$$P_{blue} \\lor P_{rain} = \\frac{3}{4}$$\n",
    "$$P_{red} \\lor P_{blue} \\lor P_{rain} = \\frac{11}{12}$$\n",
    "\n",
    "Now, substitute the second equation into the third:\n",
    "$$P_{red} \\lor ( \\frac{3}{4} )  = \\frac{11}{12}$$\n",
    "$$ \\Rightarrow P_{red} + ( \\frac{3}{4} )  = \\frac{11}{12}$$\n",
    "$$ \\therefore P_{red}  = \\frac{11}{12}- \\frac{3}{4} = \\frac{2}{12}$$\n",
    "\n",
    "So, the probability that a red hat was worn is $\\frac{1}{6}$."
   ]
  },
  {
   "cell_type": "markdown",
   "metadata": {
    "tags": []
   },
   "source": [
    "# Part B\n",
    "\n",
    "***(4 points)***\n",
    "\n",
    "What is the probability that you wore a blue hat?"
   ]
  },
  {
   "cell_type": "markdown",
   "metadata": {},
   "source": [
    "Similiar to part a, substitute the first equation into the third:\n",
    "$$P_{blue} \\lor ( \\frac{2}{3} )  = \\frac{11}{12}$$\n",
    "$$ \\Rightarrow P_{blue} + ( \\frac{2}{3} )  = \\frac{11}{12}$$\n",
    "$$ \\therefore P_{blue}  = \\frac{11}{12}- \\frac{2}{3} = \\frac{4}{12}$$\n",
    "So, the probability that a blue hat was worn is $\\frac{1}{3}$."
   ]
  },
  {
   "cell_type": "markdown",
   "metadata": {
    "tags": []
   },
   "source": [
    "# Part C\n",
    "\n",
    "***(4 points)***\n",
    "\n",
    "What is the probability that it rained?"
   ]
  },
  {
   "cell_type": "markdown",
   "metadata": {},
   "source": [
    "The probability that it rained can be solved via the solutions to the previous problems and the third equation:\n",
    "$$P_{red} \\lor P_{blue} \\lor P_{rain} = \\frac{11}{12}$$\n",
    "$$P_{red} + P_{blue} + P_{rain} = \\frac{11}{12}$$\n",
    "$$\\frac{1}{6} + \\frac{1}{3} + P_{rain} = \\frac{11}{12}$$\n",
    "$$ \\Rightarrow P_{rain} = \\frac{11}{12}-\\frac{1}{6}-\\frac{1}{3}$$\n",
    "So, the probability that it rained is $\\frac{1}{2}$."
   ]
  },
  {
   "cell_type": "markdown",
   "metadata": {
    "jp-MarkdownHeadingCollapsed": true,
    "tags": []
   },
   "source": [
    "# Problem 3\n",
    "***\n",
    "It is free donut day on campus! There are three locations offering each participant one free donut; either a glazed donut or a cake donut.\n",
    "\n",
    "The C4C is offering donuts, 75% of their donuts are glazed and 25% are cake.\n",
    "\n",
    "The Alfred Packer Grill is offering donuts. 60% of their donuts are glazed and 40% are cake.\n",
    "\n",
    "The SEEC Cafe (East campus) is offering donuts, 45% are glazed and 55% are cake."
   ]
  },
  {
   "attachments": {
    "87ef6658-e995-454e-a1ea-a561d572ef13.png": {
     "image/png": "[encoded data removed]"
    }
   },
   "cell_type": "markdown",
   "metadata": {
    "tags": []
   },
   "source": [
    "# Part A\n",
    "\n",
    "***(4 points)***\n",
    "\n",
    "If you randomly choose a donut location (each location is equally likely) and then your chosen location randomly grabs a donut and hands it to you, then what is the probability that your newly acquired donut is glazed?\n",
    "\n",
    "$\\color{blue}{\\text{The picture below is merely here to help visualize this as}}$\n",
    "$\\color{blue}{\\text{a law of total probability type problem.}}$\n",
    "\n",
    "$\\color{blue}{\\text{You need not use the pictured variables.}}$\n",
    "\n",
    "![tp.png](attachment:87ef6658-e995-454e-a1ea-a561d572ef13.png)"
   ]
  },
  {
   "cell_type": "markdown",
   "metadata": {},
   "source": [
    "Note the glazed offering percentages for each location:\n",
    "\n",
    "$x_1 = C4C = .75$\n",
    "\n",
    "$x_2 = APG = .60$\n",
    "\n",
    "$x_3 = APG = .45$\n",
    "\n",
    "Since each location is just as likely to be choosen, the mean of the three probabilties represents the probability that given donut is glazed:\n",
    "\n",
    "$\\bar{x} = \\frac{x_1+x_2+x_3}{3} = \\frac{.75+.60+.45}{3} = 0.6$\n",
    "\n",
    "Therefore, the probability the donut is glazed is $\\frac{6}{10}$."
   ]
  },
  {
   "cell_type": "markdown",
   "metadata": {
    "tags": []
   },
   "source": [
    "# Part B\n",
    "\n",
    "***(6 points)***\n",
    "\n",
    "For the same situation mentioned above, create some code that will run a simulation to estimate the probability of getting a glazed donut.\n",
    "\n",
    "Run the code and verify that it agrees with the by-hand computation you arrived at above."
   ]
  },
  {
   "cell_type": "code",
   "execution_count": 3,
   "metadata": {},
   "outputs": [
    {
     "name": "stdout",
     "output_type": "stream",
     "text": [
      "Probability of getting a glazed donut is:  0.60238\n"
     ]
    }
   ],
   "source": [
    "# adapted from nb05\n",
    "c4c = {'donuts' : np.array([\"glazed\", \"cake\"]), 'probs' : np.array([3/4, 1/4])}\n",
    "apg = {'donuts' : np.array([\"glazed\", \"cake\"]), 'probs' : np.array([6/10, 4/10])}\n",
    "seec = {'donuts' : np.array([\"glazed\", \"cake\"]), 'probs' : np.array([.45, .55])}\n",
    "location_choices = {'locations' : np.array([c4c, apg, seec]), 'probs' : np.array([1/3, 1/3, 1/3])}\n",
    "\n",
    "def sample_location(location_choices):\n",
    "    # randomly choose a location\n",
    "    box = np.random.choice(location_choices['locations'], p = location_choices['probs'])\n",
    "    # randomly choose a donut from location\n",
    "    return np.random.choice(box['donuts'], p = box['probs'])\n",
    "\n",
    "def probability_of_donutType(donutType, location_choices, num_samples=1000):\n",
    "    # get a bunch of locations\n",
    "    locs = np.array([sample_location(location_choices) for ii in range(num_samples)])\n",
    "    # compute fraction of donut type\n",
    "    return np.sum(locs == donutType) / num_samples\n",
    "\n",
    "answer = probability_of_donutType(\"glazed\", location_choices, num_samples=50000);\n",
    "print(\"Probability of getting a glazed donut is: \",answer);\n"
   ]
  },
  {
   "cell_type": "markdown",
   "metadata": {
    "jp-MarkdownHeadingCollapsed": true,
    "tags": []
   },
   "source": [
    "# Problem 4\n",
    "***\n",
    "Suppose you decide to join a game club to meet other folks on campus. You become facinated with the tetrahedron, or 4-sided die.\n",
    "\n",
    "This particular die has its sides marked with '1', '2', '3', and '4'.\n",
    "\n",
    "You roll the tetrahedron $\\color{red}{three}$ times:\n",
    "\n",
    "![title](tetra.png)\n",
    "\n"
   ]
  },
  {
   "cell_type": "markdown",
   "metadata": {
    "tags": []
   },
   "source": [
    "# Part A\n",
    "\n",
    "***(3 points)***\n",
    "\n",
    "What is the probability that you roll a '4' three times in a row?\n"
   ]
  },
  {
   "cell_type": "markdown",
   "metadata": {},
   "source": [
    "First, write the probability that a '4' is rolled:\n",
    "\n",
    "$ P(4) = \\frac{1}{4} $\n",
    "\n",
    "Next, the probability that a '4' is rolled again:\n",
    "\n",
    "$ P_2(4) = P(4) \\wedge P(4) $\n",
    "\n",
    "$ P_2(4) = \\frac{1}{4}\\cdot \\frac{1}{4} = \\frac{1}{16} $\n",
    "\n",
    "Again:\n",
    "\n",
    "$ P_3(4) = P_2(4)\\cdot \\frac{1}{4} = \\frac{1}{64}$\n",
    "\n",
    "Thus, the probability that a '4' is rolled three times in a row is $\\frac{1}{64}$.\n"
   ]
  },
  {
   "cell_type": "markdown",
   "metadata": {
    "tags": []
   },
   "source": [
    "# Part B\n",
    "\n",
    "***(3 points)***\n",
    "\n",
    "What is the probability that you roll only a single '4' in the three rolls?"
   ]
  },
  {
   "cell_type": "markdown",
   "metadata": {},
   "source": [
    "The probability that a '4' is rolled:\n",
    "\n",
    "$ P(A) = \\frac{1}{4} $\n",
    "\n",
    "The probability that a '4' is not rolled:\n",
    "\n",
    "$ P(B) = \\frac{3}{4} $\n",
    "\n",
    "The probability that a '4' is rolled once in two rolls:\n",
    "\n",
    "$ P_{two} = P(A) \\wedge P(B) $\n",
    "\n",
    "The probability that a '4' is rolled once in three rolls:\n",
    "\n",
    "$ P_{three} = P(A) \\wedge P(B) \\wedge P(B) $\n",
    "\n",
    "$ = P(A) \\cdot P(B) \\cdot P(B) $\n",
    "\n",
    "$= \\frac{1}{4} \\cdot \\frac{3}{4} \\cdot \\frac{3}{4} $\n",
    "\n",
    "$ P_{three} = \\frac{3^2}{4^3} = \\frac{9}{64} $\n",
    "\n",
    "Therefore, the probability that you roll only a single '4' in the three rolls is $\\frac{9}{64}$."
   ]
  },
  {
   "cell_type": "markdown",
   "metadata": {
    "tags": []
   },
   "source": [
    "# Part C\n",
    "\n",
    "***(5 points)***\n",
    "\n",
    "Given that you have observed at least one '4', what is the probability that you observe at least two 4's?"
   ]
  },
  {
   "cell_type": "markdown",
   "metadata": {},
   "source": [
    "Let the event of observing at least one '4' as B and the probability of observing at least two 4's as B. Then:\n",
    "$$ P(A|B) = \\frac{P(B \\cap A)}{P(B)} $$\n",
    "Now, $P(B) = \\frac{1}{4}$ and $P(A) = \\frac{1}{4}\\cdot \\frac{1}{4}$. So, simplify the above equation:\n",
    "$$ P(A|B) = \\frac{P(B)\\cdot P(A)}{P(B)} $$\n",
    "$$ P(A|B) = \\frac{\\frac{1}{4}\\cdot \\frac{1}{16}}{\\frac{1}{4}} = \\frac{1}{16} $$\n",
    "So, the probability of observing at least two 4's given at least one has been observed is $\\frac{1}{16}$."
   ]
  },
  {
   "cell_type": "markdown",
   "metadata": {
    "tags": []
   },
   "source": [
    "# Problem 5\n",
    "***\n",
    "In an attempt to avoid COVID, a group of 100 students seperate themselves from CU society and choose to live in connected housing apart from all other people.\n",
    "\n",
    "Unfortunately, and unbeknown to anyone, one of the students had COVID when the group went into isolation.\n",
    "\n",
    "It is known that 90% of COVID tests will detect the virus (i.e. true positives) while 9.6% of the tests are false positives."
   ]
  },
  {
   "cell_type": "markdown",
   "metadata": {},
   "source": [
    "***(9 points)***\n",
    "\n",
    "If, on move-in day, a randomly chosen person, within this group of 100, gets a positive test result, what is the probability that they actually have COVID?"
   ]
  },
  {
   "cell_type": "markdown",
   "metadata": {},
   "source": [
    "Put your answer to problem 5 here:\n",
    "\n",
    "***solution:***\n",
    "\n",
    "Let V be the event that the virus is in the person and let T be the event the test result is positive.\n",
    "\n",
    "$$P(T|V) = .90$$\n",
    "$$P(T|V^c) = .096$$\n",
    "\n",
    "We know the person is either $V$ or $V^c$\n",
    "\n",
    "$$P(T) = P(T \\cap V) \\cup P(T \\cap V^C)$$\n",
    "$$P(T) = (P(V)\\cdot P(T|V)) \\cup (P(V^c)\\cdot P(T|V^c))$$\n",
    "$$P(T) = P(T|V)\\cdot P(V) + P(V^c)\\cdot P(T|V^c)$$\n",
    "\n",
    "Now, substitute the previously established probabilities of events:\n",
    "\n",
    "$$P(T) = .90 \\cdot P(V) + P(V^c)\\cdot .096$$\n",
    "\n",
    "Next, recall there are 100 students and only 1 of them is infected.\n",
    "\n",
    "Thus, the likelihood of any selected person having the virus is $\\frac{1}{100}$:\n",
    "\n",
    "$$ P(V) = .01 $$\n",
    "$$ P(V^c) = 1 - P(V) = .99 $$\n",
    "$$ P(T) = .90 \\cdot .01 + .99 \\cdot .096 = 0.10404$$\n",
    "\n",
    "Now, the probability that a selected person tests positive and they actually are infected:\n",
    "\n",
    "$$ P(V|T) = \\frac{P(T\\cap V)}{P(T)} = \\frac{P(T|V)\\cdot P(V)}{P(T)} $$\n",
    "$$ P(V|T) = \\frac{.90\\cdot .01}{0.10404} = 0.0865$$\n",
    "\n",
    "Therefore, $P(V|T)$ (the chance the randomly chosen person's test result is accurate) is about 8.65%."
   ]
  },
  {
   "cell_type": "code",
   "execution_count": null,
   "metadata": {},
   "outputs": [],
   "source": []
  }
 ],
 "metadata": {
  "kernelspec": {
   "display_name": "Python 3 (ipykernel)",
   "language": "python",
   "name": "python3"
  },
  "language_info": {
   "codemirror_mode": {
    "name": "ipython",
    "version": 3
   },
   "file_extension": ".py",
   "mimetype": "text/x-python",
   "name": "python",
   "nbconvert_exporter": "python",
   "pygments_lexer": "ipython3",
   "version": "3.10.5"
  }
 },
 "nbformat": 4,
 "nbformat_minor": 4
}
