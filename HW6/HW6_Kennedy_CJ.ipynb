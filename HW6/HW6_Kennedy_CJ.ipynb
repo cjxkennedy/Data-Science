{
 "cells": [
  {
   "cell_type": "markdown",
   "metadata": {},
   "source": [
    "# Homework 06: Expected Value and Variance\n",
    "***\n",
    "\n",
    "**Name**: CJ Kennedy\n",
    "\n",
    "***\n",
    "\n",
    "This assignment is due on Canvas by **6:00PM on Friday October 7**. Your solutions to theoretical questions should be done in Markdown directly below the associated question.  Your solutions to computational questions should include any specified Python code and results as well as written commentary on your conclusions.  Remember that you are encouraged to discuss the problems with your classmates, but **you must write all code and solutions on your own**.\n",
    "\n",
    "**NOTES**: \n",
    "\n",
    "- Any relevant data sets should be available in the Homework 01 assignment write-up on Canvas. To make life easier on the grader if they need to run your code, do not change the relative path names here. Instead, move the files around on your computer.\n",
    "- If you're not familiar with typesetting math directly into Markdown then by all means, do your work on paper first and then typeset it later.  Remember that there is a [reference guide](https://math.meta.stackexchange.com/questions/5020/mathjax-basic-tutorial-and-quick-reference) linked on Canvas on writing math in Markdown. **All** of your written commentary, justifications and mathematical work should be in Markdown.\n",
    "- Because you can technically evaluate notebook cells is a non-linear order, it's a good idea to do $\\color{red}{\\text{Kernel}}$ $\\color{red}\\rightarrow$ $\\color{red}{\\text{Restart & Run All}}$ as a check before submitting your solutions.  That way if we need to run your code you will know that it will work as expected. \n",
    "- It is **bad form** to make your reader interpret numerical output from your code.  If a question asks you to compute some value from the data you should show your code output **AND** $\\color{red}{\\text{write a summary of the results}}$ in Markdown directly below your code. \n",
    "- This probably goes without saying, but... For any question that asks you to calculate something, you **must show all work and justify your answers to receive credit**. Sparse or nonexistent work will receive sparse or nonexistent credit. \n",
    "\n",
    "---"
   ]
  },
  {
   "cell_type": "markdown",
   "metadata": {},
   "source": [
    "Import Pandas, NumPy, and matplotlib.pylab."
   ]
  },
  {
   "cell_type": "code",
   "execution_count": 131,
   "metadata": {},
   "outputs": [],
   "source": [
    "import pandas as pd\n",
    "import numpy as np\n",
    "import matplotlib.pylab as plt\n",
    "%matplotlib inline "
   ]
  },
  {
   "cell_type": "markdown",
   "metadata": {
    "tags": []
   },
   "source": [
    "# Problem 1\n",
    "***\n",
    "Consider a continuous random variable $X$ with a PDF given by:\n",
    "\n",
    "$f(x)=\n",
    "    \\begin{cases}\n",
    "        \\frac{1}{10}(1-\\frac{1}{20}x) & \\text{if } 0\\leq x\\leq20\\\\\n",
    "        0 & \\text{elsewhere} \n",
    "    \\end{cases}$\n",
    "    \n",
    "Furthermore, consider $Y$ to be a random variable with values $Y=3X+5$."
   ]
  },
  {
   "cell_type": "markdown",
   "metadata": {},
   "source": [
    "### Part A\n",
    "\n",
    "***(2 points)*** Show that $f(x)$ is a valid PDF."
   ]
  },
  {
   "cell_type": "markdown",
   "metadata": {},
   "source": [
    "***solution:*** Put your solution to Part A here:\n",
    "\n",
    "We must show:\n",
    "\n",
    "$\\int_{-\\infty}^{\\infty} f(x)dx = 1 $\n",
    "\n",
    "$\\Rightarrow \\int_{0}^{20} f(x)dx =   \\int_{0}^{20} \\frac{1}{10}(1-\\frac{1}{20}x) dx $\n",
    "\n",
    "$ = \\frac{x}{10}-\\frac{x^2}{400} |_0^{20} $\n",
    "\n",
    "$ = \\frac{20}{10}-\\frac{400}{400} = 2-1 = 1 $\n",
    "\n",
    "Furthermore, it is evident that $f(x) \\geq 0 $ for all of $x$ from $0$ to $20$:\n",
    "\n",
    "$ f(0) = 0.1 $\n",
    "\n",
    "$ f(20) = 0 $"
   ]
  },
  {
   "cell_type": "markdown",
   "metadata": {},
   "source": [
    "### Part B\n",
    "\n",
    "***(2 points)*** Find $E[X]$."
   ]
  },
  {
   "cell_type": "markdown",
   "metadata": {},
   "source": [
    "***solution:*** Put your solution to Part B here:\n",
    "\n",
    "We are going to use a substitution with $u$ and $du$ instead of reusing $x$:\n",
    "\n",
    "$ E[X] = \\int_{0}^{20} u f(u) du$\n",
    "\n",
    "$ = \\int_{0}^{20} u \\frac{1}{10}(1-\\frac{1}{20}u) du $\n",
    "\n",
    "$ = (\\frac{u^2}{20} - \\frac{u^3}{600}) |_0^{20} $\n",
    "\n",
    "$ = \\frac{20^2}{20} - \\frac{20^3}{600} = \\frac{20}{3} $\n",
    "\n",
    "$\\therefore E[X] = \\frac{20}{3} $"
   ]
  },
  {
   "cell_type": "markdown",
   "metadata": {},
   "source": [
    "### Part C\n",
    "\n",
    "***(2 points)*** Find $Var(X)$. "
   ]
  },
  {
   "cell_type": "markdown",
   "metadata": {},
   "source": [
    "***solution:*** Put your solution to part C here:\n",
    "\n",
    "$Var(X) = E[X^2] - (E[X])^2 $\n",
    "\n",
    " $E[X^2] = \\int_{-\\infty}^{\\infty} x^2 f(x) dx  $\n",
    "\n",
    "$ \\Rightarrow \\int_0^{20} u^2 f(u) du $\n",
    "\n",
    "$ = \\int_0^{20} \\frac{u^2}{10}(1-\\frac{u}{20}) du $\n",
    "\n",
    "$ = (\\frac{u^3}{30} - \\frac{u^4}{800}) |_0^{20} $\n",
    "\n",
    "$ = \\frac{20^3}{30} - \\frac{20^4}{800} = \\frac{200}{3} $\n",
    "\n",
    "$ Var(X) = \\frac{200}{3} - \\frac{400}{9} $\n",
    "\n",
    "$ \\therefore Var(X) = \\frac{200}{9} $"
   ]
  },
  {
   "cell_type": "markdown",
   "metadata": {},
   "source": [
    "### Part D\n",
    "\n",
    "***(2 points)*** Find $E[Y]$."
   ]
  },
  {
   "cell_type": "markdown",
   "metadata": {},
   "source": [
    "***solution:*** Put your solution to part D here:\n",
    "\n",
    "Recall $Y=3X+5$. Then,\n",
    "\n",
    "$E[Y] = E[3X+5] $\n",
    "\n",
    "We can distribute:\n",
    "\n",
    "$ E[Y] = 3E[X]+5 $\n",
    "\n",
    "From, part B:\n",
    "\n",
    "$ E[Y] = 3*\\frac{20}{3}+5 $\n",
    "\n",
    "$\\therefore E[Y] = 25 $\n",
    "\n"
   ]
  },
  {
   "cell_type": "markdown",
   "metadata": {},
   "source": [
    "### Part E\n",
    "\n",
    "***(2 points)*** Find $Var(Y)$."
   ]
  },
  {
   "cell_type": "markdown",
   "metadata": {},
   "source": [
    "***solution:*** Put your solution to part E here:\n",
    "\n",
    "Note the relation:\n",
    "\n",
    "$ Var(aX+b) = a^2Var(X) $\n",
    "\n",
    "Then, \n",
    "\n",
    "$ Var(Y) = Var(3X+5) = 3^2Var(X) = 9Var(X) $\n",
    "\n",
    "$ \\therefore Var(Y) = 200$"
   ]
  },
  {
   "cell_type": "markdown",
   "metadata": {
    "tags": []
   },
   "source": [
    "# Problem 2\n",
    "***\n",
    "\n",
    "![image](wheel.png)\n",
    "\n",
    "Consider the American roulette wheel as pictured above. "
   ]
  },
  {
   "cell_type": "markdown",
   "metadata": {
    "tags": []
   },
   "source": [
    "### Part A\n",
    "\n",
    "Suppose you decide to bet on red23 over and over and over again UNTIL you win, then you'll stop playing.\n",
    "\n",
    "Winning means the ball lands on the red23 slot - and it has an equal chance of landing in any of the slots. \n",
    "\n",
    "So, you might play only once (if you win in one game.) Or, perhaps you'll play twice, or three times, etc. before you win. \n",
    "\n",
    "Let $X$ be the random variable, \"Number of times you play till you win.\"\n",
    "\n",
    "***(2 points)*** How many times do you expect to play before you win?"
   ]
  },
  {
   "cell_type": "markdown",
   "metadata": {},
   "source": [
    "***solution:*** Put your answer to Part A here:\n",
    "\n",
    "There are 38 total possible outcomes on the roulette wheel. The probability of winning, $p$, is $\\frac{1}{38}$.\n",
    "\n",
    "Thus, we would expect to play the game 38 times until winning."
   ]
  },
  {
   "cell_type": "markdown",
   "metadata": {},
   "source": [
    "### Part B\n",
    "\n",
    "***(3 points)*** What is the probability that you don't win until your 4th attempt?"
   ]
  },
  {
   "cell_type": "markdown",
   "metadata": {},
   "source": [
    "***solution:*** Put your answer to Part B here:\n",
    "\n",
    "\n",
    "$ P(X=4) = (1-p)^{k-1}p $\n",
    "\n",
    "$ P(X=4) = \\frac{109}{4487} $\n",
    "\n"
   ]
  },
  {
   "cell_type": "markdown",
   "metadata": {},
   "source": [
    "### Part C\n",
    "\n",
    "Recall from Calculus that a geometric series with ratio $r$ diverges if $|r|>1$, but if $0<|r|<1$ then the series converges:\n",
    "\n",
    "$\\displaystyle{\\sum_{n=0}^{\\infty}ar^n=\\frac{a}{1-r}}$.\n",
    "\n",
    "Therefore, for $0<p<1$, we have $\\displaystyle{\\sum_{k=0}^{\\infty}p(1-p)^k=p\\cdot\\frac{1}{1-(1-p)}=1}.$\n",
    "\n",
    "***(5 points)*** Explain (show) why $\\displaystyle{E[X]=\\sum_{k=1}^{\\infty}kp(1-p)^{k-1}=\\frac{1}{p}}$."
   ]
  },
  {
   "cell_type": "markdown",
   "metadata": {},
   "source": [
    "***solution:*** Put your answer to Part C here:\n",
    "\n",
    "Denote the variable $q$ as $1-p$:\n",
    "\n",
    "$E[X]=\\sum_{k=1}^{\\infty}kp(q)^{k-1} $\n",
    "\n",
    "We know $\\frac{d}{dq}(q)^k = k(q)^{k-1}$:\n",
    "\n",
    "$E[X] = p\\frac{d}{dq}(\\sum_{k=1}^{\\infty}(q)^{k}) $\n",
    "\n",
    "We are given the convergence $\\displaystyle{\\sum_{n=0}^{\\infty}ar^n=\\frac{a}{1-r}}$ which allows us to write:\n",
    "\n",
    "$\\sum_{n=0}^{\\infty}ar^n=\\frac{ar}{1-r}$\n",
    "\n",
    "So, $a=1$ and $r=q$\n",
    "\n",
    "$E[X] = p\\frac{d}{dq}(\\frac{q}{1-q})=p\\frac{q'(1-q)-(1-q)'q}{(1-q)^2}  $\n",
    "\n",
    "$ = p\\frac{(1-q)+q}{(1-q)^2}$\n",
    "\n",
    "We can subsitute $p$:\n",
    "\n",
    "$ E[X] = p\\frac{1}{p^2} = \\frac{1}{p} $"
   ]
  },
  {
   "cell_type": "markdown",
   "metadata": {},
   "source": [
    "### Part D\n",
    "\n",
    "***(3 points)*** What is $E[X]$ ?"
   ]
  },
  {
   "cell_type": "markdown",
   "metadata": {},
   "source": [
    "***solution:*** Put your answer to Part D here:\n",
    "\n",
    "Applying Part C's answer:\n",
    "\n",
    "$E[X] = \\frac{1}{p} $\n",
    "\n",
    "$\\therefore E[X] = 38 $"
   ]
  },
  {
   "cell_type": "markdown",
   "metadata": {},
   "source": [
    "### Part E\n",
    "\n",
    "You are interested in knowing how much money you should expect to win $\\textbf{each time you play.}$ Afterall, you have decided to play over and over again till you win.\n",
    "\n",
    "Now, let $X$ be the random variable, \"Amount of money you win.\"\n",
    "\n",
    "You are still betting on 23red, and each bet costs \\$1.\n",
    "\n",
    "If you lose, you lose your dollar.\n",
    "\n",
    "If you win, you get your dollar back $\\textbf{and}$ you get an additional \\$35 for winning.\n",
    "\n",
    "***(3 points)*** What is $E[X]$ ?"
   ]
  },
  {
   "cell_type": "markdown",
   "metadata": {},
   "source": [
    "***solution:*** Put your answer to Part E here:\n",
    "\n",
    "We know $E[X] = \\sum_ia_i\\cdot P(X=a_i)$.\n",
    "\n",
    "So, we are able to write:\n",
    "\n",
    "$E[X] = p\\cdot 35 - q\\cdot 1$\n",
    "\n",
    "$ = \\frac{35}{38}-\\frac{37}{38} $\n",
    " \n",
    "$ = -\\frac{2}{38} $\n",
    "\n",
    "Thus, the expected winnings each time played is $-\\frac{2}{38} $ dollars."
   ]
  },
  {
   "cell_type": "markdown",
   "metadata": {
    "tags": []
   },
   "source": [
    "# Problem 3\n",
    "***\n",
    "\n",
    "***Using the definition*** of expected value and variance,\n",
    "\n",
    "Discrete: $E[X] = \\sum_ia_i\\cdot P(X=a_i)$.\n",
    "\n",
    "Continuous: $E[X] = \\int_{-\\infty}^{\\infty}xf(x)\\phantom{x}dx$\n",
    "\n",
    "$Var(X) = E\\left[(X-E[X])^2\\right] = E[X^2]-(E[X])^2$\n",
    "\n",
    "Find the following:"
   ]
  },
  {
   "cell_type": "markdown",
   "metadata": {},
   "source": [
    "### Part A\n",
    "\n",
    "***(3 points)*** Suppose $X$~$U[\\alpha, \\beta]$, find $E[X]$. $X$ takes on all real values between $\\alpha$ and $\\beta$."
   ]
  },
  {
   "cell_type": "markdown",
   "metadata": {},
   "source": [
    "***solution:*** Put your answer to Part A here:\n",
    "\n",
    "The uniform distribution can be written:\n",
    "\n",
    "$ f(x)=\n",
    "    \\begin{cases}\n",
    "       \\frac{1}{\\alpha-\\beta} & \\text{if } \\alpha \\leq x\\leq \\beta \\\\\n",
    "        0 & \\text{elsewhere} \n",
    "    \\end{cases} \n",
    "$\n",
    "\n",
    "We are given:\n",
    "\n",
    "$E[X] = \\int_{-\\infty}^{\\infty}xf(x)\\phantom{x}dx$\n",
    "\n",
    "So,\n",
    "\n",
    "$E[X] = \\int_{\\alpha}^{\\beta}x(\\frac{1}{\\alpha-\\beta})dx$\n",
    "\n",
    "$ = \\frac{x^2}{2}\\frac{1}{\\alpha-\\beta} |_{\\alpha}^{\\beta} = \\frac{(\\beta^2-\\alpha^2)}{2}\\frac{1}{\\alpha-\\beta}$\n",
    "\n",
    "$ = \\frac{(\\beta-\\alpha)(\\beta+\\alpha)}{2}\\frac{1}{\\alpha-\\beta}= \\frac{(\\alpha-\\beta)\\cdot -(\\beta+\\alpha)}{-2(\\alpha-\\beta)}$\n",
    "\n",
    "$ = \\frac{-(\\beta+\\alpha)}{-2} = \\frac{\\beta+\\alpha}{2} $\n",
    "\n",
    "$ \\therefore E[X] = \\frac{\\beta+\\alpha}{2} $"
   ]
  },
  {
   "cell_type": "markdown",
   "metadata": {},
   "source": [
    "### Part B\n",
    "\n",
    "***(3 points)*** Suppose $X$~$U[\\alpha, \\beta]$, find $Var[X]$."
   ]
  },
  {
   "cell_type": "markdown",
   "metadata": {},
   "source": [
    "***solution:*** Put your answer to Part B here:\n",
    "\n",
    "We are given $ Var[X] = E[X^2]-(E[X])^2$.\n",
    "\n",
    "So we need to find $E[X^2]$:\n",
    "\n",
    "$E[X^2] = \\int_{\\alpha}^{\\beta}x^2(\\frac{1}{\\alpha-\\beta})dx$\n",
    "\n",
    "$ = \\frac{x^3}{3}\\frac{1}{\\alpha-\\beta} |_{\\alpha}^{\\beta} = \\frac{(\\beta^3-\\alpha^3)}{3}\\frac{1}{\\alpha-\\beta}$\n",
    "\n",
    "$ = \\frac{(\\beta-\\alpha)(\\beta^2+\\beta\\alpha+\\alpha^2)}{3}\\frac{1}{\\alpha-\\beta}$\n",
    "\n",
    "$ = \\frac{(\\alpha-\\beta)\\cdot-(\\beta^2+\\beta\\alpha+\\alpha^2)}{-3(\\alpha-\\beta)}$\n",
    "\n",
    "$ = \\frac{-(\\beta^2+\\beta\\alpha+\\alpha^2)}{-3}$\n",
    "\n",
    "$E[X^2]  = \\frac{(\\beta^2+\\beta\\alpha+\\alpha^2)}{3}$\n",
    "\n",
    "$Var[X] = E[X^2]-(E[X])^2 = \\frac{(\\beta^2+\\beta\\alpha+\\alpha^2)}{3} - (\\frac{\\beta+\\alpha}{2})^2$\n",
    "\n",
    "$ = \\frac{(\\beta^2+\\beta\\alpha+\\alpha^2)}{3} - \\frac{(\\beta^2+2\\beta\\alpha+\\alpha^2)}{4} $\n",
    "\n",
    "$ = \\frac{4(\\beta^2+\\beta\\alpha+\\alpha^2)}{12} - \\frac{3(\\beta^2+2\\beta\\alpha+\\alpha^2)}{12} $\n",
    "\n",
    "$ = \\frac{\\beta^2-2\\alpha\\beta + \\alpha^2}{12} $\n",
    "\n",
    "$\\therefore Var[X] = \\frac{\\beta^2-2\\alpha\\beta + \\alpha^2}{12} $ "
   ]
  },
  {
   "cell_type": "markdown",
   "metadata": {},
   "source": [
    "### Part C\n",
    "\n",
    "***(3 points)*** Suppose $X$~$Ber(p)$, find $E[X]$."
   ]
  },
  {
   "cell_type": "markdown",
   "metadata": {},
   "source": [
    "***solution:*** Put your answer to Part C here:\n",
    "\n",
    "The bernoulli distribution can be written:\n",
    "\n",
    "$ f(x)=\n",
    "    \\begin{cases}\n",
    "       p^x(1-p)^{1-x} & \\text{if } x=(0,1) \\\\\n",
    "        0 & \\text{elsewhere} \n",
    "    \\end{cases} \n",
    "$\n",
    "\n",
    "We use the discrete version: $E[X] = \\sum_ia_i\\cdot P(X=a_i)$.\n",
    "\n",
    "$ E[X] =  \\sum_ia_i\\cdot (p^{a_i}\\cdot(1-p)^{1-a_i}$\n",
    "\n",
    "We only need to evaluate the summation for $0$ and $1$:\n",
    "\n",
    "$ E[X] = 0(p^0(1-p)^{1}) +  1(p(1-p)^{0}) = p $\n",
    "\n",
    "$ \\therefore E[X] = p $\n"
   ]
  },
  {
   "cell_type": "markdown",
   "metadata": {},
   "source": [
    "### Part D\n",
    "\n",
    "***(3 points)*** Suppose $X$~$Ber(p)$, find $Var[X]$."
   ]
  },
  {
   "cell_type": "markdown",
   "metadata": {},
   "source": [
    "***solution:*** Put your answer to Part D here:\n",
    "\n",
    "We know we need to find the second moment: $E[X^2] = \\sum_ia_i^2\\cdot P(X=a_i)$.\n",
    "\n",
    "$ E[X^2] =  \\sum_i a_i^2\\cdot (p^{a_i}\\cdot(1-p)^{1-a_i}$\n",
    "\n",
    "$ = 0^2(p^0(1-p)^{1}) +  1^2(p(1-p)^{0}) = p $\n",
    "\n",
    "Then, the variance:\n",
    "\n",
    "$Var[X] = E[X^2]-(E[X])^2 = p-p^2 $\n",
    "\n",
    "$\\therefore Var[X] = p-p^2 $"
   ]
  },
  {
   "cell_type": "markdown",
   "metadata": {
    "tags": []
   },
   "source": [
    "# Problem 4\n",
    "***\n",
    "\n",
    "Consider a card game played with a standard deck of 52 cards.\n",
    "\n",
    "The cards are shuffled, a card is chosen, recorded, and returned to the deck.\n",
    "\n",
    "This is done three times and the record of three choices is observed.\n",
    "\n",
    "The game costs \\$1 to play.\n",
    "\n",
    "If all three cards have the same number, then you get your dollar back plus \\$3.\n",
    "\n",
    "If you only have two cards with the same number, then you get your dollar back plus \\$2.\n",
    "\n",
    "If all three cards are of the same suit, then you get your dollar back plus \\$2.\n",
    "\n",
    "Examples:\n",
    "\n",
    "Ace of spades, Ace of clubs, 5 of diamonds: dollar back plus \\$2.\n",
    "\n",
    "Ace of spaces,2 of spades, 7 of spades: dollar back plus \\$2.\n",
    "\n",
    "5 of diamonds, 8 of diamonds, 8 of diamonds: dollar back plus \\$2, plus \\$2.\n",
    "\n",
    "4 of hearts, 4 of hearts, 4 hearts: dollar back plus \\$3, plus \\$2.\n",
    "\n",
    "6 of diamonds, 6 of hearts, 6 of clubs: dollar back plus \\$3.\n",
    "\n",
    "3 of hearts, 5 of diamonds, Queen of clubs: Lose your dollar.\n",
    "\n",
    "***(7 points)*** Write a function or functions that will create a random draw of three cards as described above. Simulate this game (at least 1000 times) and determine from the simulation the expected winnings per dollar of this game. "
   ]
  },
  {
   "cell_type": "code",
   "execution_count": 164,
   "metadata": {},
   "outputs": [
    {
     "name": "stdout",
     "output_type": "stream",
     "text": [
      "The expected winnings per game is $ -0.130 .\n"
     ]
    }
   ],
   "source": [
    "# Put your code for Problem 4 here:\n",
    "def pick_card(): # choose 1-13 card, choose 1-4 possible suit\n",
    "    numbers = np.array([str(ii) for ii in range(1,13+1)])\n",
    "    number = np.random.choice(numbers)\n",
    "    suits = np.array([\"Hearts\",\"Diamonds\",\"Spades\",\"Clubs\"])\n",
    "    suit = np.random.choice(suits)\n",
    "    #print(number+\" of \"+suit)\n",
    "    return number,suit;\n",
    "\n",
    "\n",
    "def earnings(money): \n",
    "    money = money - 1; # subtract cost\n",
    "    num1,suit1 = pick_card() # pick 3 cards\n",
    "    num2,suit2 = pick_card()\n",
    "    num3,suit3 = pick_card()\n",
    "    cond1 = 0; cond2 = 0; cond3 = 0; # preallocate return conditions\n",
    "    if(num1==num2==num3): # all card numbers are same\n",
    "        cond1 = (3+1)\n",
    "    if(num1==num2 or num1==num3 or num2==num3): # 2 card numbers are same\n",
    "        cond2 = (2+1)\n",
    "    if(suit1==suit2==suit3): # all suits are same\n",
    "        cond3 = (2+1)\n",
    "    money = money+(cond1+cond2+cond3) # return money\n",
    "    return money\n",
    "\n",
    "money = 1 # preallocate 1$\n",
    "n = 10000;\n",
    "for i in range(0,n): # 10000 sims\n",
    "    money = earnings(money);\n",
    "    \n",
    "result = money/n # calculate money/game\n",
    "result = \"{:.3f}\".format(result)\n",
    "print(\"The expected winnings per game is $\", result,\".\")"
   ]
  },
  {
   "cell_type": "markdown",
   "metadata": {},
   "source": [
    "### Rubric Check\n",
    "***\n",
    "***(5 points)*** Makesure your answers are thorough but not redundant. Explain your answers, don't just put a number. Make sure you have matched your questions on Gradescope. Make sure your PDF is correct and your LaTeX is correct. etc. etc. BE NEAT."
   ]
  },
  {
   "cell_type": "code",
   "execution_count": null,
   "metadata": {},
   "outputs": [],
   "source": []
  }
 ],
 "metadata": {
  "kernelspec": {
   "display_name": "Python 3 (ipykernel)",
   "language": "python",
   "name": "python3"
  },
  "language_info": {
   "codemirror_mode": {
    "name": "ipython",
    "version": 3
   },
   "file_extension": ".py",
   "mimetype": "text/x-python",
   "name": "python",
   "nbconvert_exporter": "python",
   "pygments_lexer": "ipython3",
   "version": "3.10.5"
  }
 },
 "nbformat": 4,
 "nbformat_minor": 4
}
