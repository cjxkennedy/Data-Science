{
 "cells": [
  {
   "cell_type": "markdown",
   "metadata": {
    "tags": []
   },
   "source": [
    "# Homework 04: Bayes and DRV's\n",
    "***\n",
    "\n",
    "**Name**: CJ Kennedy\n",
    "\n",
    "***\n",
    "\n",
    "This assignment is due on Canvas by **6:00PM on Friday September 23**. Your solutions to theoretical questions should be done in Markdown directly below the associated question.  Your solutions to computational questions should include any specified Python code and results as well as written commentary on your conclusions.  Remember that you are encouraged to discuss the problems with your classmates, but **you must write all code and solutions on your own**.\n",
    "\n",
    "**NOTES**: \n",
    "\n",
    "- Any relevant data sets should be available in the Homework 01 assignment write-up on Canvas. To make life easier on the grader if they need to run your code, do not change the relative path names here. Instead, move the files around on your computer.\n",
    "- If you're not familiar with typesetting math directly into Markdown then by all means, do your work on paper first and then typeset it later.  Remember that there is a [reference guide](https://math.meta.stackexchange.com/questions/5020/mathjax-basic-tutorial-and-quick-reference) linked on Canvas on writing math in Markdown. **All** of your written commentary, justifications and mathematical work should be in Markdown.\n",
    "- Because you can technically evaluate notebook cells is a non-linear order, it's a good idea to do $\\color{red}{\\text{Kernel}}$ $\\color{red}\\rightarrow$ $\\color{red}{\\text{Restart & Run All}}$ as a check before submitting your solutions.  That way if we need to run your code you will know that it will work as expected. \n",
    "- It is **bad form** to make your reader interpret numerical output from your code.  If a question asks you to compute some value from the data you should show your code output **AND** $\\color{red}{\\text{write a summary of the results}}$ in Markdown directly below your code. \n",
    "- This probably goes without saying, but... For any question that asks you to calculate something, you **must show all work and justify your answers to receive credit**. Sparse or nonexistent work will receive sparse or nonexistent credit. \n",
    "\n",
    "---"
   ]
  },
  {
   "cell_type": "markdown",
   "metadata": {},
   "source": [
    "Import Pandas and NumPy."
   ]
  },
  {
   "cell_type": "code",
   "execution_count": 1,
   "metadata": {},
   "outputs": [],
   "source": [
    "# Per the standard import pandas as 'pd' and numpy as 'np'\n",
    "import pandas as pd\n",
    "import numpy as np\n",
    "\n",
    "# You may need binom to calculate a binomial coefficient\n",
    "from scipy.special import binom"
   ]
  },
  {
   "cell_type": "markdown",
   "metadata": {},
   "source": [
    "In case you create a graph, load Matplotlib's Pylab library to set up Jupyter so that it will plot directly in the notebook."
   ]
  },
  {
   "cell_type": "code",
   "execution_count": 2,
   "metadata": {},
   "outputs": [],
   "source": [
    "import matplotlib.pylab as plt\n",
    "%matplotlib inline \n",
    "    # 'inline' puts your graph in the cell versus a new popup window"
   ]
  },
  {
   "cell_type": "markdown",
   "metadata": {
    "tags": []
   },
   "source": [
    "# Problem 1\n",
    "***\n",
    "You have become concerned about your diet and decide that at each of your regular three meals per day that you eat, you are going to add a serving with a particular important nutrient. Sometimes you add vitamin C, sometimes you add protein, and sometimes you add iron.\n",
    "\n",
    "For instance, on a given day, you may eat an additional vitamin C serving for breakfast, an additional protein serving for lunch, and another additional protein serving for dinner.\n",
    "\n",
    "On a different day you decide to add iron to breakfast, vitamin C to lunch, and protein to dinner. What you choose to add to each meal is a random choice.\n",
    "\n",
    "Let $X$ be a random variable that indicates how many servings of protein you added on a given day."
   ]
  },
  {
   "cell_type": "markdown",
   "metadata": {},
   "source": [
    "### Part A\n",
    "***\n",
    "\n",
    "***(1 points)*** What is the probability mass function of $X$?"
   ]
  },
  {
   "cell_type": "markdown",
   "metadata": {},
   "source": [
    "***solution:*** \n",
    "\n",
    "Let, $x_i$ represent the possible values of vitamin c, protein, and iron. Then, the probability mass function for $X$ is defined as:\n",
    "$ p(X=x_i) = P({s \\in S | X(s) = x_i} ) $\n",
    "\n",
    "The binomial distrubtion then describes:\n",
    " \n",
    "$ p_X(k) = P(X=k) = \\binom nk p^k (1-p)^{n-k} $\n",
    "\n",
    "Thus, this allows for finding the PMS of X:\n",
    "\n",
    "\n",
    "\n",
    "$$\\begin{array}{c|ccc}\n",
    "a & 0 & 1 & 2 & 3 \\\\\n",
    "\\hline\n",
    "p(a) & \\frac{8}{27} & \\frac{4}{9} & \\frac{2}{9} & \\frac{1}{27} \\\\\n",
    "\\end{array}$$"
   ]
  },
  {
   "cell_type": "markdown",
   "metadata": {},
   "source": [
    "### Part B\n",
    "***\n",
    "\n",
    "***(1 points)*** What is the cumulative distribution function for $X$?\n",
    "\n"
   ]
  },
  {
   "cell_type": "markdown",
   "metadata": {},
   "source": [
    "***solution:*** \n",
    "\n",
    "The cumulative distribution function can be solved for with the PMS. Speficially:\n",
    "\n",
    "$ F(x_i) = P(x_i)+P(x_{i-1}) $\n",
    "\n",
    "Thus, the CDF can be solve for:\n",
    "$$\\begin{array}{c|ccc}\n",
    "a & 0 & 1 & 2 & 3 \\\\\n",
    "\\hline\n",
    "F(a) & \\frac{8}{27} & \\frac{20}{27} & \\frac{26}{27} & 1 \\\\\n",
    "\\end{array}$$"
   ]
  },
  {
   "cell_type": "markdown",
   "metadata": {},
   "source": [
    "### Part C\n",
    "***\n",
    "\n",
    "***(1 points)*** What is the probability that you added 2 or fewer servings of protein on a day?"
   ]
  },
  {
   "cell_type": "markdown",
   "metadata": {},
   "source": [
    "***solution:***\n",
    "\n",
    "The probability on a day that we added 2 or less protein servings is\n",
    "\n",
    "$$\n",
    "F(2) = P(X \\leq 2) = \\frac{26}{27}\n",
    "$$\n"
   ]
  },
  {
   "cell_type": "markdown",
   "metadata": {
    "tags": []
   },
   "source": [
    "### Part D\n",
    "***\n",
    "\n",
    "***(1 points)*** What is the probability that you added 2 or more servings or protein?\n"
   ]
  },
  {
   "cell_type": "markdown",
   "metadata": {},
   "source": [
    "***solution:*** \n",
    "\n",
    "The probability on a day that we added 2 or more protein servings is\n",
    "\n",
    "$$\n",
    "F(2) = P(X \\geq 2) = \\frac{2}{9}+\\frac{1}{27}=\\frac{7}{27}\n",
    "$$"
   ]
  },
  {
   "cell_type": "markdown",
   "metadata": {
    "tags": []
   },
   "source": [
    "# Problem 2\n",
    "***\n",
    "\n",
    "You drink 3 cups of coffee each day, and in a continuation of your plans to change your diet you decide to stop using sugar in your coffee.\n",
    "\n",
    "However, you find it too difficult to completely stop using sugar. Therefore, 20% of the time you end up using sugar in your coffee anyway.\n",
    "\n",
    "Let $X$ be the random variable that indicates the number of 'sugared' coffees out of three that you drink per day.\n",
    "\n",
    "***(1 points)*** What is the probability mass function? Consider 'no sugar' to be success."
   ]
  },
  {
   "cell_type": "markdown",
   "metadata": {},
   "source": [
    "***solution:*** \n",
    "\n",
    "Elements from the PMF are described by:\n",
    "\n",
    "$ p_X(k) = P(X=k) = \\binom nk p^k (1-p)^{n-k} $\n",
    "\n",
    "For example, $p_X(1)$ and $p_X(2)$ are solved for by: \n",
    "\n",
    "$ p_X(1) = \\binom31 (\\frac{1}{5})^1(1-\\frac{4}{5})^2 = \\frac{48}{125} $\n",
    "\n",
    "$ p_X(2) = \\binom32 (\\frac{1}{5})^2(1-\\frac{4}{5}) = \\frac{12}{125} $\n",
    "\n",
    "Continuing this, the whole PMF table can be created:\n",
    "$$\\begin{array}{c|ccc}\n",
    "a & 0 & 1 & 2 & 3 \\\\\n",
    "\\hline\n",
    "p(a) & \\frac{64}{125} & \\frac{80}{125} & \\frac{48}{125} & \\frac{1}{125} \\\\\n",
    "\\end{array}$$\n",
    "\n",
    "The following code verifies the binomial pmf."
   ]
  },
  {
   "cell_type": "code",
   "execution_count": 3,
   "metadata": {},
   "outputs": [
    {
     "name": "stdout",
     "output_type": "stream",
     "text": [
      "0 | 0.5120\n",
      "1 | 0.3840\n",
      "2 | 0.0960\n",
      "3 | 0.0080\n"
     ]
    }
   ],
   "source": [
    "def binomial_pmf(n, p):\n",
    "    pmf = np.array([binom(n,k)*(p**k)*((1-p)**(n-k)) for k in range(n+1)])\n",
    "    return pmf\n",
    "\n",
    "pmf = binomial_pmf(3,.2)\n",
    "\n",
    "for k, prob in enumerate(pmf):\n",
    "    print(\"{} | {:0.4f}\".format(k, prob))\n",
    "    \n",
    "# Here is a check that your binomial_pmf function at least sums to 1\n",
    "# assert np.sum(pmf)==1, \"Error: pmf does not add up to 1\"\n",
    "#np.sum(pmf)"
   ]
  },
  {
   "cell_type": "markdown",
   "metadata": {
    "tags": []
   },
   "source": [
    "# Problem 3\n",
    "***\n",
    "Consider the probability mass function $P(X=x) = 2nx^2-2nx$ with the discrete random variable taking on values $1, 2, 3, 4$."
   ]
  },
  {
   "cell_type": "markdown",
   "metadata": {},
   "source": [
    "### Part A\n",
    "***\n",
    "\n",
    "***(3 points)*** What is the value of $n$?"
   ]
  },
  {
   "cell_type": "markdown",
   "metadata": {},
   "source": [
    "***solution:*** \n",
    "\n",
    "Evaluate the probability mass function for the given values and equation:\n",
    "\n",
    "$$\\begin{array}{c|ccc}\n",
    "a & 1 & 2 & 3 & 4 \\\\\n",
    "\\hline\n",
    "p(a) & 0 & 4n & 12n & 24n \\\\\n",
    "\\end{array}$$\n",
    "\n",
    "Given the sum of the elements must equal 1:\n",
    "\n",
    "$$\n",
    " \\sum_{x_i} p(x_i) = p(x_1) + p(x_2) + p(x_3) + ... = 1 \n",
    " \\rightarrow 0+4n+12n+24n = 1\n",
    "$$\n",
    "\n",
    "$$ 40n = 1 \\Rightarrow n = \\frac{1}{40}\n",
    "$$"
   ]
  },
  {
   "cell_type": "markdown",
   "metadata": {},
   "source": [
    "### Part B\n",
    "***\n",
    "\n",
    " ***(2 points)*** What is $P(X=4)$?"
   ]
  },
  {
   "cell_type": "markdown",
   "metadata": {},
   "source": [
    "***solution:*** \n",
    "\n",
    "Rewrite: \n",
    "\n",
    "$ P(X=4) = p(4) = 24n $\n",
    "\n",
    "Substitute n:\n",
    "\n",
    "$ P(X=4) = \\frac{24}{40} = \\frac{3}{5} $"
   ]
  },
  {
   "cell_type": "markdown",
   "metadata": {},
   "source": [
    " ### Part C\n",
    " ***\n",
    " \n",
    "***(2 points)*** What is $P(X\\leq3)=$?"
   ]
  },
  {
   "cell_type": "markdown",
   "metadata": {},
   "source": [
    "***solution:*** \n",
    "\n",
    "Rewrite and subsitute:\n",
    "\n",
    "$P(X\\leq4)= p(4)+p(3)+p(2)+p(1) = \\frac{40}{40} = 1 $"
   ]
  },
  {
   "cell_type": "markdown",
   "metadata": {
    "tags": []
   },
   "source": [
    "# Problem 4\n",
    "***\n",
    "\n",
    "One of the following graphs (either graph 1 or graph 2) is a PMF and one is not.\n",
    "\n",
    "***(2 points)*** Draw the CDF for the one valid PMF.\n",
    "\n",
    "GRAPH 1\n",
    "![title](npdf.png)\n",
    "\n",
    "GRAPH 2\n",
    "![title](ypdf.png)"
   ]
  },
  {
   "cell_type": "markdown",
   "metadata": {},
   "source": [
    "The PMF has the property:\n",
    "\n",
    "$ \\sum_{x_i} p(x_i) = p(x_1) + p(x_2) + p(x_3) + ... = 1 $\n",
    "\n",
    "The sum of all the values of each \"point\" in the graph would need to equal 1.\n",
    "\n",
    "Thus, GRAPH 2 is the correct PMF since $.5+.3+.2=1$.\n",
    "\n",
    "Next, the CDF is defined as:\n",
    "\n",
    "$ F(a) = P(X\\leq a) $\n",
    "\n",
    "The following code then creates datapoints and plots CDF:\n"
   ]
  },
  {
   "cell_type": "code",
   "execution_count": 4,
   "metadata": {},
   "outputs": [
    {
     "data": {
      "image/png": "[encoded data removed]",
      "text/plain": [
       "<Figure size 432x288 with 1 Axes>"
      ]
     },
     "metadata": {
      "needs_background": "light"
     },
     "output_type": "display_data"
    }
   ],
   "source": [
    "# create data\n",
    "x = np.array([-1, 0, 1, 2, 3])\n",
    "y = np.array([0, 0, .2, .2+.3,.2+.3+.5])\n",
    "\n",
    "# plot\n",
    "fig, ax = plt.subplots()\n",
    "\n",
    "ax.step(x, y, linewidth=2.5)\n",
    "\n",
    "ax.set(xlim=(-1, 3), xticks=np.arange(0,3),\n",
    "       ylim=(0, 1), yticks=np.arange(0, 2))\n",
    "ax.set_yticks([0, .2, .5, 1])\n",
    "ax.set_title(\"CDF\")  \n",
    "plt.show()"
   ]
  },
  {
   "cell_type": "markdown",
   "metadata": {
    "tags": []
   },
   "source": [
    "# Problem 5\n",
    "***\n",
    "\n",
    "![title](3die.png)\n",
    "You are the proud new owner of a three sided die!\n",
    "\n",
    "The sides are marked '1', '2', and '3'. Let $X$ be the amount of 3's obtained after rolling the die twice.\n",
    "\n",
    "If $S$ is the sample space, then $X:S\\to\\mathbb{R}$, and $p(x_i)=P(X=x_i)=P(\\{s\\in S|X(s)=x_i\\})$"
   ]
  },
  {
   "cell_type": "markdown",
   "metadata": {},
   "source": [
    "### Part A\n",
    "***\n",
    "\n",
    "   1] ***(2 points)*** What is $X((3, 3))$?\n",
    "   \n",
    "   2] ***(2 points)*** What is $X((2, 3))$?"
   ]
  },
  {
   "cell_type": "markdown",
   "metadata": {},
   "source": [
    "***solution:*** \n",
    "1] $X((3, 3))$ is the event that a 3 is rolled followed by another 3 rolled. Thus, $X((3, 3))=2$\n",
    "\n",
    "2] $X((2, 3))$ is the event that a 2 is rolled followed by a 3. Thus, $X((2, 3))=1$"
   ]
  },
  {
   "cell_type": "markdown",
   "metadata": {},
   "source": [
    "### Part B\n",
    "***\n",
    "\n",
    "   1] ***(2 points)*** What is $p(2)$?\n",
    "\n",
    "   2] ***(2 points)*** What is $p(1)$?"
   ]
  },
  {
   "cell_type": "markdown",
   "metadata": {},
   "source": [
    "***solution:*** \n",
    "The probability of rolling a 3 is $\\frac{1}{3}$, the dice is rolled twice ($n=2$) so:\n",
    "\n",
    "1] $p(2) \\Rightarrow P(X=2) = \\binom 22 \\frac{1}{3}^2 (1-p)^{0} $ = \\frac{1}{9}$\n",
    "\\binom nk p^k (1-p)^{n-k} \n",
    "2] $p(1) \\Rightarrow P(X=1) = \\binom 21 \\frac{1}{3} (1-p)^{1} $ = \\frac{5}{9} $"
   ]
  },
  {
   "cell_type": "markdown",
   "metadata": {},
   "source": [
    "### Part C\n",
    "***\n",
    "\n",
    "1] ***(2 points)*** Create a table of values for the PMF.\n",
    "\n",
    "2] ***(4 points)*** Create (code) a graph for the PMF."
   ]
  },
  {
   "cell_type": "markdown",
   "metadata": {},
   "source": [
    "***solution:*** \n",
    "\n",
    "$$\\begin{array}{c|cc}\n",
    "a & 0 & 1 & 2 \\\\\n",
    "\\hline\n",
    "p(a) & \\frac{4}{9} & \\frac{4}{9} & \\frac{1}{9} \\\\\n",
    "\\end{array}$$\n"
   ]
  },
  {
   "cell_type": "code",
   "execution_count": 5,
   "metadata": {},
   "outputs": [
    {
     "name": "stdout",
     "output_type": "stream",
     "text": [
      "0 | 0.4444\n",
      "1 | 0.4444\n",
      "2 | 0.1111\n"
     ]
    },
    {
     "data": {
      "image/png": "[encoded data removed]",
      "text/plain": [
       "<Figure size 432x288 with 1 Axes>"
      ]
     },
     "metadata": {
      "needs_background": "light"
     },
     "output_type": "display_data"
    }
   ],
   "source": [
    "# adapted from nb7 \n",
    "def binomial_pmf(n, p):\n",
    "    pmf = np.array([binom(n,k)*(p**k)*((1-p)**(n-k)) for k in range(n+1)])\n",
    "    return pmf\n",
    "\n",
    "pmf = binomial_pmf(2,1/3)\n",
    "\n",
    "for k, prob in enumerate(pmf):\n",
    "    print(\"{} | {:0.4f}\".format(k, prob))\n",
    "    \n",
    "# plot\n",
    "fig, ax = plt.subplots()\n",
    "\n",
    "ax.stem(range(1,len(pmf)+1),pmf)\n",
    "\n",
    "ax.set(xlim=(0, 4), xticks=np.arange(0, 4),\n",
    "       ylim=(0, .5), yticks=np.arange(0, 1))\n",
    "#ax.set_yticks([ .2963, .44, .22, .037])\n",
    "ax.set_yticks([ .444, .444, .111])\n",
    "ax.set_xticks([ 0, 1, 2])\n",
    "ax.set_title(\"PMF\")  \n",
    "ax.set_xlabel(\"X\")\n",
    "plt.show()"
   ]
  },
  {
   "cell_type": "markdown",
   "metadata": {},
   "source": [
    "### Part D\n",
    "***\n",
    "\n",
    "   1] ***(2 points)*** Create a table of values for the CDF.\n",
    "\n",
    "   2] ***(2 points)*** Create a piecewise function for the CDF.\n",
    "\n",
    "   3] ***(4 points)*** Create (code) a graph for the CDF."
   ]
  },
  {
   "cell_type": "markdown",
   "metadata": {},
   "source": [
    "***solution:*** Put your solution to Part D, #1, here:\n",
    "\n",
    "$$\\begin{array}{c|ccc}\n",
    "a & 0 & 1 & 2 & 3 \\\\\n",
    "\\hline\n",
    "F(a) & \\frac{8}{27} & \\frac{20}{27} & \\frac{26}{27} & 1 \\\\\n",
    "\\end{array}$$"
   ]
  },
  {
   "cell_type": "markdown",
   "metadata": {},
   "source": [
    "***solution:*** Put your solution to Part D, #2, here:\n",
    "\n",
    "$$\n",
    "\\begin{equation}\n",
    "F(a)=\n",
    "    \\begin{cases}\n",
    "        \\frac{8}{27} & \\text{if } x = 0\\\\\n",
    "        \\frac{20}{27} & \\text{if } x = 1\\\\\n",
    "        \\frac{26}{27} & \\text{if } x = 2\\\\\n",
    "        1 & \\text{if } x = 3\\\\\n",
    "    \\end{cases}\n",
    "\\end{equation}\n",
    "$$"
   ]
  },
  {
   "cell_type": "code",
   "execution_count": 6,
   "metadata": {},
   "outputs": [
    {
     "data": {
      "image/png": "[encoded data removed]",
      "text/plain": [
       "<Figure size 432x288 with 1 Axes>"
      ]
     },
     "metadata": {
      "needs_background": "light"
     },
     "output_type": "display_data"
    }
   ],
   "source": [
    "# part D, #3\n",
    "# create data\n",
    "x = np.array([0, 1, 2, 3, 4])\n",
    "y = np.array([0, 8/27, 20/27, 26/27,1])\n",
    "\n",
    "# plot and set limits\n",
    "fig, ax = plt.subplots()\n",
    "\n",
    "ax.step(x, y, linewidth=2.5)\n",
    "\n",
    "ax.set(xlim=(0, 4), xticks=np.arange(0,4),\n",
    "       ylim=(0, 1.2), yticks=np.arange(0, 2))\n",
    "ax.set_yticks([0, .296, .74, 1])\n",
    "ax.set_title(\"CDF\")  \n",
    "plt.show()"
   ]
  },
  {
   "cell_type": "markdown",
   "metadata": {
    "tags": []
   },
   "source": [
    "# Problem 6\n",
    "***\n",
    "\n",
    "### Part A\n",
    "\n",
    "We are still playing with our new three sided die and we are still considering rolling a '3' a success. Only now we are rolling the die 10 times!\n",
    "\n",
    "Suppose you actually rolled the 3-sided die ten times and counted how many times you rolled a '3'.\n",
    "\n",
    "You could get zero amount of 3's.\n",
    "\n",
    "You could roll a '3' only once.\n",
    "\n",
    "You could roll a '3' two out of ten times.\n",
    "\n",
    "You might even roll a '3' ten out of ten times!\n",
    "\n",
    "Write a $\\color{red}{\\text{function}}$ that takes in the parameters $n=10$ (for ten rolls of the 3-sided die) and $p=\\frac{1}{3}$ (for the probability of rolling a '3'). The function should $\\color{red}{\\text{return the PMF}}$ as a Numpy array.\n",
    "\n",
    "***(4 points)*** Use the function to print out the PMF as a table of values after rolling the 3-sided die 10 times.\n",
    "\n",
    "i.e. the table should show the probability of rolling zero 3's, one 3, two 3's,..., ten 3's."
   ]
  },
  {
   "cell_type": "code",
   "execution_count": 7,
   "metadata": {},
   "outputs": [
    {
     "name": "stdout",
     "output_type": "stream",
     "text": [
      "0 | 0.01734\n",
      "1 | 0.08671\n",
      "2 | 0.19509\n",
      "3 | 0.26012\n",
      "4 | 0.22761\n",
      "5 | 0.13656\n",
      "6 | 0.05690\n",
      "7 | 0.01626\n",
      "8 | 0.00305\n",
      "9 | 0.00034\n",
      "10 | 0.00002\n"
     ]
    }
   ],
   "source": [
    "# Adapted from nb07\n",
    "def binomial_pmf(n, p):\n",
    "    pmf = np.array([binom(n,k)*(p**k)*((1-p)**(n-k)) for k in range(n+1)])\n",
    "    return pmf\n",
    "\n",
    "pmf = binomial_pmf(10, 1/3) # rolling the 3-sided die 10 times looking for 3's\n",
    "\n",
    "\n",
    "for k, prob in enumerate(pmf):\n",
    "    print(\"{} | {:0.5f}\".format(k, prob))"
   ]
  },
  {
   "cell_type": "markdown",
   "metadata": {},
   "source": [
    "### Part B\n",
    "\n",
    "Suppose you rolled the die ten times and wrote down how many 3's resulted.\n",
    "\n",
    "Then, you again rolled the die ten times and again wrote down how many 3's resulted.\n",
    "\n",
    "And again you roll ten times and record. And again. And again.\n",
    "\n",
    "In totality, lets say you recorded results 20 times. That is, twenty times in a row you rolled the 3-sided die 10 times and recorded the amount of 3' that appeared out of the 10 rolls.\n",
    "\n",
    "You might get 20 results like [2 2 4 4 2 4 5 2 5 2 2 4 2 1 3 1 3 2 3 3] representing 2 out of 10, 2 out of ten, 4 out of ten, etc.\n",
    "\n",
    "In order to determine how many successes (amount of 3's) TYPICALLY result when you roll this die ten times, you could look at a histogram (a distribution) of your 20 recordings. Better yet, a more accurate picture results from looking at a distribution of 100000 recordings.\n",
    "\n",
    "***(4 points)*** Create (code) a density histogram of 100000 results to get an estimation of the distribution (aka PMF)."
   ]
  },
  {
   "cell_type": "code",
   "execution_count": 8,
   "metadata": {},
   "outputs": [
    {
     "data": {
      "image/png": "[encoded data removed]",
      "text/plain": [
       "<Figure size 432x288 with 2 Axes>"
      ]
     },
     "metadata": {
      "needs_background": "light"
     },
     "output_type": "display_data"
    }
   ],
   "source": [
    "# Adapted from nb07\n",
    "n = 10\n",
    "p = 1/3\n",
    "\n",
    "sample = np.random.binomial(n=n, p=p, size=100000)\n",
    "bins = np.arange(-0.5, 11.5, 1)\n",
    "\n",
    "X = np.array(range(n+1))\n",
    "pmf = binomial_pmf(n, p)\n",
    "\n",
    "fig, ax = plt.subplots(nrows=2, ncols=1)\n",
    "\n",
    "ax[0].hist(sample, edgecolor='white', density=True, bins=bins, rwidth=0.8)\n",
    "ax[0].set_axisbelow(True)\n",
    "ax[0].grid(alpha=0.25)\n",
    "ax[0].set_xlim([-0.7, 9]);\n",
    "ax[0].set_ylim([0, 0.4])\n",
    "ax[0].set_title(\"Density Histogram from Simulation\")\n",
    "ax[1].set_ylim([0, 0.4])\n",
    "ax[1].set_xlim([-0.7, 9]);\n",
    "ax[1].bar(X, pmf)\n",
    "ax[1].set_axisbelow(True)\n",
    "ax[1].grid(alpha=0.25);"
   ]
  },
  {
   "cell_type": "markdown",
   "metadata": {
    "tags": []
   },
   "source": [
    "# Part C\n",
    "\n",
    "***(1 point)*** From the PMF just created, what appears to be the most common result? In other words, how many times will '3' most commonly appear after rolling a 3-sided die ten times?"
   ]
  },
  {
   "cell_type": "markdown",
   "metadata": {},
   "source": [
    "***solution:*** \n",
    "\n",
    "The top histogram is the PMF created from a sample distribution while the bottom histogram is a PMF created with proper calculation. \n",
    "\n",
    "According to both histograms, the most common result is 3."
   ]
  },
  {
   "cell_type": "markdown",
   "metadata": {
    "tags": []
   },
   "source": [
    "### Rubric Check\n",
    "***\n",
    "***(5 points)*** Makesure your answers are thorough but not redundant. Explain your answers, don't just put a number. Make sure you have matched your questions on Gradescope. Make sure your PDF is correct and your LaTeX is correct. etc. etc. BE NEAT."
   ]
  },
  {
   "cell_type": "code",
   "execution_count": null,
   "metadata": {},
   "outputs": [],
   "source": []
  }
 ],
 "metadata": {
  "kernelspec": {
   "display_name": "Python 3 (ipykernel)",
   "language": "python",
   "name": "python3"
  },
  "language_info": {
   "codemirror_mode": {
    "name": "ipython",
    "version": 3
   },
   "file_extension": ".py",
   "mimetype": "text/x-python",
   "name": "python",
   "nbconvert_exporter": "python",
   "pygments_lexer": "ipython3",
   "version": "3.10.5"
  }
 },
 "nbformat": 4,
 "nbformat_minor": 4
}
